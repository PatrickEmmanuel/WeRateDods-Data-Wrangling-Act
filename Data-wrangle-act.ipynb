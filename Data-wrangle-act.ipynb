{
 "cells": [
  {
   "cell_type": "markdown",
   "id": "e43e4efb",
   "metadata": {},
   "source": [
    "# Project: Wrangling and Analyze Data"
   ]
  },
  {
   "cell_type": "code",
   "execution_count": 1,
   "id": "779672f5",
   "metadata": {
    "ExecuteTime": {
     "end_time": "2022-11-12T01:41:50.662058Z",
     "start_time": "2022-11-12T01:41:10.659580Z"
    }
   },
   "outputs": [],
   "source": [
    "import pandas as pd\n",
    "import numpy as np\n",
    "import matplotlib.pyplot as plt\n",
    "import seaborn\n",
    "import requests\n",
    "import json\n",
    "from tweepy import OAuthHandler\n",
    "from timeit import default_timer as timer\n",
    "import tweepy\n",
    "import re\n",
    "import seaborn as sns\n",
    "%matplotlib inline "
   ]
  },
  {
   "cell_type": "markdown",
   "id": "68e32404",
   "metadata": {},
   "source": [
    "## Data Gathering\n",
    "In the cell below, gather **all** three pieces of data for this project and load them in the notebook. **Note:** the methods required to gather each data are different.\n",
    "1. Directly download the WeRateDogs Twitter archive data (twitter_archive_enhanced.csv)"
   ]
  },
  {
   "cell_type": "code",
   "execution_count": 2,
   "id": "8743b8e1",
   "metadata": {
    "ExecuteTime": {
     "end_time": "2022-11-12T01:52:18.991612Z",
     "start_time": "2022-11-12T01:52:18.647881Z"
    }
   },
   "outputs": [],
   "source": [
    "twitter_enhanced = pd.read_csv(\"twitter-archive-enhanced.csv\")\n",
    "pd.set_option(\"display.max_colwidth\", None)"
   ]
  },
  {
   "cell_type": "markdown",
   "id": "3f252f42",
   "metadata": {
    "ExecuteTime": {
     "end_time": "2022-11-12T02:03:08.110609Z",
     "start_time": "2022-11-12T02:03:08.093612Z"
    }
   },
   "source": [
    "2. Use the Requests library to download the tweet image prediction (image_predictions.tsv)"
   ]
  },
  {
   "cell_type": "code",
   "execution_count": 4,
   "id": "24d68cc6",
   "metadata": {
    "ExecuteTime": {
     "end_time": "2022-11-12T02:03:36.929574Z",
     "start_time": "2022-11-12T02:03:35.056761Z"
    }
   },
   "outputs": [],
   "source": [
    "url = \"https://d17h27t6h515a5.cloudfront.net/topher/2017/August/599fd2ad_image-predictions/image-predictions.tsv\"\n",
    "response = requests.get(url)\n",
    "\n",
    "with open(\"image_prediction.tsv\", mode= \"wb\") as file:\n",
    "    file.write(response.content)"
   ]
  },
  {
   "cell_type": "code",
   "execution_count": 5,
   "id": "be7da5ea",
   "metadata": {
    "ExecuteTime": {
     "end_time": "2022-11-12T02:04:46.860344Z",
     "start_time": "2022-11-12T02:04:46.694875Z"
    }
   },
   "outputs": [
    {
     "name": "stderr",
     "output_type": "stream",
     "text": [
      "C:\\Users\\user\\anaconda3\\envs\\udacity_data_analyst_nanodegree\\lib\\site-packages\\IPython\\core\\interactiveshell.py:3457: FutureWarning: In a future version of pandas all arguments of read_csv except for the argument 'filepath_or_buffer' will be keyword-only\n",
      "  exec(code_obj, self.user_global_ns, self.user_ns)\n"
     ]
    }
   ],
   "source": [
    "image_prediction = pd.read_csv(\"image_prediction.tsv\", \"\\t\")"
   ]
  },
  {
   "cell_type": "markdown",
   "id": "9b1bb662",
   "metadata": {},
   "source": [
    "3. Use the Tweepy library to query additional data via the Twitter API (tweet_json.txt)"
   ]
  },
  {
   "cell_type": "code",
   "execution_count": null,
   "id": "ac57e689",
   "metadata": {},
   "outputs": [],
   "source": [
    "with open (\"twitter_verification.txt\",\"r\") as token:\n",
    "    consumer_key = token.readline().split(\":\")[1].strip()\n",
    "    consumer_secret = token.readline().split(\":\")[1].strip()\n",
    "    access_token = token.readline().split(\":\")[1].strip()\n",
    "    access_token_secret = token.readline().split(\":\")[1].strip()\n",
    "    \n",
    "auth = tweepy.OAuthHandler(consumer_key, consumer_secret)\n",
    "auth.set_access_token(access_token, access_token_secret)\n",
    "\n",
    "api = tweepy.API(auth)"
   ]
  },
  {
   "cell_type": "code",
   "execution_count": null,
   "id": "6114dec5",
   "metadata": {},
   "outputs": [],
   "source": [
    "tweet_ids = twitter_enhanced.tweet_id.values\n",
    "len(tweet_ids)"
   ]
  },
  {
   "cell_type": "code",
   "execution_count": null,
   "id": "8e0d47ef",
   "metadata": {},
   "outputs": [],
   "source": [
    "count = 0\n",
    "fails_dict = {}\n",
    "start = timer()\n",
    "# Save each tweet's returned JSON as a new line in a .txt file\n",
    "with open('tweet_json.txt', 'w') as outfile:\n",
    "    # This loop will likely take 20-30 minutes to run because of Twitter's rate limit\n",
    "    for tweet_id in tweet_ids:\n",
    "        count += 1\n",
    "        print(str(count) + \": \" + str(tweet_id))\n",
    "        try:\n",
    "            tweet = api.get_status(tweet_id, tweet_mode='extended')\n",
    "            print(\"Success\")\n",
    "            json.dump(tweet._json, outfile)\n",
    "            outfile.write('\\n')\n",
    "        except AttributeError as e:\n",
    "            print(\"Fail\")\n",
    "            fails_dict[tweet_id] = e\n",
    "            pass\n",
    "end = timer()\n",
    "print(end - start)\n",
    "print(fails_dict)"
   ]
  },
  {
   "cell_type": "code",
   "execution_count": 6,
   "id": "d8423202",
   "metadata": {
    "ExecuteTime": {
     "end_time": "2022-11-12T02:32:38.741947Z",
     "start_time": "2022-11-12T02:32:38.396954Z"
    }
   },
   "outputs": [],
   "source": [
    "df_list = []\n",
    "with open (\"tweet-json.txt\") as file:\n",
    "    for line in file.readlines():\n",
    "        json_object = json.loads(line.strip())\n",
    "        df_list.append({\"tweet_id\":json_object.get(\"id\"),\n",
    "                    \"retweet_count\":json_object.get(\"retweet_count\"),\n",
    "                    \"favorite_count\":json_object.get(\"favorite_count\")})\n",
    "counts = pd.DataFrame(df_list, columns = [\"tweet_id\", \"retweet_count\", \"favorite_count\"])"
   ]
  },
  {
   "cell_type": "markdown",
   "id": "53cb289b",
   "metadata": {},
   "source": [
    "## Assessing Data"
   ]
  },
  {
   "cell_type": "code",
   "execution_count": 7,
   "id": "9dce0494",
   "metadata": {
    "ExecuteTime": {
     "end_time": "2022-11-12T02:51:02.058934Z",
     "start_time": "2022-11-12T02:51:01.913938Z"
    }
   },
   "outputs": [
    {
     "data": {
      "text/html": [
       "<div>\n",
       "<style scoped>\n",
       "    .dataframe tbody tr th:only-of-type {\n",
       "        vertical-align: middle;\n",
       "    }\n",
       "\n",
       "    .dataframe tbody tr th {\n",
       "        vertical-align: top;\n",
       "    }\n",
       "\n",
       "    .dataframe thead th {\n",
       "        text-align: right;\n",
       "    }\n",
       "</style>\n",
       "<table border=\"1\" class=\"dataframe\">\n",
       "  <thead>\n",
       "    <tr style=\"text-align: right;\">\n",
       "      <th></th>\n",
       "      <th>tweet_id</th>\n",
       "      <th>in_reply_to_status_id</th>\n",
       "      <th>in_reply_to_user_id</th>\n",
       "      <th>timestamp</th>\n",
       "      <th>source</th>\n",
       "      <th>text</th>\n",
       "      <th>retweeted_status_id</th>\n",
       "      <th>retweeted_status_user_id</th>\n",
       "      <th>retweeted_status_timestamp</th>\n",
       "      <th>expanded_urls</th>\n",
       "      <th>rating_numerator</th>\n",
       "      <th>rating_denominator</th>\n",
       "      <th>name</th>\n",
       "      <th>doggo</th>\n",
       "      <th>floofer</th>\n",
       "      <th>pupper</th>\n",
       "      <th>puppo</th>\n",
       "    </tr>\n",
       "  </thead>\n",
       "  <tbody>\n",
       "    <tr>\n",
       "      <th>0</th>\n",
       "      <td>892420643555336193</td>\n",
       "      <td>NaN</td>\n",
       "      <td>NaN</td>\n",
       "      <td>2017-08-01 16:23:56 +0000</td>\n",
       "      <td>&lt;a href=\"http://twitter.com/download/iphone\" rel=\"nofollow\"&gt;Twitter for iPhone&lt;/a&gt;</td>\n",
       "      <td>This is Phineas. He's a mystical boy. Only ever appears in the hole of a donut. 13/10 https://t.co/MgUWQ76dJU</td>\n",
       "      <td>NaN</td>\n",
       "      <td>NaN</td>\n",
       "      <td>NaN</td>\n",
       "      <td>https://twitter.com/dog_rates/status/892420643555336193/photo/1</td>\n",
       "      <td>13</td>\n",
       "      <td>10</td>\n",
       "      <td>Phineas</td>\n",
       "      <td>None</td>\n",
       "      <td>None</td>\n",
       "      <td>None</td>\n",
       "      <td>None</td>\n",
       "    </tr>\n",
       "    <tr>\n",
       "      <th>1</th>\n",
       "      <td>892177421306343426</td>\n",
       "      <td>NaN</td>\n",
       "      <td>NaN</td>\n",
       "      <td>2017-08-01 00:17:27 +0000</td>\n",
       "      <td>&lt;a href=\"http://twitter.com/download/iphone\" rel=\"nofollow\"&gt;Twitter for iPhone&lt;/a&gt;</td>\n",
       "      <td>This is Tilly. She's just checking pup on you. Hopes you're doing ok. If not, she's available for pats, snugs, boops, the whole bit. 13/10 https://t.co/0Xxu71qeIV</td>\n",
       "      <td>NaN</td>\n",
       "      <td>NaN</td>\n",
       "      <td>NaN</td>\n",
       "      <td>https://twitter.com/dog_rates/status/892177421306343426/photo/1</td>\n",
       "      <td>13</td>\n",
       "      <td>10</td>\n",
       "      <td>Tilly</td>\n",
       "      <td>None</td>\n",
       "      <td>None</td>\n",
       "      <td>None</td>\n",
       "      <td>None</td>\n",
       "    </tr>\n",
       "    <tr>\n",
       "      <th>2</th>\n",
       "      <td>891815181378084864</td>\n",
       "      <td>NaN</td>\n",
       "      <td>NaN</td>\n",
       "      <td>2017-07-31 00:18:03 +0000</td>\n",
       "      <td>&lt;a href=\"http://twitter.com/download/iphone\" rel=\"nofollow\"&gt;Twitter for iPhone&lt;/a&gt;</td>\n",
       "      <td>This is Archie. He is a rare Norwegian Pouncing Corgo. Lives in the tall grass. You never know when one may strike. 12/10 https://t.co/wUnZnhtVJB</td>\n",
       "      <td>NaN</td>\n",
       "      <td>NaN</td>\n",
       "      <td>NaN</td>\n",
       "      <td>https://twitter.com/dog_rates/status/891815181378084864/photo/1</td>\n",
       "      <td>12</td>\n",
       "      <td>10</td>\n",
       "      <td>Archie</td>\n",
       "      <td>None</td>\n",
       "      <td>None</td>\n",
       "      <td>None</td>\n",
       "      <td>None</td>\n",
       "    </tr>\n",
       "    <tr>\n",
       "      <th>3</th>\n",
       "      <td>891689557279858688</td>\n",
       "      <td>NaN</td>\n",
       "      <td>NaN</td>\n",
       "      <td>2017-07-30 15:58:51 +0000</td>\n",
       "      <td>&lt;a href=\"http://twitter.com/download/iphone\" rel=\"nofollow\"&gt;Twitter for iPhone&lt;/a&gt;</td>\n",
       "      <td>This is Darla. She commenced a snooze mid meal. 13/10 happens to the best of us https://t.co/tD36da7qLQ</td>\n",
       "      <td>NaN</td>\n",
       "      <td>NaN</td>\n",
       "      <td>NaN</td>\n",
       "      <td>https://twitter.com/dog_rates/status/891689557279858688/photo/1</td>\n",
       "      <td>13</td>\n",
       "      <td>10</td>\n",
       "      <td>Darla</td>\n",
       "      <td>None</td>\n",
       "      <td>None</td>\n",
       "      <td>None</td>\n",
       "      <td>None</td>\n",
       "    </tr>\n",
       "    <tr>\n",
       "      <th>4</th>\n",
       "      <td>891327558926688256</td>\n",
       "      <td>NaN</td>\n",
       "      <td>NaN</td>\n",
       "      <td>2017-07-29 16:00:24 +0000</td>\n",
       "      <td>&lt;a href=\"http://twitter.com/download/iphone\" rel=\"nofollow\"&gt;Twitter for iPhone&lt;/a&gt;</td>\n",
       "      <td>This is Franklin. He would like you to stop calling him \"cute.\" He is a very fierce shark and should be respected as such. 12/10 #BarkWeek https://t.co/AtUZn91f7f</td>\n",
       "      <td>NaN</td>\n",
       "      <td>NaN</td>\n",
       "      <td>NaN</td>\n",
       "      <td>https://twitter.com/dog_rates/status/891327558926688256/photo/1,https://twitter.com/dog_rates/status/891327558926688256/photo/1</td>\n",
       "      <td>12</td>\n",
       "      <td>10</td>\n",
       "      <td>Franklin</td>\n",
       "      <td>None</td>\n",
       "      <td>None</td>\n",
       "      <td>None</td>\n",
       "      <td>None</td>\n",
       "    </tr>\n",
       "  </tbody>\n",
       "</table>\n",
       "</div>"
      ],
      "text/plain": [
       "             tweet_id  in_reply_to_status_id  in_reply_to_user_id  \\\n",
       "0  892420643555336193                    NaN                  NaN   \n",
       "1  892177421306343426                    NaN                  NaN   \n",
       "2  891815181378084864                    NaN                  NaN   \n",
       "3  891689557279858688                    NaN                  NaN   \n",
       "4  891327558926688256                    NaN                  NaN   \n",
       "\n",
       "                   timestamp  \\\n",
       "0  2017-08-01 16:23:56 +0000   \n",
       "1  2017-08-01 00:17:27 +0000   \n",
       "2  2017-07-31 00:18:03 +0000   \n",
       "3  2017-07-30 15:58:51 +0000   \n",
       "4  2017-07-29 16:00:24 +0000   \n",
       "\n",
       "                                                                               source  \\\n",
       "0  <a href=\"http://twitter.com/download/iphone\" rel=\"nofollow\">Twitter for iPhone</a>   \n",
       "1  <a href=\"http://twitter.com/download/iphone\" rel=\"nofollow\">Twitter for iPhone</a>   \n",
       "2  <a href=\"http://twitter.com/download/iphone\" rel=\"nofollow\">Twitter for iPhone</a>   \n",
       "3  <a href=\"http://twitter.com/download/iphone\" rel=\"nofollow\">Twitter for iPhone</a>   \n",
       "4  <a href=\"http://twitter.com/download/iphone\" rel=\"nofollow\">Twitter for iPhone</a>   \n",
       "\n",
       "                                                                                                                                                                 text  \\\n",
       "0                                                       This is Phineas. He's a mystical boy. Only ever appears in the hole of a donut. 13/10 https://t.co/MgUWQ76dJU   \n",
       "1  This is Tilly. She's just checking pup on you. Hopes you're doing ok. If not, she's available for pats, snugs, boops, the whole bit. 13/10 https://t.co/0Xxu71qeIV   \n",
       "2                   This is Archie. He is a rare Norwegian Pouncing Corgo. Lives in the tall grass. You never know when one may strike. 12/10 https://t.co/wUnZnhtVJB   \n",
       "3                                                             This is Darla. She commenced a snooze mid meal. 13/10 happens to the best of us https://t.co/tD36da7qLQ   \n",
       "4  This is Franklin. He would like you to stop calling him \"cute.\" He is a very fierce shark and should be respected as such. 12/10 #BarkWeek https://t.co/AtUZn91f7f   \n",
       "\n",
       "   retweeted_status_id  retweeted_status_user_id retweeted_status_timestamp  \\\n",
       "0                  NaN                       NaN                        NaN   \n",
       "1                  NaN                       NaN                        NaN   \n",
       "2                  NaN                       NaN                        NaN   \n",
       "3                  NaN                       NaN                        NaN   \n",
       "4                  NaN                       NaN                        NaN   \n",
       "\n",
       "                                                                                                                     expanded_urls  \\\n",
       "0                                                                  https://twitter.com/dog_rates/status/892420643555336193/photo/1   \n",
       "1                                                                  https://twitter.com/dog_rates/status/892177421306343426/photo/1   \n",
       "2                                                                  https://twitter.com/dog_rates/status/891815181378084864/photo/1   \n",
       "3                                                                  https://twitter.com/dog_rates/status/891689557279858688/photo/1   \n",
       "4  https://twitter.com/dog_rates/status/891327558926688256/photo/1,https://twitter.com/dog_rates/status/891327558926688256/photo/1   \n",
       "\n",
       "   rating_numerator  rating_denominator      name doggo floofer pupper puppo  \n",
       "0                13                  10   Phineas  None    None   None  None  \n",
       "1                13                  10     Tilly  None    None   None  None  \n",
       "2                12                  10    Archie  None    None   None  None  \n",
       "3                13                  10     Darla  None    None   None  None  \n",
       "4                12                  10  Franklin  None    None   None  None  "
      ]
     },
     "execution_count": 7,
     "metadata": {},
     "output_type": "execute_result"
    }
   ],
   "source": [
    "twitter_enhanced.head()"
   ]
  },
  {
   "cell_type": "code",
   "execution_count": 8,
   "id": "b7f99a3c",
   "metadata": {
    "ExecuteTime": {
     "end_time": "2022-11-12T02:51:02.169949Z",
     "start_time": "2022-11-12T02:51:02.065935Z"
    }
   },
   "outputs": [
    {
     "data": {
      "text/html": [
       "<div>\n",
       "<style scoped>\n",
       "    .dataframe tbody tr th:only-of-type {\n",
       "        vertical-align: middle;\n",
       "    }\n",
       "\n",
       "    .dataframe tbody tr th {\n",
       "        vertical-align: top;\n",
       "    }\n",
       "\n",
       "    .dataframe thead th {\n",
       "        text-align: right;\n",
       "    }\n",
       "</style>\n",
       "<table border=\"1\" class=\"dataframe\">\n",
       "  <thead>\n",
       "    <tr style=\"text-align: right;\">\n",
       "      <th></th>\n",
       "      <th>tweet_id</th>\n",
       "      <th>jpg_url</th>\n",
       "      <th>img_num</th>\n",
       "      <th>p1</th>\n",
       "      <th>p1_conf</th>\n",
       "      <th>p1_dog</th>\n",
       "      <th>p2</th>\n",
       "      <th>p2_conf</th>\n",
       "      <th>p2_dog</th>\n",
       "      <th>p3</th>\n",
       "      <th>p3_conf</th>\n",
       "      <th>p3_dog</th>\n",
       "    </tr>\n",
       "  </thead>\n",
       "  <tbody>\n",
       "    <tr>\n",
       "      <th>0</th>\n",
       "      <td>666020888022790149</td>\n",
       "      <td>https://pbs.twimg.com/media/CT4udn0WwAA0aMy.jpg</td>\n",
       "      <td>1</td>\n",
       "      <td>Welsh_springer_spaniel</td>\n",
       "      <td>0.465074</td>\n",
       "      <td>True</td>\n",
       "      <td>collie</td>\n",
       "      <td>0.156665</td>\n",
       "      <td>True</td>\n",
       "      <td>Shetland_sheepdog</td>\n",
       "      <td>0.061428</td>\n",
       "      <td>True</td>\n",
       "    </tr>\n",
       "    <tr>\n",
       "      <th>1</th>\n",
       "      <td>666029285002620928</td>\n",
       "      <td>https://pbs.twimg.com/media/CT42GRgUYAA5iDo.jpg</td>\n",
       "      <td>1</td>\n",
       "      <td>redbone</td>\n",
       "      <td>0.506826</td>\n",
       "      <td>True</td>\n",
       "      <td>miniature_pinscher</td>\n",
       "      <td>0.074192</td>\n",
       "      <td>True</td>\n",
       "      <td>Rhodesian_ridgeback</td>\n",
       "      <td>0.072010</td>\n",
       "      <td>True</td>\n",
       "    </tr>\n",
       "    <tr>\n",
       "      <th>2</th>\n",
       "      <td>666033412701032449</td>\n",
       "      <td>https://pbs.twimg.com/media/CT4521TWwAEvMyu.jpg</td>\n",
       "      <td>1</td>\n",
       "      <td>German_shepherd</td>\n",
       "      <td>0.596461</td>\n",
       "      <td>True</td>\n",
       "      <td>malinois</td>\n",
       "      <td>0.138584</td>\n",
       "      <td>True</td>\n",
       "      <td>bloodhound</td>\n",
       "      <td>0.116197</td>\n",
       "      <td>True</td>\n",
       "    </tr>\n",
       "    <tr>\n",
       "      <th>3</th>\n",
       "      <td>666044226329800704</td>\n",
       "      <td>https://pbs.twimg.com/media/CT5Dr8HUEAA-lEu.jpg</td>\n",
       "      <td>1</td>\n",
       "      <td>Rhodesian_ridgeback</td>\n",
       "      <td>0.408143</td>\n",
       "      <td>True</td>\n",
       "      <td>redbone</td>\n",
       "      <td>0.360687</td>\n",
       "      <td>True</td>\n",
       "      <td>miniature_pinscher</td>\n",
       "      <td>0.222752</td>\n",
       "      <td>True</td>\n",
       "    </tr>\n",
       "    <tr>\n",
       "      <th>4</th>\n",
       "      <td>666049248165822465</td>\n",
       "      <td>https://pbs.twimg.com/media/CT5IQmsXIAAKY4A.jpg</td>\n",
       "      <td>1</td>\n",
       "      <td>miniature_pinscher</td>\n",
       "      <td>0.560311</td>\n",
       "      <td>True</td>\n",
       "      <td>Rottweiler</td>\n",
       "      <td>0.243682</td>\n",
       "      <td>True</td>\n",
       "      <td>Doberman</td>\n",
       "      <td>0.154629</td>\n",
       "      <td>True</td>\n",
       "    </tr>\n",
       "  </tbody>\n",
       "</table>\n",
       "</div>"
      ],
      "text/plain": [
       "             tweet_id                                          jpg_url  \\\n",
       "0  666020888022790149  https://pbs.twimg.com/media/CT4udn0WwAA0aMy.jpg   \n",
       "1  666029285002620928  https://pbs.twimg.com/media/CT42GRgUYAA5iDo.jpg   \n",
       "2  666033412701032449  https://pbs.twimg.com/media/CT4521TWwAEvMyu.jpg   \n",
       "3  666044226329800704  https://pbs.twimg.com/media/CT5Dr8HUEAA-lEu.jpg   \n",
       "4  666049248165822465  https://pbs.twimg.com/media/CT5IQmsXIAAKY4A.jpg   \n",
       "\n",
       "   img_num                      p1   p1_conf  p1_dog                  p2  \\\n",
       "0        1  Welsh_springer_spaniel  0.465074    True              collie   \n",
       "1        1                 redbone  0.506826    True  miniature_pinscher   \n",
       "2        1         German_shepherd  0.596461    True            malinois   \n",
       "3        1     Rhodesian_ridgeback  0.408143    True             redbone   \n",
       "4        1      miniature_pinscher  0.560311    True          Rottweiler   \n",
       "\n",
       "    p2_conf  p2_dog                   p3   p3_conf  p3_dog  \n",
       "0  0.156665    True    Shetland_sheepdog  0.061428    True  \n",
       "1  0.074192    True  Rhodesian_ridgeback  0.072010    True  \n",
       "2  0.138584    True           bloodhound  0.116197    True  \n",
       "3  0.360687    True   miniature_pinscher  0.222752    True  \n",
       "4  0.243682    True             Doberman  0.154629    True  "
      ]
     },
     "execution_count": 8,
     "metadata": {},
     "output_type": "execute_result"
    }
   ],
   "source": [
    "image_prediction.head()"
   ]
  },
  {
   "cell_type": "code",
   "execution_count": 9,
   "id": "a9f1a751",
   "metadata": {
    "ExecuteTime": {
     "end_time": "2022-11-12T02:51:02.339946Z",
     "start_time": "2022-11-12T02:51:02.174934Z"
    }
   },
   "outputs": [
    {
     "data": {
      "text/html": [
       "<div>\n",
       "<style scoped>\n",
       "    .dataframe tbody tr th:only-of-type {\n",
       "        vertical-align: middle;\n",
       "    }\n",
       "\n",
       "    .dataframe tbody tr th {\n",
       "        vertical-align: top;\n",
       "    }\n",
       "\n",
       "    .dataframe thead th {\n",
       "        text-align: right;\n",
       "    }\n",
       "</style>\n",
       "<table border=\"1\" class=\"dataframe\">\n",
       "  <thead>\n",
       "    <tr style=\"text-align: right;\">\n",
       "      <th></th>\n",
       "      <th>tweet_id</th>\n",
       "      <th>retweet_count</th>\n",
       "      <th>favorite_count</th>\n",
       "    </tr>\n",
       "  </thead>\n",
       "  <tbody>\n",
       "    <tr>\n",
       "      <th>0</th>\n",
       "      <td>892420643555336193</td>\n",
       "      <td>8853</td>\n",
       "      <td>39467</td>\n",
       "    </tr>\n",
       "    <tr>\n",
       "      <th>1</th>\n",
       "      <td>892177421306343426</td>\n",
       "      <td>6514</td>\n",
       "      <td>33819</td>\n",
       "    </tr>\n",
       "    <tr>\n",
       "      <th>2</th>\n",
       "      <td>891815181378084864</td>\n",
       "      <td>4328</td>\n",
       "      <td>25461</td>\n",
       "    </tr>\n",
       "    <tr>\n",
       "      <th>3</th>\n",
       "      <td>891689557279858688</td>\n",
       "      <td>8964</td>\n",
       "      <td>42908</td>\n",
       "    </tr>\n",
       "    <tr>\n",
       "      <th>4</th>\n",
       "      <td>891327558926688256</td>\n",
       "      <td>9774</td>\n",
       "      <td>41048</td>\n",
       "    </tr>\n",
       "  </tbody>\n",
       "</table>\n",
       "</div>"
      ],
      "text/plain": [
       "             tweet_id  retweet_count  favorite_count\n",
       "0  892420643555336193           8853           39467\n",
       "1  892177421306343426           6514           33819\n",
       "2  891815181378084864           4328           25461\n",
       "3  891689557279858688           8964           42908\n",
       "4  891327558926688256           9774           41048"
      ]
     },
     "execution_count": 9,
     "metadata": {},
     "output_type": "execute_result"
    }
   ],
   "source": [
    "counts.head()"
   ]
  },
  {
   "cell_type": "code",
   "execution_count": 10,
   "id": "29e96daa",
   "metadata": {
    "ExecuteTime": {
     "end_time": "2022-11-12T02:51:02.572847Z",
     "start_time": "2022-11-12T02:51:02.349945Z"
    }
   },
   "outputs": [
    {
     "data": {
      "text/plain": [
       "(2356, 17)"
      ]
     },
     "execution_count": 10,
     "metadata": {},
     "output_type": "execute_result"
    }
   ],
   "source": [
    "twitter_enhanced.shape"
   ]
  },
  {
   "cell_type": "code",
   "execution_count": 11,
   "id": "991f8027",
   "metadata": {
    "ExecuteTime": {
     "end_time": "2022-11-12T02:51:02.824091Z",
     "start_time": "2022-11-12T02:51:02.578847Z"
    }
   },
   "outputs": [
    {
     "data": {
      "text/plain": [
       "(2075, 12)"
      ]
     },
     "execution_count": 11,
     "metadata": {},
     "output_type": "execute_result"
    }
   ],
   "source": [
    "image_prediction.shape"
   ]
  },
  {
   "cell_type": "code",
   "execution_count": 12,
   "id": "49fc5776",
   "metadata": {
    "ExecuteTime": {
     "end_time": "2022-11-12T02:51:03.108960Z",
     "start_time": "2022-11-12T02:51:02.830100Z"
    }
   },
   "outputs": [
    {
     "name": "stdout",
     "output_type": "stream",
     "text": [
      "<class 'pandas.core.frame.DataFrame'>\n",
      "RangeIndex: 2356 entries, 0 to 2355\n",
      "Data columns (total 17 columns):\n",
      " #   Column                      Non-Null Count  Dtype  \n",
      "---  ------                      --------------  -----  \n",
      " 0   tweet_id                    2356 non-null   int64  \n",
      " 1   in_reply_to_status_id       78 non-null     float64\n",
      " 2   in_reply_to_user_id         78 non-null     float64\n",
      " 3   timestamp                   2356 non-null   object \n",
      " 4   source                      2356 non-null   object \n",
      " 5   text                        2356 non-null   object \n",
      " 6   retweeted_status_id         181 non-null    float64\n",
      " 7   retweeted_status_user_id    181 non-null    float64\n",
      " 8   retweeted_status_timestamp  181 non-null    object \n",
      " 9   expanded_urls               2297 non-null   object \n",
      " 10  rating_numerator            2356 non-null   int64  \n",
      " 11  rating_denominator          2356 non-null   int64  \n",
      " 12  name                        2356 non-null   object \n",
      " 13  doggo                       2356 non-null   object \n",
      " 14  floofer                     2356 non-null   object \n",
      " 15  pupper                      2356 non-null   object \n",
      " 16  puppo                       2356 non-null   object \n",
      "dtypes: float64(4), int64(3), object(10)\n",
      "memory usage: 313.0+ KB\n"
     ]
    }
   ],
   "source": [
    "twitter_enhanced.info()"
   ]
  },
  {
   "cell_type": "code",
   "execution_count": 13,
   "id": "55282e6e",
   "metadata": {
    "ExecuteTime": {
     "end_time": "2022-11-12T02:51:03.140965Z",
     "start_time": "2022-11-12T02:51:03.113966Z"
    }
   },
   "outputs": [
    {
     "name": "stdout",
     "output_type": "stream",
     "text": [
      "<class 'pandas.core.frame.DataFrame'>\n",
      "RangeIndex: 2075 entries, 0 to 2074\n",
      "Data columns (total 12 columns):\n",
      " #   Column    Non-Null Count  Dtype  \n",
      "---  ------    --------------  -----  \n",
      " 0   tweet_id  2075 non-null   int64  \n",
      " 1   jpg_url   2075 non-null   object \n",
      " 2   img_num   2075 non-null   int64  \n",
      " 3   p1        2075 non-null   object \n",
      " 4   p1_conf   2075 non-null   float64\n",
      " 5   p1_dog    2075 non-null   bool   \n",
      " 6   p2        2075 non-null   object \n",
      " 7   p2_conf   2075 non-null   float64\n",
      " 8   p2_dog    2075 non-null   bool   \n",
      " 9   p3        2075 non-null   object \n",
      " 10  p3_conf   2075 non-null   float64\n",
      " 11  p3_dog    2075 non-null   bool   \n",
      "dtypes: bool(3), float64(3), int64(2), object(4)\n",
      "memory usage: 152.1+ KB\n"
     ]
    }
   ],
   "source": [
    "image_prediction.info()"
   ]
  },
  {
   "cell_type": "code",
   "execution_count": 14,
   "id": "3f6b8d2c",
   "metadata": {
    "ExecuteTime": {
     "end_time": "2022-11-12T02:51:03.281537Z",
     "start_time": "2022-11-12T02:51:03.146958Z"
    }
   },
   "outputs": [
    {
     "name": "stdout",
     "output_type": "stream",
     "text": [
      "<class 'pandas.core.frame.DataFrame'>\n",
      "RangeIndex: 2354 entries, 0 to 2353\n",
      "Data columns (total 3 columns):\n",
      " #   Column          Non-Null Count  Dtype\n",
      "---  ------          --------------  -----\n",
      " 0   tweet_id        2354 non-null   int64\n",
      " 1   retweet_count   2354 non-null   int64\n",
      " 2   favorite_count  2354 non-null   int64\n",
      "dtypes: int64(3)\n",
      "memory usage: 55.3 KB\n"
     ]
    }
   ],
   "source": [
    "counts.info()"
   ]
  },
  {
   "cell_type": "code",
   "execution_count": 21,
   "id": "2c8709ac",
   "metadata": {
    "ExecuteTime": {
     "end_time": "2022-11-12T02:51:28.792620Z",
     "start_time": "2022-11-12T02:51:28.773622Z"
    }
   },
   "outputs": [
    {
     "data": {
      "text/plain": [
       "tweet_id    0\n",
       "jpg_url     0\n",
       "img_num     0\n",
       "p1          0\n",
       "p1_conf     0\n",
       "p1_dog      0\n",
       "p2          0\n",
       "p2_conf     0\n",
       "p2_dog      0\n",
       "p3          0\n",
       "p3_conf     0\n",
       "p3_dog      0\n",
       "dtype: int64"
      ]
     },
     "execution_count": 21,
     "metadata": {},
     "output_type": "execute_result"
    }
   ],
   "source": [
    "image_prediction.isnull().sum()"
   ]
  },
  {
   "cell_type": "code",
   "execution_count": 16,
   "id": "9eea98cb",
   "metadata": {
    "ExecuteTime": {
     "end_time": "2022-11-12T02:51:03.627274Z",
     "start_time": "2022-11-12T02:51:03.515273Z"
    }
   },
   "outputs": [
    {
     "data": {
      "text/plain": [
       "tweet_id          0\n",
       "retweet_count     0\n",
       "favorite_count    0\n",
       "dtype: int64"
      ]
     },
     "execution_count": 16,
     "metadata": {},
     "output_type": "execute_result"
    }
   ],
   "source": [
    "counts.isnull().sum()"
   ]
  },
  {
   "cell_type": "code",
   "execution_count": 17,
   "id": "4c8780b3",
   "metadata": {
    "ExecuteTime": {
     "end_time": "2022-11-12T02:51:03.927275Z",
     "start_time": "2022-11-12T02:51:03.633286Z"
    }
   },
   "outputs": [
    {
     "data": {
      "text/plain": [
       "0"
      ]
     },
     "execution_count": 17,
     "metadata": {},
     "output_type": "execute_result"
    }
   ],
   "source": [
    "twitter_enhanced.duplicated().sum()"
   ]
  },
  {
   "cell_type": "code",
   "execution_count": 18,
   "id": "309c9186",
   "metadata": {
    "ExecuteTime": {
     "end_time": "2022-11-12T02:51:04.081721Z",
     "start_time": "2022-11-12T02:51:03.933283Z"
    }
   },
   "outputs": [
    {
     "data": {
      "text/plain": [
       "0"
      ]
     },
     "execution_count": 18,
     "metadata": {},
     "output_type": "execute_result"
    }
   ],
   "source": [
    "image_prediction.duplicated().sum()"
   ]
  },
  {
   "cell_type": "code",
   "execution_count": 19,
   "id": "64a6fa6d",
   "metadata": {
    "ExecuteTime": {
     "end_time": "2022-11-12T02:51:04.145139Z",
     "start_time": "2022-11-12T02:51:04.086723Z"
    }
   },
   "outputs": [
    {
     "data": {
      "text/plain": [
       "0"
      ]
     },
     "execution_count": 19,
     "metadata": {},
     "output_type": "execute_result"
    }
   ],
   "source": [
    "counts.duplicated().sum()"
   ]
  },
  {
   "cell_type": "code",
   "execution_count": 20,
   "id": "6c3d606a",
   "metadata": {
    "ExecuteTime": {
     "end_time": "2022-11-12T02:51:04.255425Z",
     "start_time": "2022-11-12T02:51:04.151149Z"
    }
   },
   "outputs": [
    {
     "data": {
      "text/plain": [
       "12      558\n",
       "11      464\n",
       "10      461\n",
       "13      351\n",
       "9       158\n",
       "8       102\n",
       "7        55\n",
       "14       54\n",
       "5        37\n",
       "6        32\n",
       "3        19\n",
       "4        17\n",
       "2         9\n",
       "1         9\n",
       "75        2\n",
       "15        2\n",
       "420       2\n",
       "0         2\n",
       "80        1\n",
       "144       1\n",
       "17        1\n",
       "26        1\n",
       "20        1\n",
       "121       1\n",
       "143       1\n",
       "44        1\n",
       "60        1\n",
       "45        1\n",
       "50        1\n",
       "99        1\n",
       "204       1\n",
       "1776      1\n",
       "165       1\n",
       "666       1\n",
       "27        1\n",
       "182       1\n",
       "24        1\n",
       "960       1\n",
       "84        1\n",
       "88        1\n",
       "Name: rating_numerator, dtype: int64"
      ]
     },
     "execution_count": 20,
     "metadata": {},
     "output_type": "execute_result"
    }
   ],
   "source": [
    "twitter_enhanced.rating_numerator.value_counts()"
   ]
  },
  {
   "cell_type": "code",
   "execution_count": 22,
   "id": "f5f8840d",
   "metadata": {
    "ExecuteTime": {
     "end_time": "2022-11-12T02:54:51.564779Z",
     "start_time": "2022-11-12T02:54:51.453788Z"
    }
   },
   "outputs": [
    {
     "name": "stdout",
     "output_type": "stream",
     "text": [
      "55 ['17/10', '13/10']\n",
      "313 ['960/00', '13/10']\n",
      "561 ['12/10', '11/10']\n",
      "766 ['12/10', '11/10']\n",
      "784 ['9/11', '14/10']\n",
      "860 ['8/10', '11/10']\n",
      "1007 ['10/10', '7/10']\n",
      "1068 ['9/11', '14/10']\n",
      "1165 ['4/20', '13/10']\n",
      "1202 ['50/50', '11/10']\n",
      "1222 ['10/10', '8/10']\n",
      "1359 ['9/10', '2/10']\n",
      "1459 ['4/10', '13/10']\n",
      "1465 ['10/10', '5/10']\n",
      "1508 ['5/10', '10/10']\n",
      "1525 ['10/10', '6/10']\n",
      "1538 ['11/10', '10/10']\n",
      "1662 ['7/11', '10/10']\n",
      "1795 ['10/10', '11/10']\n",
      "1832 ['10/10', '7/10']\n",
      "1897 ['10/10', '4/10']\n",
      "1901 ['5/10', '8/10']\n",
      "1970 ['8/10', '11/10']\n",
      "2010 ['10/10', '7/10', '12/10']\n",
      "2064 ['11/10', '8/10']\n",
      "2113 ['11/10', '8/10']\n",
      "2177 ['10/10', '7/10']\n",
      "2216 ['8/10', '1/10']\n",
      "2263 ['10/10', '4/10']\n",
      "2272 ['7/10', '8/10']\n",
      "2298 ['10/10', '10/10']\n",
      "2306 ['10/10', '10/10']\n",
      "2335 ['1/2', '9/10']\n"
     ]
    }
   ],
   "source": [
    "# Extract ratings from each tweet in the text column in twitter_enhanced table using regular expression for indepth assessment\n",
    "ratings = []\n",
    "pattern = r'[0-9.]+/\\d{1,}'\n",
    "for tweet in twitter_enhanced[\"text\"]:\n",
    "    rating = re.findall(pattern, tweet, flags=re.IGNORECASE)\n",
    "    ratings.append(rating)\n",
    "\n",
    "# Display information where more than one pattarns were matched\n",
    "for index, rating in enumerate(ratings):\n",
    "    if len(rating)>1:\n",
    "        print(index, rating)"
   ]
  },
  {
   "cell_type": "code",
   "execution_count": 23,
   "id": "063f294e",
   "metadata": {
    "ExecuteTime": {
     "end_time": "2022-11-12T02:55:13.026584Z",
     "start_time": "2022-11-12T02:55:12.976582Z"
    }
   },
   "outputs": [
    {
     "data": {
      "text/html": [
       "<div>\n",
       "<style scoped>\n",
       "    .dataframe tbody tr th:only-of-type {\n",
       "        vertical-align: middle;\n",
       "    }\n",
       "\n",
       "    .dataframe tbody tr th {\n",
       "        vertical-align: top;\n",
       "    }\n",
       "\n",
       "    .dataframe thead th {\n",
       "        text-align: right;\n",
       "    }\n",
       "</style>\n",
       "<table border=\"1\" class=\"dataframe\">\n",
       "  <thead>\n",
       "    <tr style=\"text-align: right;\">\n",
       "      <th></th>\n",
       "      <th>tweet_id</th>\n",
       "      <th>in_reply_to_status_id</th>\n",
       "      <th>in_reply_to_user_id</th>\n",
       "      <th>timestamp</th>\n",
       "      <th>source</th>\n",
       "      <th>text</th>\n",
       "      <th>retweeted_status_id</th>\n",
       "      <th>retweeted_status_user_id</th>\n",
       "      <th>retweeted_status_timestamp</th>\n",
       "      <th>expanded_urls</th>\n",
       "      <th>rating_numerator</th>\n",
       "      <th>rating_denominator</th>\n",
       "      <th>name</th>\n",
       "      <th>doggo</th>\n",
       "      <th>floofer</th>\n",
       "      <th>pupper</th>\n",
       "      <th>puppo</th>\n",
       "    </tr>\n",
       "  </thead>\n",
       "  <tbody>\n",
       "    <tr>\n",
       "      <th>2335</th>\n",
       "      <td>666287406224695296</td>\n",
       "      <td>NaN</td>\n",
       "      <td>NaN</td>\n",
       "      <td>2015-11-16 16:11:11 +0000</td>\n",
       "      <td>&lt;a href=\"http://twitter.com/download/iphone\" rel=\"nofollow\"&gt;Twitter for iPhone&lt;/a&gt;</td>\n",
       "      <td>This is an Albanian 3 1/2 legged  Episcopalian. Loves well-polished hardwood flooring. Penis on the collar. 9/10 https://t.co/d9NcXFKwLv</td>\n",
       "      <td>NaN</td>\n",
       "      <td>NaN</td>\n",
       "      <td>NaN</td>\n",
       "      <td>https://twitter.com/dog_rates/status/666287406224695296/photo/1</td>\n",
       "      <td>1</td>\n",
       "      <td>2</td>\n",
       "      <td>an</td>\n",
       "      <td>None</td>\n",
       "      <td>None</td>\n",
       "      <td>None</td>\n",
       "      <td>None</td>\n",
       "    </tr>\n",
       "  </tbody>\n",
       "</table>\n",
       "</div>"
      ],
      "text/plain": [
       "                tweet_id  in_reply_to_status_id  in_reply_to_user_id  \\\n",
       "2335  666287406224695296                    NaN                  NaN   \n",
       "\n",
       "                      timestamp  \\\n",
       "2335  2015-11-16 16:11:11 +0000   \n",
       "\n",
       "                                                                                  source  \\\n",
       "2335  <a href=\"http://twitter.com/download/iphone\" rel=\"nofollow\">Twitter for iPhone</a>   \n",
       "\n",
       "                                                                                                                                          text  \\\n",
       "2335  This is an Albanian 3 1/2 legged  Episcopalian. Loves well-polished hardwood flooring. Penis on the collar. 9/10 https://t.co/d9NcXFKwLv   \n",
       "\n",
       "      retweeted_status_id  retweeted_status_user_id  \\\n",
       "2335                  NaN                       NaN   \n",
       "\n",
       "     retweeted_status_timestamp  \\\n",
       "2335                        NaN   \n",
       "\n",
       "                                                        expanded_urls  \\\n",
       "2335  https://twitter.com/dog_rates/status/666287406224695296/photo/1   \n",
       "\n",
       "      rating_numerator  rating_denominator name doggo floofer pupper puppo  \n",
       "2335                 1                   2   an  None    None   None  None  "
      ]
     },
     "execution_count": 23,
     "metadata": {},
     "output_type": "execute_result"
    }
   ],
   "source": [
    "# For further visual assessment\n",
    "twitter_enhanced.iloc[[2335]]"
   ]
  },
  {
   "cell_type": "code",
   "execution_count": 24,
   "id": "998a99c1",
   "metadata": {
    "ExecuteTime": {
     "end_time": "2022-11-12T02:55:31.619662Z",
     "start_time": "2022-11-12T02:55:31.579663Z"
    }
   },
   "outputs": [
    {
     "data": {
      "text/html": [
       "<div>\n",
       "<style scoped>\n",
       "    .dataframe tbody tr th:only-of-type {\n",
       "        vertical-align: middle;\n",
       "    }\n",
       "\n",
       "    .dataframe tbody tr th {\n",
       "        vertical-align: top;\n",
       "    }\n",
       "\n",
       "    .dataframe thead th {\n",
       "        text-align: right;\n",
       "    }\n",
       "</style>\n",
       "<table border=\"1\" class=\"dataframe\">\n",
       "  <thead>\n",
       "    <tr style=\"text-align: right;\">\n",
       "      <th></th>\n",
       "      <th>tweet_id</th>\n",
       "      <th>jpg_url</th>\n",
       "      <th>img_num</th>\n",
       "      <th>p1</th>\n",
       "      <th>p1_conf</th>\n",
       "      <th>p1_dog</th>\n",
       "      <th>p2</th>\n",
       "      <th>p2_conf</th>\n",
       "      <th>p2_dog</th>\n",
       "      <th>p3</th>\n",
       "      <th>p3_conf</th>\n",
       "      <th>p3_dog</th>\n",
       "    </tr>\n",
       "  </thead>\n",
       "  <tbody>\n",
       "    <tr>\n",
       "      <th>20</th>\n",
       "      <td>666287406224695296</td>\n",
       "      <td>https://pbs.twimg.com/media/CT8g3BpUEAAuFjg.jpg</td>\n",
       "      <td>1</td>\n",
       "      <td>Maltese_dog</td>\n",
       "      <td>0.857531</td>\n",
       "      <td>True</td>\n",
       "      <td>toy_poodle</td>\n",
       "      <td>0.063064</td>\n",
       "      <td>True</td>\n",
       "      <td>miniature_poodle</td>\n",
       "      <td>0.025581</td>\n",
       "      <td>True</td>\n",
       "    </tr>\n",
       "  </tbody>\n",
       "</table>\n",
       "</div>"
      ],
      "text/plain": [
       "              tweet_id                                          jpg_url  \\\n",
       "20  666287406224695296  https://pbs.twimg.com/media/CT8g3BpUEAAuFjg.jpg   \n",
       "\n",
       "    img_num           p1   p1_conf  p1_dog          p2   p2_conf  p2_dog  \\\n",
       "20        1  Maltese_dog  0.857531    True  toy_poodle  0.063064    True   \n",
       "\n",
       "                  p3   p3_conf  p3_dog  \n",
       "20  miniature_poodle  0.025581    True  "
      ]
     },
     "execution_count": 24,
     "metadata": {},
     "output_type": "execute_result"
    }
   ],
   "source": [
    "image_prediction[image_prediction[\"tweet_id\"]==666287406224695296]"
   ]
  },
  {
   "cell_type": "code",
   "execution_count": 25,
   "id": "147a0b70",
   "metadata": {
    "ExecuteTime": {
     "end_time": "2022-11-12T02:55:45.394290Z",
     "start_time": "2022-11-12T02:55:45.269292Z"
    }
   },
   "outputs": [
    {
     "name": "stdout",
     "output_type": "stream",
     "text": [
      "46 ['floofiest', 'floofer']\n",
      "172 ['doggo', 'puppon', 'Puppollock']\n",
      "191 ['doggo', 'puppo']\n",
      "200 ['Floofer', 'doggo']\n",
      "323 ['DOGGO', 'DOGGO']\n",
      "433 ['floofs', 'floofs']\n",
      "460 ['doggo', 'Pupper']\n",
      "531 ['doggo', 'doggo', 'pupper', 'Pupper']\n",
      "565 ['doggo', 'pupper']\n",
      "575 ['doggo', 'pupper']\n",
      "631 ['pupper', 'pupper']\n",
      "705 ['doggo', 'pupper']\n",
      "733 ['Doggo', 'Pupper']\n",
      "764 ['Floofy', 'doggo']\n",
      "778 ['doggo', 'pupper']\n",
      "822 ['doggo', 'pupper']\n",
      "835 ['Floofy', 'doggo']\n",
      "881 ['Doggo', 'doggo']\n",
      "889 ['doggo', 'pupper']\n",
      "956 ['doggo', 'pupper']\n",
      "1000 ['PUPPER', 'pupper']\n",
      "1063 ['doggo', 'pupper']\n",
      "1113 ['doggo', 'pupper']\n",
      "1152 ['Floofem', 'pupper']\n",
      "1304 ['pupper', 'pupper']\n",
      "1340 ['pupper', 'pupper']\n",
      "1367 ['pupper', 'pupper']\n",
      "1382 ['Pupper', 'pupper']\n",
      "1653 ['pupper', 'pupper']\n",
      "1788 ['pupper', 'pupper']\n",
      "1828 ['pupper', 'pupper']\n",
      "1907 ['pupper', 'pupper', 'pupper']\n"
     ]
    }
   ],
   "source": [
    "# Extracting the stages of dog from the text column into a list for indepth assessments \n",
    "dog_stages = []\n",
    "\n",
    "for text in twitter_enhanced[\"text\"]:\n",
    "    floofer = re.findall('floof[a-zA-Z]*', text, flags=re.IGNORECASE)\n",
    "    doggo = re.findall('doggo[a-zA-Z]*', text, flags=re.IGNORECASE)\n",
    "    pupper = re.findall('pupper[a-zA-Z]*', text, flags=re.IGNORECASE)\n",
    "    puppo =  re.findall('puppo[a-zA-Z]*', text, flags=re.IGNORECASE)\n",
    "    combined = floofer + doggo + pupper + puppo\n",
    "    if combined:\n",
    "        dog_stages.append(combined)\n",
    "    else:\n",
    "        dog_stages.append([])\n",
    "        \n",
    "for index, dog_stage in enumerate(dog_stages):\n",
    "    if len(dog_stage)>1:\n",
    "        print(index, dog_stage)"
   ]
  },
  {
   "cell_type": "code",
   "execution_count": 26,
   "id": "3f691261",
   "metadata": {
    "ExecuteTime": {
     "end_time": "2022-11-12T02:56:02.197990Z",
     "start_time": "2022-11-12T02:56:02.155992Z"
    }
   },
   "outputs": [
    {
     "data": {
      "text/html": [
       "<div>\n",
       "<style scoped>\n",
       "    .dataframe tbody tr th:only-of-type {\n",
       "        vertical-align: middle;\n",
       "    }\n",
       "\n",
       "    .dataframe tbody tr th {\n",
       "        vertical-align: top;\n",
       "    }\n",
       "\n",
       "    .dataframe thead th {\n",
       "        text-align: right;\n",
       "    }\n",
       "</style>\n",
       "<table border=\"1\" class=\"dataframe\">\n",
       "  <thead>\n",
       "    <tr style=\"text-align: right;\">\n",
       "      <th></th>\n",
       "      <th>tweet_id</th>\n",
       "      <th>in_reply_to_status_id</th>\n",
       "      <th>in_reply_to_user_id</th>\n",
       "      <th>timestamp</th>\n",
       "      <th>source</th>\n",
       "      <th>text</th>\n",
       "      <th>retweeted_status_id</th>\n",
       "      <th>retweeted_status_user_id</th>\n",
       "      <th>retweeted_status_timestamp</th>\n",
       "      <th>expanded_urls</th>\n",
       "      <th>rating_numerator</th>\n",
       "      <th>rating_denominator</th>\n",
       "      <th>name</th>\n",
       "      <th>doggo</th>\n",
       "      <th>floofer</th>\n",
       "      <th>pupper</th>\n",
       "      <th>puppo</th>\n",
       "    </tr>\n",
       "  </thead>\n",
       "  <tbody>\n",
       "    <tr>\n",
       "      <th>956</th>\n",
       "      <td>751583847268179968</td>\n",
       "      <td>NaN</td>\n",
       "      <td>NaN</td>\n",
       "      <td>2016-07-09 01:08:47 +0000</td>\n",
       "      <td>&lt;a href=\"http://twitter.com/download/iphone\" rel=\"nofollow\"&gt;Twitter for iPhone&lt;/a&gt;</td>\n",
       "      <td>Please stop sending it pictures that don't even have a doggo or pupper in them. Churlish af. 5/10 neat couch tho https://t.co/u2c9c7qSg8</td>\n",
       "      <td>NaN</td>\n",
       "      <td>NaN</td>\n",
       "      <td>NaN</td>\n",
       "      <td>https://twitter.com/dog_rates/status/751583847268179968/photo/1</td>\n",
       "      <td>5</td>\n",
       "      <td>10</td>\n",
       "      <td>None</td>\n",
       "      <td>doggo</td>\n",
       "      <td>None</td>\n",
       "      <td>pupper</td>\n",
       "      <td>None</td>\n",
       "    </tr>\n",
       "  </tbody>\n",
       "</table>\n",
       "</div>"
      ],
      "text/plain": [
       "               tweet_id  in_reply_to_status_id  in_reply_to_user_id  \\\n",
       "956  751583847268179968                    NaN                  NaN   \n",
       "\n",
       "                     timestamp  \\\n",
       "956  2016-07-09 01:08:47 +0000   \n",
       "\n",
       "                                                                                 source  \\\n",
       "956  <a href=\"http://twitter.com/download/iphone\" rel=\"nofollow\">Twitter for iPhone</a>   \n",
       "\n",
       "                                                                                                                                         text  \\\n",
       "956  Please stop sending it pictures that don't even have a doggo or pupper in them. Churlish af. 5/10 neat couch tho https://t.co/u2c9c7qSg8   \n",
       "\n",
       "     retweeted_status_id  retweeted_status_user_id retweeted_status_timestamp  \\\n",
       "956                  NaN                       NaN                        NaN   \n",
       "\n",
       "                                                       expanded_urls  \\\n",
       "956  https://twitter.com/dog_rates/status/751583847268179968/photo/1   \n",
       "\n",
       "     rating_numerator  rating_denominator  name  doggo floofer  pupper puppo  \n",
       "956                 5                  10  None  doggo    None  pupper  None  "
      ]
     },
     "execution_count": 26,
     "metadata": {},
     "output_type": "execute_result"
    }
   ],
   "source": [
    "# For further visual assessment\n",
    "twitter_enhanced.iloc[[956]]"
   ]
  },
  {
   "cell_type": "markdown",
   "id": "7632776b",
   "metadata": {},
   "source": [
    "From the above assessment, the accurate dog stage for instances where a dog image has more than one dog-stage name are harshed with their individual index number using dictionary as shown below:"
   ]
  },
  {
   "cell_type": "code",
   "execution_count": 27,
   "id": "e7a73c41",
   "metadata": {
    "ExecuteTime": {
     "end_time": "2022-11-12T02:56:58.484157Z",
     "start_time": "2022-11-12T02:56:58.473153Z"
    }
   },
   "outputs": [],
   "source": [
    "dog_stage_name = {\"191\":\"puppo\", \"200\":\"floofer\", \"460\":\"pupper\", \"531\":\"pupper\",\n",
    "    \"575\":\"pupper\", \"889\":\"doggo\", \"956\":\"None\", \"1063\":\"doggo\",\n",
    "    \"1152\":\"pupper\"}"
   ]
  },
  {
   "cell_type": "code",
   "execution_count": 28,
   "id": "ae5650b7",
   "metadata": {
    "ExecuteTime": {
     "end_time": "2022-11-12T02:57:12.045876Z",
     "start_time": "2022-11-12T02:57:11.964878Z"
    }
   },
   "outputs": [
    {
     "data": {
      "text/html": [
       "<div>\n",
       "<style scoped>\n",
       "    .dataframe tbody tr th:only-of-type {\n",
       "        vertical-align: middle;\n",
       "    }\n",
       "\n",
       "    .dataframe tbody tr th {\n",
       "        vertical-align: top;\n",
       "    }\n",
       "\n",
       "    .dataframe thead th {\n",
       "        text-align: right;\n",
       "    }\n",
       "</style>\n",
       "<table border=\"1\" class=\"dataframe\">\n",
       "  <thead>\n",
       "    <tr style=\"text-align: right;\">\n",
       "      <th></th>\n",
       "      <th>tweet_id</th>\n",
       "      <th>jpg_url</th>\n",
       "      <th>img_num</th>\n",
       "      <th>p1</th>\n",
       "      <th>p1_conf</th>\n",
       "      <th>p1_dog</th>\n",
       "      <th>p2</th>\n",
       "      <th>p2_conf</th>\n",
       "      <th>p2_dog</th>\n",
       "      <th>p3</th>\n",
       "      <th>p3_conf</th>\n",
       "      <th>p3_dog</th>\n",
       "    </tr>\n",
       "  </thead>\n",
       "  <tbody>\n",
       "    <tr>\n",
       "      <th>471</th>\n",
       "      <td>675135153782571009</td>\n",
       "      <td>https://pbs.twimg.com/media/CV6P1lnWIAAUQHk.jpg</td>\n",
       "      <td>1</td>\n",
       "      <td>stove</td>\n",
       "      <td>0.587507</td>\n",
       "      <td>False</td>\n",
       "      <td>rotisserie</td>\n",
       "      <td>0.051713</td>\n",
       "      <td>False</td>\n",
       "      <td>microwave</td>\n",
       "      <td>0.020725</td>\n",
       "      <td>False</td>\n",
       "    </tr>\n",
       "    <tr>\n",
       "      <th>698</th>\n",
       "      <td>684567543613382656</td>\n",
       "      <td>https://pbs.twimg.com/media/CYASi6FWQAEQMW2.jpg</td>\n",
       "      <td>1</td>\n",
       "      <td>minibus</td>\n",
       "      <td>0.401942</td>\n",
       "      <td>False</td>\n",
       "      <td>llama</td>\n",
       "      <td>0.229145</td>\n",
       "      <td>False</td>\n",
       "      <td>seat_belt</td>\n",
       "      <td>0.209393</td>\n",
       "      <td>False</td>\n",
       "    </tr>\n",
       "    <tr>\n",
       "      <th>841</th>\n",
       "      <td>694905863685980160</td>\n",
       "      <td>https://pbs.twimg.com/media/CaTNMUgUYAAB6vs.jpg</td>\n",
       "      <td>1</td>\n",
       "      <td>bow_tie</td>\n",
       "      <td>0.449268</td>\n",
       "      <td>False</td>\n",
       "      <td>fur_coat</td>\n",
       "      <td>0.139099</td>\n",
       "      <td>False</td>\n",
       "      <td>black-footed_ferret</td>\n",
       "      <td>0.082232</td>\n",
       "      <td>False</td>\n",
       "    </tr>\n",
       "    <tr>\n",
       "      <th>1258</th>\n",
       "      <td>748692773788876800</td>\n",
       "      <td>https://pbs.twimg.com/media/CmPkGhFXEAABO1n.jpg</td>\n",
       "      <td>1</td>\n",
       "      <td>ox</td>\n",
       "      <td>0.337871</td>\n",
       "      <td>False</td>\n",
       "      <td>plow</td>\n",
       "      <td>0.269287</td>\n",
       "      <td>False</td>\n",
       "      <td>oxcart</td>\n",
       "      <td>0.245653</td>\n",
       "      <td>False</td>\n",
       "    </tr>\n",
       "    <tr>\n",
       "      <th>1240</th>\n",
       "      <td>746906459439529985</td>\n",
       "      <td>https://pbs.twimg.com/media/Cl2LdofXEAATl7x.jpg</td>\n",
       "      <td>1</td>\n",
       "      <td>traffic_light</td>\n",
       "      <td>0.470708</td>\n",
       "      <td>False</td>\n",
       "      <td>fountain</td>\n",
       "      <td>0.199776</td>\n",
       "      <td>False</td>\n",
       "      <td>space_shuttle</td>\n",
       "      <td>0.064807</td>\n",
       "      <td>False</td>\n",
       "    </tr>\n",
       "  </tbody>\n",
       "</table>\n",
       "</div>"
      ],
      "text/plain": [
       "                tweet_id                                          jpg_url  \\\n",
       "471   675135153782571009  https://pbs.twimg.com/media/CV6P1lnWIAAUQHk.jpg   \n",
       "698   684567543613382656  https://pbs.twimg.com/media/CYASi6FWQAEQMW2.jpg   \n",
       "841   694905863685980160  https://pbs.twimg.com/media/CaTNMUgUYAAB6vs.jpg   \n",
       "1258  748692773788876800  https://pbs.twimg.com/media/CmPkGhFXEAABO1n.jpg   \n",
       "1240  746906459439529985  https://pbs.twimg.com/media/Cl2LdofXEAATl7x.jpg   \n",
       "\n",
       "      img_num             p1   p1_conf  p1_dog          p2   p2_conf  p2_dog  \\\n",
       "471         1          stove  0.587507   False  rotisserie  0.051713   False   \n",
       "698         1        minibus  0.401942   False       llama  0.229145   False   \n",
       "841         1        bow_tie  0.449268   False    fur_coat  0.139099   False   \n",
       "1258        1             ox  0.337871   False        plow  0.269287   False   \n",
       "1240        1  traffic_light  0.470708   False    fountain  0.199776   False   \n",
       "\n",
       "                       p3   p3_conf  p3_dog  \n",
       "471             microwave  0.020725   False  \n",
       "698             seat_belt  0.209393   False  \n",
       "841   black-footed_ferret  0.082232   False  \n",
       "1258               oxcart  0.245653   False  \n",
       "1240        space_shuttle  0.064807   False  "
      ]
     },
     "execution_count": 28,
     "metadata": {},
     "output_type": "execute_result"
    }
   ],
   "source": [
    "# create a dataframe from image prediction table where p1, p2, and p3 are all False\n",
    "not_dog_df = image_prediction[(image_prediction[\"p1_dog\"]==False)&(image_prediction[\"p2_dog\"]==False)&\n",
    "                              (image_prediction[\"p3_dog\"]==False)]\n",
    "not_dog_df.sample(5)"
   ]
  },
  {
   "cell_type": "code",
   "execution_count": 29,
   "id": "38e4ea5b",
   "metadata": {
    "ExecuteTime": {
     "end_time": "2022-11-12T02:57:32.109266Z",
     "start_time": "2022-11-12T02:57:32.072267Z"
    }
   },
   "outputs": [
    {
     "data": {
      "text/html": [
       "<div>\n",
       "<style scoped>\n",
       "    .dataframe tbody tr th:only-of-type {\n",
       "        vertical-align: middle;\n",
       "    }\n",
       "\n",
       "    .dataframe tbody tr th {\n",
       "        vertical-align: top;\n",
       "    }\n",
       "\n",
       "    .dataframe thead th {\n",
       "        text-align: right;\n",
       "    }\n",
       "</style>\n",
       "<table border=\"1\" class=\"dataframe\">\n",
       "  <thead>\n",
       "    <tr style=\"text-align: right;\">\n",
       "      <th></th>\n",
       "      <th>tweet_id</th>\n",
       "      <th>in_reply_to_status_id</th>\n",
       "      <th>in_reply_to_user_id</th>\n",
       "      <th>timestamp</th>\n",
       "      <th>source</th>\n",
       "      <th>text</th>\n",
       "      <th>retweeted_status_id</th>\n",
       "      <th>retweeted_status_user_id</th>\n",
       "      <th>retweeted_status_timestamp</th>\n",
       "      <th>expanded_urls</th>\n",
       "      <th>rating_numerator</th>\n",
       "      <th>rating_denominator</th>\n",
       "      <th>name</th>\n",
       "      <th>doggo</th>\n",
       "      <th>floofer</th>\n",
       "      <th>pupper</th>\n",
       "      <th>puppo</th>\n",
       "    </tr>\n",
       "  </thead>\n",
       "  <tbody>\n",
       "    <tr>\n",
       "      <th>1984</th>\n",
       "      <td>672902681409806336</td>\n",
       "      <td>NaN</td>\n",
       "      <td>NaN</td>\n",
       "      <td>2015-12-04 22:17:55 +0000</td>\n",
       "      <td>&lt;a href=\"http://twitter.com/download/iphone\" rel=\"nofollow\"&gt;Twitter for iPhone&lt;/a&gt;</td>\n",
       "      <td>This is Jimison. He's stuck in a pot. Damn it Jimison. 9/10 https://t.co/KpLyca3o3E</td>\n",
       "      <td>NaN</td>\n",
       "      <td>NaN</td>\n",
       "      <td>NaN</td>\n",
       "      <td>https://twitter.com/dog_rates/status/672902681409806336/photo/1</td>\n",
       "      <td>9</td>\n",
       "      <td>10</td>\n",
       "      <td>Jimison</td>\n",
       "      <td>None</td>\n",
       "      <td>None</td>\n",
       "      <td>None</td>\n",
       "      <td>None</td>\n",
       "    </tr>\n",
       "  </tbody>\n",
       "</table>\n",
       "</div>"
      ],
      "text/plain": [
       "                tweet_id  in_reply_to_status_id  in_reply_to_user_id  \\\n",
       "1984  672902681409806336                    NaN                  NaN   \n",
       "\n",
       "                      timestamp  \\\n",
       "1984  2015-12-04 22:17:55 +0000   \n",
       "\n",
       "                                                                                  source  \\\n",
       "1984  <a href=\"http://twitter.com/download/iphone\" rel=\"nofollow\">Twitter for iPhone</a>   \n",
       "\n",
       "                                                                                     text  \\\n",
       "1984  This is Jimison. He's stuck in a pot. Damn it Jimison. 9/10 https://t.co/KpLyca3o3E   \n",
       "\n",
       "      retweeted_status_id  retweeted_status_user_id  \\\n",
       "1984                  NaN                       NaN   \n",
       "\n",
       "     retweeted_status_timestamp  \\\n",
       "1984                        NaN   \n",
       "\n",
       "                                                        expanded_urls  \\\n",
       "1984  https://twitter.com/dog_rates/status/672902681409806336/photo/1   \n",
       "\n",
       "      rating_numerator  rating_denominator     name doggo floofer pupper puppo  \n",
       "1984                 9                  10  Jimison  None    None   None  None  "
      ]
     },
     "execution_count": 29,
     "metadata": {},
     "output_type": "execute_result"
    }
   ],
   "source": [
    "# To each tweet link from the twitter_enhanced table for further assessment\n",
    "twitter_enhanced[twitter_enhanced[\"tweet_id\"] == 672902681409806336]"
   ]
  },
  {
   "cell_type": "markdown",
   "id": "18ce24bd",
   "metadata": {},
   "source": [
    "> After Assessing random images from the image_prediction on twitter via the image's url and tweet's url, the images with the following tweet_id below are actual dog images"
   ]
  },
  {
   "cell_type": "code",
   "execution_count": 30,
   "id": "c169d6b1",
   "metadata": {
    "ExecuteTime": {
     "end_time": "2022-11-12T02:58:06.540825Z",
     "start_time": "2022-11-12T02:58:06.526821Z"
    }
   },
   "outputs": [],
   "source": [
    "# The images with the following tweet_id are actual dog images. \n",
    "is_dog = [670361874861563904, 731156023742988288, 672902681409806336, 670468609693655041, 755206590534418437, \n",
    "          892420643555336193, 690932576555528194, 742465774154047488, 742161199639494656, 666983947667116034, \n",
    "          742528092657332225, 767191397493538821]"
   ]
  },
  {
   "cell_type": "markdown",
   "id": "6dcadff0",
   "metadata": {
    "ExecuteTime": {
     "end_time": "2022-11-12T03:08:01.717007Z",
     "start_time": "2022-11-12T03:08:01.697004Z"
    }
   },
   "source": [
    "### Quality Issues\n",
    "#####  `twitter_enhanced table`\n",
    "\n",
    "\n",
    "\n",
    "1. 204 and 170 rating_numerator and rating_denominator respectively for tweet_id: 731156023742988288, is a combined rating of 17 dogs.\n",
    "\n",
    "2. 80/80 ratings for tweet_id: 710658690886586372 is a combined rating for 8 dogs\n",
    "\n",
    "3. The numerator rating for tweet_id: 786709082849828864 should be 9.75 (apprxiamtely 10) and not 75\n",
    "\n",
    "4. Numerator rating for tweet_id: 778027034220126208 should be 11.25 (approximately 11) instead of 25\n",
    "\n",
    "5. This tweet_id:810984652412424192 has no dog rating hence the ratings for both numerator and denominator should be empty\n",
    "\n",
    "6. Ratings 165 and 150 for numerator and denominator is a combined rating of 15 dogs of same breed for tweet_id: 758467244762497024\n",
    "\n",
    "7. Image prediction with tweet_id: 694352839993344000 image number is 2 hence the ratings should be 5 and 10 and not 10 and 10 for numerator and denominator ratings respectively.\n",
    "\n",
    "8. 144/120 ratings with tweet_id: 677716515794329600 is a combined rating for 12 dogs\n",
    "\n",
    "9. Ratings for 682962037429899265 should be 10 and 10 for numerator and denominator respectively and not 7 and 11\n",
    "\n",
    "10. Ratings for tweet_id: 722974582966214656 are 13 and 10 for numerator and denominator respectively \n",
    "\n",
    "11. Ratings for tweet_id: 716439118184652801 are 13 and 10 for numerator and denominator respectively and not 50 and 50\n",
    "\n",
    "12. Ratings for tweet_id: 666287406224695296 should be 9/10 and not 1/2\n",
    "\n",
    "13. Numerator ratings for 674646392044941312 should be 8 and not 5\n",
    "\n",
    "14. Ratings contain comments and retweets \n",
    "\n",
    "##### `image_prediction table`\n",
    "\n",
    "15. The prediction algorithm got it wrong on some dog images. \n",
    "\n"
   ]
  },
  {
   "cell_type": "markdown",
   "id": "f54a3a8b",
   "metadata": {},
   "source": [
    "### Tidiness issues\n",
    "1. One variable in four columns in `twitter_enhanced` table(dog stage)\n",
    "\n",
    "2. tweet's url in text column in `twitter_enhanced` table should be in a separate column\n",
    "\n",
    "3. more than one dog breed type per dog in the `image_prediction ta"
   ]
  },
  {
   "cell_type": "markdown",
   "id": "262a0a44",
   "metadata": {},
   "source": [
    "## Cleaning Data\n",
    "In this section, clean **all** of the issues you documented while assessing. \n",
    "\n",
    "**Note:** Make a copy of the original data before cleaning. Cleaning includes merging individual pieces of data according to the rules of [tidy data](https://cran.r-project.org/web/packages/tidyr/vignettes/tidy-data.html). The result should be a high-quality and tidy master pandas DataFrame (or DataFrames, if appropriate)."
   ]
  },
  {
   "cell_type": "code",
   "execution_count": 32,
   "id": "12e2a505",
   "metadata": {
    "ExecuteTime": {
     "end_time": "2022-11-12T03:17:52.474597Z",
     "start_time": "2022-11-12T03:17:52.460595Z"
    }
   },
   "outputs": [],
   "source": [
    "# Make copies of original pieces of data\n",
    "df_twitter = twitter_enhanced.copy() \n",
    "df_predictions = image_prediction.copy()\n",
    "df_counts = counts.copy()"
   ]
  },
  {
   "cell_type": "markdown",
   "id": "f3694c2f",
   "metadata": {},
   "source": [
    "### Tidiness Issue"
   ]
  },
  {
   "cell_type": "markdown",
   "id": "b6eba30c",
   "metadata": {},
   "source": [
    "#### 1. Extract dog stage name from the text column using regular expression into a new column, check for consistency in the stage dog name and drop the irrelevant columns."
   ]
  },
  {
   "cell_type": "markdown",
   "id": "3e03a1c1",
   "metadata": {},
   "source": [
    "#### Code"
   ]
  },
  {
   "cell_type": "code",
   "execution_count": 33,
   "id": "c7834c86",
   "metadata": {
    "ExecuteTime": {
     "end_time": "2022-11-12T03:19:13.411934Z",
     "start_time": "2022-11-12T03:19:13.288936Z"
    }
   },
   "outputs": [
    {
     "name": "stdout",
     "output_type": "stream",
     "text": [
      "46 ['floofiest', 'floofer']\n",
      "172 ['doggo', 'puppon', 'Puppollock']\n",
      "191 ['doggo', 'puppo']\n",
      "200 ['Floofer', 'doggo']\n",
      "323 ['DOGGO', 'DOGGO']\n",
      "433 ['floofs', 'floofs']\n",
      "460 ['doggo', 'Pupper']\n",
      "531 ['doggo', 'doggo', 'pupper', 'Pupper']\n",
      "565 ['doggo', 'pupper']\n",
      "575 ['doggo', 'pupper']\n",
      "631 ['pupper', 'pupper']\n",
      "705 ['doggo', 'pupper']\n",
      "733 ['Doggo', 'Pupper']\n",
      "764 ['Floofy', 'doggo']\n",
      "778 ['doggo', 'pupper']\n",
      "822 ['doggo', 'pupper']\n",
      "835 ['Floofy', 'doggo']\n",
      "881 ['Doggo', 'doggo']\n",
      "889 ['doggo', 'pupper']\n",
      "956 ['doggo', 'pupper']\n",
      "1000 ['PUPPER', 'pupper']\n",
      "1063 ['doggo', 'pupper']\n",
      "1113 ['doggo', 'pupper']\n",
      "1152 ['Floofem', 'pupper']\n",
      "1304 ['pupper', 'pupper']\n",
      "1340 ['pupper', 'pupper']\n",
      "1367 ['pupper', 'pupper']\n",
      "1382 ['Pupper', 'pupper']\n",
      "1653 ['pupper', 'pupper']\n",
      "1788 ['pupper', 'pupper']\n",
      "1828 ['pupper', 'pupper']\n",
      "1907 ['pupper', 'pupper', 'pupper']\n"
     ]
    }
   ],
   "source": [
    "dog_stages = []\n",
    "\n",
    "for text in df_twitter[\"text\"]:\n",
    "    floofer = re.findall('floof[a-zA-Z]*', text, flags=re.IGNORECASE)\n",
    "    doggo = re.findall('doggo[a-zA-Z]*', text, flags=re.IGNORECASE)\n",
    "    pupper = re.findall('pupper[a-zA-Z]*', text, flags=re.IGNORECASE)\n",
    "    puppo =  re.findall('puppo[a-zA-Z]*', text, flags=re.IGNORECASE)\n",
    "    combined = floofer + doggo + pupper + puppo\n",
    "    if combined:\n",
    "        dog_stages.append(combined)\n",
    "    else:\n",
    "        dog_stages.append([])\n",
    "        \n",
    "for index, dog_stage in enumerate(dog_stages):\n",
    "    if len(dog_stage)>1:\n",
    "        print(index, dog_stage)"
   ]
  },
  {
   "cell_type": "code",
   "execution_count": 34,
   "id": "aa42a270",
   "metadata": {
    "ExecuteTime": {
     "end_time": "2022-11-12T03:19:34.636245Z",
     "start_time": "2022-11-12T03:19:34.615243Z"
    }
   },
   "outputs": [],
   "source": [
    "dog_stage_name = {\"191\":\"puppo\", \"200\":\"floofer\", \"460\":\"pupper\", \n",
    "                  \"531\":\"pupper\", \"575\":\"pupper\", \"889\":\"doggo\", \n",
    "                  \"956\":\"None\", \"1063\":\"doggo\", \"1152\":\"pupper\"}"
   ]
  },
  {
   "cell_type": "code",
   "execution_count": 35,
   "id": "45b1359a",
   "metadata": {
    "ExecuteTime": {
     "end_time": "2022-11-12T03:20:44.174188Z",
     "start_time": "2022-11-12T03:20:44.142181Z"
    }
   },
   "outputs": [],
   "source": [
    "dog_stage = []\n",
    "for index, stage in enumerate(dog_stages):\n",
    "    if str(index) in dog_stage_name:\n",
    "        if dog_stage_name[str(index)] == \"None\":\n",
    "            dog_stage.append(dog_stage_name[str(index)])\n",
    "        else:\n",
    "            dog_stage.append(dog_stage_name[str(index)].lower())\n",
    "    elif len(stage)>0:\n",
    "        dog_stage.append(stage[0].lower())\n",
    "    else:\n",
    "        dog_stage.append(\"None\")\n",
    "        \n",
    "df_twitter[\"dog_stage\"] = dog_stage"
   ]
  },
  {
   "cell_type": "code",
   "execution_count": 36,
   "id": "69688d76",
   "metadata": {
    "ExecuteTime": {
     "end_time": "2022-11-12T03:20:44.786888Z",
     "start_time": "2022-11-12T03:20:44.765895Z"
    }
   },
   "outputs": [],
   "source": [
    "def clean_dog_stage(x):\n",
    "    if x in clean_dict:\n",
    "        return clean_dict[x]\n",
    "    else:\n",
    "        return x\n",
    "    \n",
    "clean_dict = {\"puppers\":\"pupper\", \"floof\":\"floofer\", \"doggos\":\"doggo\", \"floofy\":\"floofer\", \"puppologize\":\"puppo\",\n",
    "     \"floofs\":\"floofer\", \"floofmallow\":\"floofer\", \"puppoccino\":\"puppo\", \"pupporting\":\"puppo\", \"puppertunity\":\"pupper\",\n",
    "     \"pupposes\":\"puppo\", \"pupperdoop\":\"pupper\", \"pupporazzi\":\"puppo\", \"floofiest\":\"floofer\", \"floofem\":\"floofer\",\n",
    "     \"floofboop\":\"floofer\", \"floofapolis\":\"floofer\", \"puppergeddon\":\"pupper\"}\n",
    "\n",
    "df_twitter[\"dog_stage\"] = df_twitter[\"dog_stage\"].map(lambda x:clean_dog_stage(x))\n",
    "df_twitter.drop(columns=[\"puppo\",\"doggo\",\"pupper\",\"floofer\"], inplace=True)"
   ]
  },
  {
   "cell_type": "markdown",
   "id": "8582be4b",
   "metadata": {},
   "source": [
    "#### Test"
   ]
  },
  {
   "cell_type": "code",
   "execution_count": 37,
   "id": "98fa3eb6",
   "metadata": {
    "ExecuteTime": {
     "end_time": "2022-11-12T03:21:01.576034Z",
     "start_time": "2022-11-12T03:21:01.543031Z"
    }
   },
   "outputs": [
    {
     "data": {
      "text/html": [
       "<div>\n",
       "<style scoped>\n",
       "    .dataframe tbody tr th:only-of-type {\n",
       "        vertical-align: middle;\n",
       "    }\n",
       "\n",
       "    .dataframe tbody tr th {\n",
       "        vertical-align: top;\n",
       "    }\n",
       "\n",
       "    .dataframe thead th {\n",
       "        text-align: right;\n",
       "    }\n",
       "</style>\n",
       "<table border=\"1\" class=\"dataframe\">\n",
       "  <thead>\n",
       "    <tr style=\"text-align: right;\">\n",
       "      <th></th>\n",
       "      <th>tweet_id</th>\n",
       "      <th>in_reply_to_status_id</th>\n",
       "      <th>in_reply_to_user_id</th>\n",
       "      <th>timestamp</th>\n",
       "      <th>source</th>\n",
       "      <th>text</th>\n",
       "      <th>retweeted_status_id</th>\n",
       "      <th>retweeted_status_user_id</th>\n",
       "      <th>retweeted_status_timestamp</th>\n",
       "      <th>expanded_urls</th>\n",
       "      <th>rating_numerator</th>\n",
       "      <th>rating_denominator</th>\n",
       "      <th>name</th>\n",
       "      <th>dog_stage</th>\n",
       "    </tr>\n",
       "  </thead>\n",
       "  <tbody>\n",
       "    <tr>\n",
       "      <th>0</th>\n",
       "      <td>892420643555336193</td>\n",
       "      <td>NaN</td>\n",
       "      <td>NaN</td>\n",
       "      <td>2017-08-01 16:23:56 +0000</td>\n",
       "      <td>&lt;a href=\"http://twitter.com/download/iphone\" rel=\"nofollow\"&gt;Twitter for iPhone&lt;/a&gt;</td>\n",
       "      <td>This is Phineas. He's a mystical boy. Only ever appears in the hole of a donut. 13/10 https://t.co/MgUWQ76dJU</td>\n",
       "      <td>NaN</td>\n",
       "      <td>NaN</td>\n",
       "      <td>NaN</td>\n",
       "      <td>https://twitter.com/dog_rates/status/892420643555336193/photo/1</td>\n",
       "      <td>13</td>\n",
       "      <td>10</td>\n",
       "      <td>Phineas</td>\n",
       "      <td>None</td>\n",
       "    </tr>\n",
       "    <tr>\n",
       "      <th>1</th>\n",
       "      <td>892177421306343426</td>\n",
       "      <td>NaN</td>\n",
       "      <td>NaN</td>\n",
       "      <td>2017-08-01 00:17:27 +0000</td>\n",
       "      <td>&lt;a href=\"http://twitter.com/download/iphone\" rel=\"nofollow\"&gt;Twitter for iPhone&lt;/a&gt;</td>\n",
       "      <td>This is Tilly. She's just checking pup on you. Hopes you're doing ok. If not, she's available for pats, snugs, boops, the whole bit. 13/10 https://t.co/0Xxu71qeIV</td>\n",
       "      <td>NaN</td>\n",
       "      <td>NaN</td>\n",
       "      <td>NaN</td>\n",
       "      <td>https://twitter.com/dog_rates/status/892177421306343426/photo/1</td>\n",
       "      <td>13</td>\n",
       "      <td>10</td>\n",
       "      <td>Tilly</td>\n",
       "      <td>None</td>\n",
       "    </tr>\n",
       "  </tbody>\n",
       "</table>\n",
       "</div>"
      ],
      "text/plain": [
       "             tweet_id  in_reply_to_status_id  in_reply_to_user_id  \\\n",
       "0  892420643555336193                    NaN                  NaN   \n",
       "1  892177421306343426                    NaN                  NaN   \n",
       "\n",
       "                   timestamp  \\\n",
       "0  2017-08-01 16:23:56 +0000   \n",
       "1  2017-08-01 00:17:27 +0000   \n",
       "\n",
       "                                                                               source  \\\n",
       "0  <a href=\"http://twitter.com/download/iphone\" rel=\"nofollow\">Twitter for iPhone</a>   \n",
       "1  <a href=\"http://twitter.com/download/iphone\" rel=\"nofollow\">Twitter for iPhone</a>   \n",
       "\n",
       "                                                                                                                                                                 text  \\\n",
       "0                                                       This is Phineas. He's a mystical boy. Only ever appears in the hole of a donut. 13/10 https://t.co/MgUWQ76dJU   \n",
       "1  This is Tilly. She's just checking pup on you. Hopes you're doing ok. If not, she's available for pats, snugs, boops, the whole bit. 13/10 https://t.co/0Xxu71qeIV   \n",
       "\n",
       "   retweeted_status_id  retweeted_status_user_id retweeted_status_timestamp  \\\n",
       "0                  NaN                       NaN                        NaN   \n",
       "1                  NaN                       NaN                        NaN   \n",
       "\n",
       "                                                     expanded_urls  \\\n",
       "0  https://twitter.com/dog_rates/status/892420643555336193/photo/1   \n",
       "1  https://twitter.com/dog_rates/status/892177421306343426/photo/1   \n",
       "\n",
       "   rating_numerator  rating_denominator     name dog_stage  \n",
       "0                13                  10  Phineas      None  \n",
       "1                13                  10    Tilly      None  "
      ]
     },
     "execution_count": 37,
     "metadata": {},
     "output_type": "execute_result"
    }
   ],
   "source": [
    "df_twitter.head(2)"
   ]
  },
  {
   "cell_type": "markdown",
   "id": "b08aa483",
   "metadata": {},
   "source": [
    "#### 2. Separate the tweet url in the text column to a new column using regular expression and pandas extract method. "
   ]
  },
  {
   "cell_type": "markdown",
   "id": "27e706b5",
   "metadata": {},
   "source": [
    "#### Code"
   ]
  },
  {
   "cell_type": "code",
   "execution_count": 38,
   "id": "b3312b37",
   "metadata": {
    "ExecuteTime": {
     "end_time": "2022-11-12T03:49:24.005904Z",
     "start_time": "2022-11-12T03:49:23.903901Z"
    }
   },
   "outputs": [],
   "source": [
    "pattern = r'(https?:\\/\\/(?:www\\.)?[-a-zA-Z0-9@:%._+~#=]{1,256}\\.[a-zA-Z0-9()]{1,6}[-a-zA-Z0-9()@:%_+.~#?&/=]*)'\n",
    "df_twitter['tweet_url']= df_twitter[\"text\"].str.extract(pattern, expand=False).str.strip()\n",
    "df_twitter[\"text\"] = df_twitter[\"text\"].apply(lambda x : re.sub(r'https?://\\S+', '.', x))"
   ]
  },
  {
   "cell_type": "markdown",
   "id": "0a3a1c2a",
   "metadata": {},
   "source": [
    "#### Test"
   ]
  },
  {
   "cell_type": "code",
   "execution_count": 39,
   "id": "4b310c7e",
   "metadata": {
    "ExecuteTime": {
     "end_time": "2022-11-12T03:50:22.740998Z",
     "start_time": "2022-11-12T03:50:22.709996Z"
    }
   },
   "outputs": [
    {
     "data": {
      "text/html": [
       "<div>\n",
       "<style scoped>\n",
       "    .dataframe tbody tr th:only-of-type {\n",
       "        vertical-align: middle;\n",
       "    }\n",
       "\n",
       "    .dataframe tbody tr th {\n",
       "        vertical-align: top;\n",
       "    }\n",
       "\n",
       "    .dataframe thead th {\n",
       "        text-align: right;\n",
       "    }\n",
       "</style>\n",
       "<table border=\"1\" class=\"dataframe\">\n",
       "  <thead>\n",
       "    <tr style=\"text-align: right;\">\n",
       "      <th></th>\n",
       "      <th>tweet_id</th>\n",
       "      <th>in_reply_to_status_id</th>\n",
       "      <th>in_reply_to_user_id</th>\n",
       "      <th>timestamp</th>\n",
       "      <th>source</th>\n",
       "      <th>text</th>\n",
       "      <th>retweeted_status_id</th>\n",
       "      <th>retweeted_status_user_id</th>\n",
       "      <th>retweeted_status_timestamp</th>\n",
       "      <th>expanded_urls</th>\n",
       "      <th>rating_numerator</th>\n",
       "      <th>rating_denominator</th>\n",
       "      <th>name</th>\n",
       "      <th>dog_stage</th>\n",
       "      <th>tweet_url</th>\n",
       "    </tr>\n",
       "  </thead>\n",
       "  <tbody>\n",
       "    <tr>\n",
       "      <th>0</th>\n",
       "      <td>892420643555336193</td>\n",
       "      <td>NaN</td>\n",
       "      <td>NaN</td>\n",
       "      <td>2017-08-01 16:23:56 +0000</td>\n",
       "      <td>&lt;a href=\"http://twitter.com/download/iphone\" rel=\"nofollow\"&gt;Twitter for iPhone&lt;/a&gt;</td>\n",
       "      <td>This is Phineas. He's a mystical boy. Only ever appears in the hole of a donut. 13/10 .</td>\n",
       "      <td>NaN</td>\n",
       "      <td>NaN</td>\n",
       "      <td>NaN</td>\n",
       "      <td>https://twitter.com/dog_rates/status/892420643555336193/photo/1</td>\n",
       "      <td>13</td>\n",
       "      <td>10</td>\n",
       "      <td>Phineas</td>\n",
       "      <td>None</td>\n",
       "      <td>https://t.co/MgUWQ76dJU</td>\n",
       "    </tr>\n",
       "  </tbody>\n",
       "</table>\n",
       "</div>"
      ],
      "text/plain": [
       "             tweet_id  in_reply_to_status_id  in_reply_to_user_id  \\\n",
       "0  892420643555336193                    NaN                  NaN   \n",
       "\n",
       "                   timestamp  \\\n",
       "0  2017-08-01 16:23:56 +0000   \n",
       "\n",
       "                                                                               source  \\\n",
       "0  <a href=\"http://twitter.com/download/iphone\" rel=\"nofollow\">Twitter for iPhone</a>   \n",
       "\n",
       "                                                                                      text  \\\n",
       "0  This is Phineas. He's a mystical boy. Only ever appears in the hole of a donut. 13/10 .   \n",
       "\n",
       "   retweeted_status_id  retweeted_status_user_id retweeted_status_timestamp  \\\n",
       "0                  NaN                       NaN                        NaN   \n",
       "\n",
       "                                                     expanded_urls  \\\n",
       "0  https://twitter.com/dog_rates/status/892420643555336193/photo/1   \n",
       "\n",
       "   rating_numerator  rating_denominator     name dog_stage  \\\n",
       "0                13                  10  Phineas      None   \n",
       "\n",
       "                 tweet_url  \n",
       "0  https://t.co/MgUWQ76dJU  "
      ]
     },
     "execution_count": 39,
     "metadata": {},
     "output_type": "execute_result"
    }
   ],
   "source": [
    "df_twitter.head(1)"
   ]
  },
  {
   "cell_type": "markdown",
   "id": "8f743f34",
   "metadata": {},
   "source": [
    "#### 3. Drop rows in the `df_predictions` tabel  where p1, p2, and p3 is all False except those with tweet_ids in the `is_dog` list and a also create a single column for dog breed by selecting the result of the model with the most confident prediction except where all outcomes are false in which case the least confident outcome should be selected. "
   ]
  },
  {
   "cell_type": "code",
   "execution_count": 40,
   "id": "4a6769b4",
   "metadata": {
    "ExecuteTime": {
     "end_time": "2022-11-12T04:03:10.946179Z",
     "start_time": "2022-11-12T04:03:10.932184Z"
    }
   },
   "outputs": [
    {
     "data": {
      "text/plain": [
       "(2075, 12)"
      ]
     },
     "execution_count": 40,
     "metadata": {},
     "output_type": "execute_result"
    }
   ],
   "source": [
    "# Before cleaning\n",
    "df_predictions.shape"
   ]
  },
  {
   "cell_type": "markdown",
   "id": "9e3cefea",
   "metadata": {},
   "source": [
    "#### Code"
   ]
  },
  {
   "cell_type": "code",
   "execution_count": 41,
   "id": "2afaf408",
   "metadata": {
    "ExecuteTime": {
     "end_time": "2022-11-12T04:03:47.645396Z",
     "start_time": "2022-11-12T04:03:47.629396Z"
    }
   },
   "outputs": [
    {
     "data": {
      "text/plain": [
       "[670361874861563904,\n",
       " 731156023742988288,\n",
       " 672902681409806336,\n",
       " 670468609693655041,\n",
       " 755206590534418437,\n",
       " 892420643555336193,\n",
       " 690932576555528194,\n",
       " 742465774154047488,\n",
       " 742161199639494656,\n",
       " 666983947667116034,\n",
       " 742528092657332225,\n",
       " 767191397493538821]"
      ]
     },
     "execution_count": 41,
     "metadata": {},
     "output_type": "execute_result"
    }
   ],
   "source": [
    "is_dog"
   ]
  },
  {
   "cell_type": "code",
   "execution_count": 42,
   "id": "6a708990",
   "metadata": {
    "ExecuteTime": {
     "end_time": "2022-11-12T04:04:32.725478Z",
     "start_time": "2022-11-12T04:04:32.581480Z"
    }
   },
   "outputs": [],
   "source": [
    "is_a_dog_list = []\n",
    "for i in range(len(image_prediction)):\n",
    "    if (image_prediction[\"p1_dog\"][i])|(image_prediction[\"p2_dog\"][i])|(image_prediction[\"p3_dog\"][i]):\n",
    "        is_a_dog_list.append(\"Yes\")\n",
    "    elif image_prediction[\"tweet_id\"][i] in is_dog:\n",
    "        is_a_dog_list.append(\"Yes\")\n",
    "    else:\n",
    "        is_a_dog_list.append(\"No\")\n",
    "df_predictions[\"is_dog\"] = is_a_dog_list"
   ]
  },
  {
   "cell_type": "code",
   "execution_count": 43,
   "id": "10b14d8e",
   "metadata": {
    "ExecuteTime": {
     "end_time": "2022-11-12T04:04:34.482020Z",
     "start_time": "2022-11-12T04:04:34.129935Z"
    }
   },
   "outputs": [],
   "source": [
    "dog_breed = []\n",
    "model = []\n",
    "for i in df_predictions.index:\n",
    "    if df_predictions[\"is_dog\"][i]==\"Yes\":\n",
    "        if not df_predictions[\"p1_dog\"][i] and not df_predictions[\"p2_dog\"][i] and df_predictions[\"p3_dog\"][i]:\n",
    "            dog_breed.append(df_predictions[\"p3\"][i])\n",
    "            model.append(\"p3\")\n",
    "        elif not df_predictions[\"p1_dog\"][i] and not df_predictions[\"p3_dog\"][i] and df_predictions[\"p2_dog\"][i]:\n",
    "            dog_breed.append(df_predictions[\"p2\"][i])\n",
    "            model.append(\"p2\")\n",
    "        elif not df_predictions[\"p2_dog\"][i] and not df_predictions[\"p3_dog\"][i] and df_predictions[\"p1_dog\"][i]:\n",
    "            dog_breed.append(df_predictions[\"p1\"][i])\n",
    "            model.append(\"p1\")\n",
    "        elif not df_predictions[\"p1_dog\"][i] and df_predictions[\"p2_dog\"][i] and df_predictions[\"p3_dog\"][i]:\n",
    "            max_p_conf = max([df_predictions[\"p2_conf\"][i],\n",
    "                              df_predictions[\"p3_conf\"][i]])\n",
    "            if max_p_conf == df_predictions[\"p2_conf\"][i]:\n",
    "                dog_breed.append(df_predictions[\"p2\"][i])\n",
    "                model.append(\"p2\")\n",
    "            elif max_p_conf == df_predictions[\"p3_conf\"][i]:\n",
    "                dog_breed.append(df_predictions[\"p3\"][i])\n",
    "                model.append(\"p3\")\n",
    "        elif not df_predictions[\"p2_dog\"][i] and df_predictions[\"p1_dog\"][i] and df_predictions[\"p3_dog\"][i]:\n",
    "            max_p_conf = max([df_predictions[\"p1_conf\"][i],\n",
    "                              df_predictions[\"p3_conf\"][i]])\n",
    "            if max_p_conf == df_predictions[\"p1_conf\"][i]:\n",
    "                    dog_breed.append(df_predictions[\"p1\"][i])\n",
    "                    model.append(\"p1\")\n",
    "            elif max_p_conf == df_predictions[\"p3_conf\"][i]:\n",
    "                dog_breed.append(df_predictions[\"p3\"][i])\n",
    "                model.append(\"p3\")\n",
    "        elif not df_predictions[\"p3_dog\"][i] and df_predictions[\"p1_dog\"][i] and df_predictions[\"p2_dog\"][i]:\n",
    "            max_p_conf = max([df_predictions[\"p1_conf\"][i],\n",
    "                              df_predictions[\"p2_conf\"][i]])\n",
    "            if max_p_conf == df_predictions[\"p1_conf\"][i]:\n",
    "                    dog_breed.append(df_predictions[\"p1\"][i])\n",
    "                    model.append(\"p1\")\n",
    "            elif max_p_conf == df_predictions[\"p2_conf\"][i]:\n",
    "                dog_breed.append(df_predictions[\"p2\"][i])\n",
    "                model.append(\"p2\")\n",
    "        elif df_predictions[\"p3_dog\"][i] and df_predictions[\"p1_dog\"][i] and df_predictions[\"p2_dog\"][i]:\n",
    "            max_p_conf = max([df_predictions[\"p1_conf\"][i],\n",
    "                         df_predictions[\"p2_conf\"][i],\n",
    "                         df_predictions[\"p3_conf\"][i]])\n",
    "        \n",
    "            if max_p_conf == df_predictions[\"p1_conf\"][i]:\n",
    "                dog_breed.append(df_predictions[\"p1\"][i])\n",
    "                model.append(\"p1\")\n",
    "            elif max_p_conf == df_predictions[\"p2_conf\"][i]:\n",
    "                dog_breed.append(df_predictions[\"p2\"][i])\n",
    "                model.append(\"p2\")\n",
    "            elif max_p_conf == df_predictions[\"p3_conf\"][i]:\n",
    "                dog_breed.append(df_predictions[\"p3\"][i])\n",
    "                model.append(\"p3\")\n",
    "        elif not df_predictions[\"p3_dog\"][i] and not df_predictions[\"p1_dog\"][i] and not df_predictions[\"p2_dog\"][i]:\n",
    "            min_p_conf = min([df_predictions[\"p1_conf\"][i],\n",
    "                         df_predictions[\"p2_conf\"][i],\n",
    "                         df_predictions[\"p3_conf\"][i]])\n",
    "        \n",
    "            if min_p_conf == df_predictions[\"p1_conf\"][i]:\n",
    "                dog_breed.append(\"Invalid\")\n",
    "                model.append(\"p1\")\n",
    "            elif min_p_conf == df_predictions[\"p2_conf\"][i]:\n",
    "                dog_breed.append(\"Invalid\")\n",
    "                model.append(\"p2\")\n",
    "            elif min_p_conf == df_predictions[\"p3_conf\"][i]:\n",
    "                dog_breed.append(\"Invalid\")\n",
    "                model.append(\"p3\")\n",
    "    else:\n",
    "        dog_breed.append(np.nan)\n",
    "        model.append(np.nan)\n",
    "# dog_breed colunms\n",
    "df_predictions[\"dog_breed\"] = dog_breed \n",
    "\n",
    "# Column for the model responsible for the preiction \n",
    "df_predictions[\"prediction_model\"] = model"
   ]
  },
  {
   "cell_type": "code",
   "execution_count": 44,
   "id": "01c88994",
   "metadata": {
    "ExecuteTime": {
     "end_time": "2022-11-12T04:04:52.370072Z",
     "start_time": "2022-11-12T04:04:52.359071Z"
    }
   },
   "outputs": [
    {
     "data": {
      "text/plain": [
       "(2075, 15)"
      ]
     },
     "execution_count": 44,
     "metadata": {},
     "output_type": "execute_result"
    }
   ],
   "source": [
    "df_predictions.shape"
   ]
  },
  {
   "cell_type": "code",
   "execution_count": 45,
   "id": "e163d7e0",
   "metadata": {
    "ExecuteTime": {
     "end_time": "2022-11-12T04:05:19.279378Z",
     "start_time": "2022-11-12T04:05:19.200374Z"
    }
   },
   "outputs": [
    {
     "name": "stderr",
     "output_type": "stream",
     "text": [
      "C:\\Users\\user\\anaconda3\\envs\\udacity_data_analyst_nanodegree\\lib\\site-packages\\pandas\\core\\generic.py:6619: SettingWithCopyWarning: \n",
      "A value is trying to be set on a copy of a slice from a DataFrame\n",
      "\n",
      "See the caveats in the documentation: https://pandas.pydata.org/pandas-docs/stable/user_guide/indexing.html#returning-a-view-versus-a-copy\n",
      "  return self._update_inplace(result)\n"
     ]
    }
   ],
   "source": [
    "# Drop all rows where dog_breed and predicton_model is NaN\n",
    "df_predictions = df_predictions.dropna(subset=[\"dog_breed\", \"prediction_model\"])\n",
    "\n",
    "# Drop the is_dog column\n",
    "df_predictions.drop([\"is_dog\"], axis=1)\n",
    "\n",
    "# Replace Invalid Values in dog_breed column with NaN\n",
    "df_predictions[\"dog_breed\"].replace(\"Invalid\", np.nan, inplace=True)"
   ]
  },
  {
   "cell_type": "markdown",
   "id": "f185fcf9",
   "metadata": {},
   "source": [
    "#### Test"
   ]
  },
  {
   "cell_type": "code",
   "execution_count": 46,
   "id": "1484ea86",
   "metadata": {
    "ExecuteTime": {
     "end_time": "2022-11-12T04:06:28.609163Z",
     "start_time": "2022-11-12T04:06:28.588168Z"
    }
   },
   "outputs": [
    {
     "data": {
      "text/plain": [
       "(1763, 15)"
      ]
     },
     "execution_count": 46,
     "metadata": {},
     "output_type": "execute_result"
    }
   ],
   "source": [
    "# After cleaning\n",
    "df_predictions.shape"
   ]
  },
  {
   "cell_type": "markdown",
   "id": "49e347f2",
   "metadata": {},
   "source": [
    "### Quality Issue"
   ]
  },
  {
   "cell_type": "code",
   "execution_count": 47,
   "id": "90ab6961",
   "metadata": {
    "ExecuteTime": {
     "end_time": "2022-11-12T04:51:34.451873Z",
     "start_time": "2022-11-12T04:51:34.425870Z"
    }
   },
   "outputs": [],
   "source": [
    "def modify_element(tweet_id, n=None, d=None):\n",
    "    \"\"\"\n",
    "        This function makes use of pandas `.at` method to modify specific element in a Dataframe, in our \n",
    "        case, the numerator and denominator ratings. \n",
    "        tweet_id parameter is the id number of the tweet to modify\n",
    "        n paraneter is the number to replace the existing number in the numerator part\n",
    "        d parametr is the number to replace the existing number in the denominator part\n",
    "    \"\"\"\n",
    "    if n and d is None:\n",
    "        df_twitter.at[df_twitter[df_twitter[\"tweet_id\"]==tweet_id].index[0], \"rating_numerator\"] = n\n",
    "        print(\"Done\")\n",
    "        \n",
    "    elif d and n is None:\n",
    "        df_twitter.at[df_twitter[df_twitter[\"tweet_id\"]==tweet_id].index[0], \"rating_numerator\"] = d\n",
    "        print(\"Done\")\n",
    "        \n",
    "    elif (n and d):\n",
    "        df_twitter.at[df_twitter[df_twitter[\"tweet_id\"]==tweet_id].index[0], \"rating_numerator\"] = n\n",
    "        df_twitter.at[df_twitter[df_twitter[\"tweet_id\"]==tweet_id].index[0], \"rating_denominator\"] = d\n",
    "        print(\"Done\")\n",
    "        \n",
    "    elif d == 0 and n == 0:\n",
    "        df_twitter.at[df_twitter[df_twitter[\"tweet_id\"]==tweet_id].index[0], \"rating_numerator\"] = n\n",
    "        df_twitter.at[df_twitter[df_twitter[\"tweet_id\"]==tweet_id].index[0], \"rating_denominator\"] = d\n",
    "        \n",
    "    else:\n",
    "        print(\"Failed\")"
   ]
  },
  {
   "cell_type": "markdown",
   "id": "9c2d7080",
   "metadata": {},
   "source": [
    "#### 1. Replace 204 and 170 in rating_numerator and rating_denominator columns with 12 and 10 respectively  for tweet_id: 731156023742988288 using the `modify_element` function above. "
   ]
  },
  {
   "cell_type": "code",
   "execution_count": 48,
   "id": "19083c48",
   "metadata": {
    "ExecuteTime": {
     "end_time": "2022-11-12T04:58:47.099192Z",
     "start_time": "2022-11-12T04:58:47.066184Z"
    }
   },
   "outputs": [
    {
     "data": {
      "text/html": [
       "<div>\n",
       "<style scoped>\n",
       "    .dataframe tbody tr th:only-of-type {\n",
       "        vertical-align: middle;\n",
       "    }\n",
       "\n",
       "    .dataframe tbody tr th {\n",
       "        vertical-align: top;\n",
       "    }\n",
       "\n",
       "    .dataframe thead th {\n",
       "        text-align: right;\n",
       "    }\n",
       "</style>\n",
       "<table border=\"1\" class=\"dataframe\">\n",
       "  <thead>\n",
       "    <tr style=\"text-align: right;\">\n",
       "      <th></th>\n",
       "      <th>tweet_id</th>\n",
       "      <th>in_reply_to_status_id</th>\n",
       "      <th>in_reply_to_user_id</th>\n",
       "      <th>timestamp</th>\n",
       "      <th>source</th>\n",
       "      <th>text</th>\n",
       "      <th>retweeted_status_id</th>\n",
       "      <th>retweeted_status_user_id</th>\n",
       "      <th>retweeted_status_timestamp</th>\n",
       "      <th>expanded_urls</th>\n",
       "      <th>rating_numerator</th>\n",
       "      <th>rating_denominator</th>\n",
       "      <th>name</th>\n",
       "      <th>dog_stage</th>\n",
       "      <th>tweet_url</th>\n",
       "    </tr>\n",
       "  </thead>\n",
       "  <tbody>\n",
       "    <tr>\n",
       "      <th>1120</th>\n",
       "      <td>731156023742988288</td>\n",
       "      <td>NaN</td>\n",
       "      <td>NaN</td>\n",
       "      <td>2016-05-13 16:15:54 +0000</td>\n",
       "      <td>&lt;a href=\"http://twitter.com/download/iphone\" rel=\"nofollow\"&gt;Twitter for iPhone&lt;/a&gt;</td>\n",
       "      <td>Say hello to this unbelievably well behaved squad of doggos. 204/170 would try to pet all at once .</td>\n",
       "      <td>NaN</td>\n",
       "      <td>NaN</td>\n",
       "      <td>NaN</td>\n",
       "      <td>https://twitter.com/dog_rates/status/731156023742988288/photo/1</td>\n",
       "      <td>204</td>\n",
       "      <td>170</td>\n",
       "      <td>this</td>\n",
       "      <td>doggo</td>\n",
       "      <td>https://t.co/yGQI3He3xv</td>\n",
       "    </tr>\n",
       "  </tbody>\n",
       "</table>\n",
       "</div>"
      ],
      "text/plain": [
       "                tweet_id  in_reply_to_status_id  in_reply_to_user_id  \\\n",
       "1120  731156023742988288                    NaN                  NaN   \n",
       "\n",
       "                      timestamp  \\\n",
       "1120  2016-05-13 16:15:54 +0000   \n",
       "\n",
       "                                                                                  source  \\\n",
       "1120  <a href=\"http://twitter.com/download/iphone\" rel=\"nofollow\">Twitter for iPhone</a>   \n",
       "\n",
       "                                                                                                     text  \\\n",
       "1120  Say hello to this unbelievably well behaved squad of doggos. 204/170 would try to pet all at once .   \n",
       "\n",
       "      retweeted_status_id  retweeted_status_user_id  \\\n",
       "1120                  NaN                       NaN   \n",
       "\n",
       "     retweeted_status_timestamp  \\\n",
       "1120                        NaN   \n",
       "\n",
       "                                                        expanded_urls  \\\n",
       "1120  https://twitter.com/dog_rates/status/731156023742988288/photo/1   \n",
       "\n",
       "      rating_numerator  rating_denominator  name dog_stage  \\\n",
       "1120               204                 170  this     doggo   \n",
       "\n",
       "                    tweet_url  \n",
       "1120  https://t.co/yGQI3He3xv  "
      ]
     },
     "execution_count": 48,
     "metadata": {},
     "output_type": "execute_result"
    }
   ],
   "source": [
    "# Before cleaning\n",
    "df_twitter[df_twitter[\"tweet_id\"]==731156023742988288]"
   ]
  },
  {
   "cell_type": "code",
   "execution_count": 49,
   "id": "fa0db660",
   "metadata": {
    "ExecuteTime": {
     "end_time": "2022-11-12T04:59:12.718583Z",
     "start_time": "2022-11-12T04:59:12.641583Z"
    }
   },
   "outputs": [
    {
     "name": "stdout",
     "output_type": "stream",
     "text": [
      "Done\n"
     ]
    }
   ],
   "source": [
    "modify_element(tweet_id = 731156023742988288, n=12, d=10)"
   ]
  },
  {
   "cell_type": "markdown",
   "id": "ed4c71a1",
   "metadata": {
    "ExecuteTime": {
     "end_time": "2022-11-12T04:59:53.544957Z",
     "start_time": "2022-11-12T04:59:53.537954Z"
    }
   },
   "source": [
    "#### Test"
   ]
  },
  {
   "cell_type": "code",
   "execution_count": 51,
   "id": "9d51acf6",
   "metadata": {
    "ExecuteTime": {
     "end_time": "2022-11-12T05:00:17.370815Z",
     "start_time": "2022-11-12T05:00:17.336818Z"
    }
   },
   "outputs": [
    {
     "data": {
      "text/html": [
       "<div>\n",
       "<style scoped>\n",
       "    .dataframe tbody tr th:only-of-type {\n",
       "        vertical-align: middle;\n",
       "    }\n",
       "\n",
       "    .dataframe tbody tr th {\n",
       "        vertical-align: top;\n",
       "    }\n",
       "\n",
       "    .dataframe thead th {\n",
       "        text-align: right;\n",
       "    }\n",
       "</style>\n",
       "<table border=\"1\" class=\"dataframe\">\n",
       "  <thead>\n",
       "    <tr style=\"text-align: right;\">\n",
       "      <th></th>\n",
       "      <th>tweet_id</th>\n",
       "      <th>in_reply_to_status_id</th>\n",
       "      <th>in_reply_to_user_id</th>\n",
       "      <th>timestamp</th>\n",
       "      <th>source</th>\n",
       "      <th>text</th>\n",
       "      <th>retweeted_status_id</th>\n",
       "      <th>retweeted_status_user_id</th>\n",
       "      <th>retweeted_status_timestamp</th>\n",
       "      <th>expanded_urls</th>\n",
       "      <th>rating_numerator</th>\n",
       "      <th>rating_denominator</th>\n",
       "      <th>name</th>\n",
       "      <th>dog_stage</th>\n",
       "      <th>tweet_url</th>\n",
       "    </tr>\n",
       "  </thead>\n",
       "  <tbody>\n",
       "    <tr>\n",
       "      <th>1120</th>\n",
       "      <td>731156023742988288</td>\n",
       "      <td>NaN</td>\n",
       "      <td>NaN</td>\n",
       "      <td>2016-05-13 16:15:54 +0000</td>\n",
       "      <td>&lt;a href=\"http://twitter.com/download/iphone\" rel=\"nofollow\"&gt;Twitter for iPhone&lt;/a&gt;</td>\n",
       "      <td>Say hello to this unbelievably well behaved squad of doggos. 204/170 would try to pet all at once .</td>\n",
       "      <td>NaN</td>\n",
       "      <td>NaN</td>\n",
       "      <td>NaN</td>\n",
       "      <td>https://twitter.com/dog_rates/status/731156023742988288/photo/1</td>\n",
       "      <td>12</td>\n",
       "      <td>10</td>\n",
       "      <td>this</td>\n",
       "      <td>doggo</td>\n",
       "      <td>https://t.co/yGQI3He3xv</td>\n",
       "    </tr>\n",
       "  </tbody>\n",
       "</table>\n",
       "</div>"
      ],
      "text/plain": [
       "                tweet_id  in_reply_to_status_id  in_reply_to_user_id  \\\n",
       "1120  731156023742988288                    NaN                  NaN   \n",
       "\n",
       "                      timestamp  \\\n",
       "1120  2016-05-13 16:15:54 +0000   \n",
       "\n",
       "                                                                                  source  \\\n",
       "1120  <a href=\"http://twitter.com/download/iphone\" rel=\"nofollow\">Twitter for iPhone</a>   \n",
       "\n",
       "                                                                                                     text  \\\n",
       "1120  Say hello to this unbelievably well behaved squad of doggos. 204/170 would try to pet all at once .   \n",
       "\n",
       "      retweeted_status_id  retweeted_status_user_id  \\\n",
       "1120                  NaN                       NaN   \n",
       "\n",
       "     retweeted_status_timestamp  \\\n",
       "1120                        NaN   \n",
       "\n",
       "                                                        expanded_urls  \\\n",
       "1120  https://twitter.com/dog_rates/status/731156023742988288/photo/1   \n",
       "\n",
       "      rating_numerator  rating_denominator  name dog_stage  \\\n",
       "1120                12                  10  this     doggo   \n",
       "\n",
       "                    tweet_url  \n",
       "1120  https://t.co/yGQI3He3xv  "
      ]
     },
     "execution_count": 51,
     "metadata": {},
     "output_type": "execute_result"
    }
   ],
   "source": [
    "# After cleaning\n",
    "df_twitter[df_twitter[\"tweet_id\"]==731156023742988288]"
   ]
  },
  {
   "cell_type": "markdown",
   "id": "b0c2de3e",
   "metadata": {},
   "source": [
    "#### 2. Replace 80  in rating_numerator and rating_denominator columns with 10 each  for tweet_id: 710658690886586372 using the `modify element` function"
   ]
  },
  {
   "cell_type": "code",
   "execution_count": 52,
   "id": "dead25eb",
   "metadata": {
    "ExecuteTime": {
     "end_time": "2022-11-12T05:01:12.598457Z",
     "start_time": "2022-11-12T05:01:12.560451Z"
    }
   },
   "outputs": [
    {
     "data": {
      "text/html": [
       "<div>\n",
       "<style scoped>\n",
       "    .dataframe tbody tr th:only-of-type {\n",
       "        vertical-align: middle;\n",
       "    }\n",
       "\n",
       "    .dataframe tbody tr th {\n",
       "        vertical-align: top;\n",
       "    }\n",
       "\n",
       "    .dataframe thead th {\n",
       "        text-align: right;\n",
       "    }\n",
       "</style>\n",
       "<table border=\"1\" class=\"dataframe\">\n",
       "  <thead>\n",
       "    <tr style=\"text-align: right;\">\n",
       "      <th></th>\n",
       "      <th>tweet_id</th>\n",
       "      <th>in_reply_to_status_id</th>\n",
       "      <th>in_reply_to_user_id</th>\n",
       "      <th>timestamp</th>\n",
       "      <th>source</th>\n",
       "      <th>text</th>\n",
       "      <th>retweeted_status_id</th>\n",
       "      <th>retweeted_status_user_id</th>\n",
       "      <th>retweeted_status_timestamp</th>\n",
       "      <th>expanded_urls</th>\n",
       "      <th>rating_numerator</th>\n",
       "      <th>rating_denominator</th>\n",
       "      <th>name</th>\n",
       "      <th>dog_stage</th>\n",
       "      <th>tweet_url</th>\n",
       "    </tr>\n",
       "  </thead>\n",
       "  <tbody>\n",
       "    <tr>\n",
       "      <th>1254</th>\n",
       "      <td>710658690886586372</td>\n",
       "      <td>NaN</td>\n",
       "      <td>NaN</td>\n",
       "      <td>2016-03-18 02:46:49 +0000</td>\n",
       "      <td>&lt;a href=\"http://twitter.com/download/iphone\" rel=\"nofollow\"&gt;Twitter for iPhone&lt;/a&gt;</td>\n",
       "      <td>Here's a brigade of puppers. All look very prepared for whatever happens next. 80/80 .</td>\n",
       "      <td>NaN</td>\n",
       "      <td>NaN</td>\n",
       "      <td>NaN</td>\n",
       "      <td>https://twitter.com/dog_rates/status/710658690886586372/photo/1</td>\n",
       "      <td>80</td>\n",
       "      <td>80</td>\n",
       "      <td>None</td>\n",
       "      <td>pupper</td>\n",
       "      <td>https://t.co/0eb7R1Om12</td>\n",
       "    </tr>\n",
       "  </tbody>\n",
       "</table>\n",
       "</div>"
      ],
      "text/plain": [
       "                tweet_id  in_reply_to_status_id  in_reply_to_user_id  \\\n",
       "1254  710658690886586372                    NaN                  NaN   \n",
       "\n",
       "                      timestamp  \\\n",
       "1254  2016-03-18 02:46:49 +0000   \n",
       "\n",
       "                                                                                  source  \\\n",
       "1254  <a href=\"http://twitter.com/download/iphone\" rel=\"nofollow\">Twitter for iPhone</a>   \n",
       "\n",
       "                                                                                        text  \\\n",
       "1254  Here's a brigade of puppers. All look very prepared for whatever happens next. 80/80 .   \n",
       "\n",
       "      retweeted_status_id  retweeted_status_user_id  \\\n",
       "1254                  NaN                       NaN   \n",
       "\n",
       "     retweeted_status_timestamp  \\\n",
       "1254                        NaN   \n",
       "\n",
       "                                                        expanded_urls  \\\n",
       "1254  https://twitter.com/dog_rates/status/710658690886586372/photo/1   \n",
       "\n",
       "      rating_numerator  rating_denominator  name dog_stage  \\\n",
       "1254                80                  80  None    pupper   \n",
       "\n",
       "                    tweet_url  \n",
       "1254  https://t.co/0eb7R1Om12  "
      ]
     },
     "execution_count": 52,
     "metadata": {},
     "output_type": "execute_result"
    }
   ],
   "source": [
    "# Before cleaning\n",
    "df_twitter[df_twitter[\"tweet_id\"]==710658690886586372]"
   ]
  },
  {
   "cell_type": "markdown",
   "id": "eb0967c0",
   "metadata": {},
   "source": [
    "#### Code"
   ]
  },
  {
   "cell_type": "code",
   "execution_count": 53,
   "id": "fdee84cd",
   "metadata": {
    "ExecuteTime": {
     "end_time": "2022-11-12T05:02:01.248080Z",
     "start_time": "2022-11-12T05:02:01.230076Z"
    }
   },
   "outputs": [
    {
     "name": "stdout",
     "output_type": "stream",
     "text": [
      "Done\n"
     ]
    }
   ],
   "source": [
    "modify_element(tweet_id = 710658690886586372, n= 10, d= 10)"
   ]
  },
  {
   "cell_type": "markdown",
   "id": "d8ff8501",
   "metadata": {},
   "source": [
    "#### Test"
   ]
  },
  {
   "cell_type": "code",
   "execution_count": 54,
   "id": "bc106f16",
   "metadata": {
    "ExecuteTime": {
     "end_time": "2022-11-12T05:42:15.219889Z",
     "start_time": "2022-11-12T05:42:15.180884Z"
    }
   },
   "outputs": [
    {
     "data": {
      "text/html": [
       "<div>\n",
       "<style scoped>\n",
       "    .dataframe tbody tr th:only-of-type {\n",
       "        vertical-align: middle;\n",
       "    }\n",
       "\n",
       "    .dataframe tbody tr th {\n",
       "        vertical-align: top;\n",
       "    }\n",
       "\n",
       "    .dataframe thead th {\n",
       "        text-align: right;\n",
       "    }\n",
       "</style>\n",
       "<table border=\"1\" class=\"dataframe\">\n",
       "  <thead>\n",
       "    <tr style=\"text-align: right;\">\n",
       "      <th></th>\n",
       "      <th>tweet_id</th>\n",
       "      <th>in_reply_to_status_id</th>\n",
       "      <th>in_reply_to_user_id</th>\n",
       "      <th>timestamp</th>\n",
       "      <th>source</th>\n",
       "      <th>text</th>\n",
       "      <th>retweeted_status_id</th>\n",
       "      <th>retweeted_status_user_id</th>\n",
       "      <th>retweeted_status_timestamp</th>\n",
       "      <th>expanded_urls</th>\n",
       "      <th>rating_numerator</th>\n",
       "      <th>rating_denominator</th>\n",
       "      <th>name</th>\n",
       "      <th>dog_stage</th>\n",
       "      <th>tweet_url</th>\n",
       "    </tr>\n",
       "  </thead>\n",
       "  <tbody>\n",
       "    <tr>\n",
       "      <th>1254</th>\n",
       "      <td>710658690886586372</td>\n",
       "      <td>NaN</td>\n",
       "      <td>NaN</td>\n",
       "      <td>2016-03-18 02:46:49 +0000</td>\n",
       "      <td>&lt;a href=\"http://twitter.com/download/iphone\" rel=\"nofollow\"&gt;Twitter for iPhone&lt;/a&gt;</td>\n",
       "      <td>Here's a brigade of puppers. All look very prepared for whatever happens next. 80/80 .</td>\n",
       "      <td>NaN</td>\n",
       "      <td>NaN</td>\n",
       "      <td>NaN</td>\n",
       "      <td>https://twitter.com/dog_rates/status/710658690886586372/photo/1</td>\n",
       "      <td>10</td>\n",
       "      <td>10</td>\n",
       "      <td>None</td>\n",
       "      <td>pupper</td>\n",
       "      <td>https://t.co/0eb7R1Om12</td>\n",
       "    </tr>\n",
       "  </tbody>\n",
       "</table>\n",
       "</div>"
      ],
      "text/plain": [
       "                tweet_id  in_reply_to_status_id  in_reply_to_user_id  \\\n",
       "1254  710658690886586372                    NaN                  NaN   \n",
       "\n",
       "                      timestamp  \\\n",
       "1254  2016-03-18 02:46:49 +0000   \n",
       "\n",
       "                                                                                  source  \\\n",
       "1254  <a href=\"http://twitter.com/download/iphone\" rel=\"nofollow\">Twitter for iPhone</a>   \n",
       "\n",
       "                                                                                        text  \\\n",
       "1254  Here's a brigade of puppers. All look very prepared for whatever happens next. 80/80 .   \n",
       "\n",
       "      retweeted_status_id  retweeted_status_user_id  \\\n",
       "1254                  NaN                       NaN   \n",
       "\n",
       "     retweeted_status_timestamp  \\\n",
       "1254                        NaN   \n",
       "\n",
       "                                                        expanded_urls  \\\n",
       "1254  https://twitter.com/dog_rates/status/710658690886586372/photo/1   \n",
       "\n",
       "      rating_numerator  rating_denominator  name dog_stage  \\\n",
       "1254                10                  10  None    pupper   \n",
       "\n",
       "                    tweet_url  \n",
       "1254  https://t.co/0eb7R1Om12  "
      ]
     },
     "execution_count": 54,
     "metadata": {},
     "output_type": "execute_result"
    }
   ],
   "source": [
    "# After cleaning\n",
    "df_twitter[df_twitter[\"tweet_id\"]==710658690886586372]"
   ]
  },
  {
   "cell_type": "markdown",
   "id": "965a2315",
   "metadata": {},
   "source": [
    "#### 3. Repace 75 in rating_numerator with  10  for tweet_id: 786709082849828864 using the `modify_element` function above. "
   ]
  },
  {
   "cell_type": "code",
   "execution_count": 55,
   "id": "ff2b60a6",
   "metadata": {
    "ExecuteTime": {
     "end_time": "2022-11-12T05:43:06.444744Z",
     "start_time": "2022-11-12T05:43:06.399754Z"
    }
   },
   "outputs": [
    {
     "data": {
      "text/html": [
       "<div>\n",
       "<style scoped>\n",
       "    .dataframe tbody tr th:only-of-type {\n",
       "        vertical-align: middle;\n",
       "    }\n",
       "\n",
       "    .dataframe tbody tr th {\n",
       "        vertical-align: top;\n",
       "    }\n",
       "\n",
       "    .dataframe thead th {\n",
       "        text-align: right;\n",
       "    }\n",
       "</style>\n",
       "<table border=\"1\" class=\"dataframe\">\n",
       "  <thead>\n",
       "    <tr style=\"text-align: right;\">\n",
       "      <th></th>\n",
       "      <th>tweet_id</th>\n",
       "      <th>in_reply_to_status_id</th>\n",
       "      <th>in_reply_to_user_id</th>\n",
       "      <th>timestamp</th>\n",
       "      <th>source</th>\n",
       "      <th>text</th>\n",
       "      <th>retweeted_status_id</th>\n",
       "      <th>retweeted_status_user_id</th>\n",
       "      <th>retweeted_status_timestamp</th>\n",
       "      <th>expanded_urls</th>\n",
       "      <th>rating_numerator</th>\n",
       "      <th>rating_denominator</th>\n",
       "      <th>name</th>\n",
       "      <th>dog_stage</th>\n",
       "      <th>tweet_url</th>\n",
       "    </tr>\n",
       "  </thead>\n",
       "  <tbody>\n",
       "    <tr>\n",
       "      <th>695</th>\n",
       "      <td>786709082849828864</td>\n",
       "      <td>NaN</td>\n",
       "      <td>NaN</td>\n",
       "      <td>2016-10-13 23:23:56 +0000</td>\n",
       "      <td>&lt;a href=\"http://twitter.com/download/iphone\" rel=\"nofollow\"&gt;Twitter for iPhone&lt;/a&gt;</td>\n",
       "      <td>This is Logan, the Chow who lived. He solemnly swears he's up to lots of good. H*ckin magical af 9.75/10 .</td>\n",
       "      <td>NaN</td>\n",
       "      <td>NaN</td>\n",
       "      <td>NaN</td>\n",
       "      <td>https://twitter.com/dog_rates/status/786709082849828864/photo/1</td>\n",
       "      <td>75</td>\n",
       "      <td>10</td>\n",
       "      <td>Logan</td>\n",
       "      <td>None</td>\n",
       "      <td>https://t.co/yBO5wuqaPS</td>\n",
       "    </tr>\n",
       "  </tbody>\n",
       "</table>\n",
       "</div>"
      ],
      "text/plain": [
       "               tweet_id  in_reply_to_status_id  in_reply_to_user_id  \\\n",
       "695  786709082849828864                    NaN                  NaN   \n",
       "\n",
       "                     timestamp  \\\n",
       "695  2016-10-13 23:23:56 +0000   \n",
       "\n",
       "                                                                                 source  \\\n",
       "695  <a href=\"http://twitter.com/download/iphone\" rel=\"nofollow\">Twitter for iPhone</a>   \n",
       "\n",
       "                                                                                                           text  \\\n",
       "695  This is Logan, the Chow who lived. He solemnly swears he's up to lots of good. H*ckin magical af 9.75/10 .   \n",
       "\n",
       "     retweeted_status_id  retweeted_status_user_id retweeted_status_timestamp  \\\n",
       "695                  NaN                       NaN                        NaN   \n",
       "\n",
       "                                                       expanded_urls  \\\n",
       "695  https://twitter.com/dog_rates/status/786709082849828864/photo/1   \n",
       "\n",
       "     rating_numerator  rating_denominator   name dog_stage  \\\n",
       "695                75                  10  Logan      None   \n",
       "\n",
       "                   tweet_url  \n",
       "695  https://t.co/yBO5wuqaPS  "
      ]
     },
     "execution_count": 55,
     "metadata": {},
     "output_type": "execute_result"
    }
   ],
   "source": [
    "# Before cleaning\n",
    "df_twitter[df_twitter[\"tweet_id\"]==786709082849828864]"
   ]
  },
  {
   "cell_type": "markdown",
   "id": "ad1ba48f",
   "metadata": {},
   "source": [
    "#### Code"
   ]
  },
  {
   "cell_type": "code",
   "execution_count": 56,
   "id": "590a781d",
   "metadata": {
    "ExecuteTime": {
     "end_time": "2022-11-12T05:43:42.742937Z",
     "start_time": "2022-11-12T05:43:42.723926Z"
    }
   },
   "outputs": [
    {
     "name": "stdout",
     "output_type": "stream",
     "text": [
      "Done\n"
     ]
    }
   ],
   "source": [
    "modify_element(tweet_id=786709082849828864, n=10)"
   ]
  },
  {
   "cell_type": "markdown",
   "id": "79ffa39f",
   "metadata": {},
   "source": [
    "#### Test"
   ]
  },
  {
   "cell_type": "code",
   "execution_count": 57,
   "id": "26313b65",
   "metadata": {
    "ExecuteTime": {
     "end_time": "2022-11-12T05:44:15.377963Z",
     "start_time": "2022-11-12T05:44:15.340973Z"
    }
   },
   "outputs": [
    {
     "data": {
      "text/html": [
       "<div>\n",
       "<style scoped>\n",
       "    .dataframe tbody tr th:only-of-type {\n",
       "        vertical-align: middle;\n",
       "    }\n",
       "\n",
       "    .dataframe tbody tr th {\n",
       "        vertical-align: top;\n",
       "    }\n",
       "\n",
       "    .dataframe thead th {\n",
       "        text-align: right;\n",
       "    }\n",
       "</style>\n",
       "<table border=\"1\" class=\"dataframe\">\n",
       "  <thead>\n",
       "    <tr style=\"text-align: right;\">\n",
       "      <th></th>\n",
       "      <th>tweet_id</th>\n",
       "      <th>in_reply_to_status_id</th>\n",
       "      <th>in_reply_to_user_id</th>\n",
       "      <th>timestamp</th>\n",
       "      <th>source</th>\n",
       "      <th>text</th>\n",
       "      <th>retweeted_status_id</th>\n",
       "      <th>retweeted_status_user_id</th>\n",
       "      <th>retweeted_status_timestamp</th>\n",
       "      <th>expanded_urls</th>\n",
       "      <th>rating_numerator</th>\n",
       "      <th>rating_denominator</th>\n",
       "      <th>name</th>\n",
       "      <th>dog_stage</th>\n",
       "      <th>tweet_url</th>\n",
       "    </tr>\n",
       "  </thead>\n",
       "  <tbody>\n",
       "    <tr>\n",
       "      <th>695</th>\n",
       "      <td>786709082849828864</td>\n",
       "      <td>NaN</td>\n",
       "      <td>NaN</td>\n",
       "      <td>2016-10-13 23:23:56 +0000</td>\n",
       "      <td>&lt;a href=\"http://twitter.com/download/iphone\" rel=\"nofollow\"&gt;Twitter for iPhone&lt;/a&gt;</td>\n",
       "      <td>This is Logan, the Chow who lived. He solemnly swears he's up to lots of good. H*ckin magical af 9.75/10 .</td>\n",
       "      <td>NaN</td>\n",
       "      <td>NaN</td>\n",
       "      <td>NaN</td>\n",
       "      <td>https://twitter.com/dog_rates/status/786709082849828864/photo/1</td>\n",
       "      <td>10</td>\n",
       "      <td>10</td>\n",
       "      <td>Logan</td>\n",
       "      <td>None</td>\n",
       "      <td>https://t.co/yBO5wuqaPS</td>\n",
       "    </tr>\n",
       "  </tbody>\n",
       "</table>\n",
       "</div>"
      ],
      "text/plain": [
       "               tweet_id  in_reply_to_status_id  in_reply_to_user_id  \\\n",
       "695  786709082849828864                    NaN                  NaN   \n",
       "\n",
       "                     timestamp  \\\n",
       "695  2016-10-13 23:23:56 +0000   \n",
       "\n",
       "                                                                                 source  \\\n",
       "695  <a href=\"http://twitter.com/download/iphone\" rel=\"nofollow\">Twitter for iPhone</a>   \n",
       "\n",
       "                                                                                                           text  \\\n",
       "695  This is Logan, the Chow who lived. He solemnly swears he's up to lots of good. H*ckin magical af 9.75/10 .   \n",
       "\n",
       "     retweeted_status_id  retweeted_status_user_id retweeted_status_timestamp  \\\n",
       "695                  NaN                       NaN                        NaN   \n",
       "\n",
       "                                                       expanded_urls  \\\n",
       "695  https://twitter.com/dog_rates/status/786709082849828864/photo/1   \n",
       "\n",
       "     rating_numerator  rating_denominator   name dog_stage  \\\n",
       "695                10                  10  Logan      None   \n",
       "\n",
       "                   tweet_url  \n",
       "695  https://t.co/yBO5wuqaPS  "
      ]
     },
     "execution_count": 57,
     "metadata": {},
     "output_type": "execute_result"
    }
   ],
   "source": [
    "# After cleaning\n",
    "df_twitter[df_twitter[\"tweet_id\"]==786709082849828864]"
   ]
  },
  {
   "cell_type": "markdown",
   "id": "5898a2d0",
   "metadata": {},
   "source": [
    "#### 4. Replace 27 in rating_numerator with 11  for tweet_id: 778027034220126208  using the `modify_element` function. "
   ]
  },
  {
   "cell_type": "code",
   "execution_count": 58,
   "id": "b1bef88c",
   "metadata": {
    "ExecuteTime": {
     "end_time": "2022-11-12T05:45:03.448565Z",
     "start_time": "2022-11-12T05:45:03.416553Z"
    }
   },
   "outputs": [
    {
     "data": {
      "text/html": [
       "<div>\n",
       "<style scoped>\n",
       "    .dataframe tbody tr th:only-of-type {\n",
       "        vertical-align: middle;\n",
       "    }\n",
       "\n",
       "    .dataframe tbody tr th {\n",
       "        vertical-align: top;\n",
       "    }\n",
       "\n",
       "    .dataframe thead th {\n",
       "        text-align: right;\n",
       "    }\n",
       "</style>\n",
       "<table border=\"1\" class=\"dataframe\">\n",
       "  <thead>\n",
       "    <tr style=\"text-align: right;\">\n",
       "      <th></th>\n",
       "      <th>tweet_id</th>\n",
       "      <th>in_reply_to_status_id</th>\n",
       "      <th>in_reply_to_user_id</th>\n",
       "      <th>timestamp</th>\n",
       "      <th>source</th>\n",
       "      <th>text</th>\n",
       "      <th>retweeted_status_id</th>\n",
       "      <th>retweeted_status_user_id</th>\n",
       "      <th>retweeted_status_timestamp</th>\n",
       "      <th>expanded_urls</th>\n",
       "      <th>rating_numerator</th>\n",
       "      <th>rating_denominator</th>\n",
       "      <th>name</th>\n",
       "      <th>dog_stage</th>\n",
       "      <th>tweet_url</th>\n",
       "    </tr>\n",
       "  </thead>\n",
       "  <tbody>\n",
       "    <tr>\n",
       "      <th>763</th>\n",
       "      <td>778027034220126208</td>\n",
       "      <td>NaN</td>\n",
       "      <td>NaN</td>\n",
       "      <td>2016-09-20 00:24:34 +0000</td>\n",
       "      <td>&lt;a href=\"http://twitter.com/download/iphone\" rel=\"nofollow\"&gt;Twitter for iPhone&lt;/a&gt;</td>\n",
       "      <td>This is Sophie. She's a Jubilant Bush Pupper. Super h*ckin rare. Appears at random just to smile at the locals. 11.27/10 would smile back .</td>\n",
       "      <td>NaN</td>\n",
       "      <td>NaN</td>\n",
       "      <td>NaN</td>\n",
       "      <td>https://twitter.com/dog_rates/status/778027034220126208/photo/1</td>\n",
       "      <td>27</td>\n",
       "      <td>10</td>\n",
       "      <td>Sophie</td>\n",
       "      <td>pupper</td>\n",
       "      <td>https://t.co/QFaUiIHxHq</td>\n",
       "    </tr>\n",
       "  </tbody>\n",
       "</table>\n",
       "</div>"
      ],
      "text/plain": [
       "               tweet_id  in_reply_to_status_id  in_reply_to_user_id  \\\n",
       "763  778027034220126208                    NaN                  NaN   \n",
       "\n",
       "                     timestamp  \\\n",
       "763  2016-09-20 00:24:34 +0000   \n",
       "\n",
       "                                                                                 source  \\\n",
       "763  <a href=\"http://twitter.com/download/iphone\" rel=\"nofollow\">Twitter for iPhone</a>   \n",
       "\n",
       "                                                                                                                                            text  \\\n",
       "763  This is Sophie. She's a Jubilant Bush Pupper. Super h*ckin rare. Appears at random just to smile at the locals. 11.27/10 would smile back .   \n",
       "\n",
       "     retweeted_status_id  retweeted_status_user_id retweeted_status_timestamp  \\\n",
       "763                  NaN                       NaN                        NaN   \n",
       "\n",
       "                                                       expanded_urls  \\\n",
       "763  https://twitter.com/dog_rates/status/778027034220126208/photo/1   \n",
       "\n",
       "     rating_numerator  rating_denominator    name dog_stage  \\\n",
       "763                27                  10  Sophie    pupper   \n",
       "\n",
       "                   tweet_url  \n",
       "763  https://t.co/QFaUiIHxHq  "
      ]
     },
     "execution_count": 58,
     "metadata": {},
     "output_type": "execute_result"
    }
   ],
   "source": [
    "# Before Cleaning\n",
    "df_twitter[df_twitter[\"tweet_id\"]==778027034220126208]"
   ]
  },
  {
   "cell_type": "markdown",
   "id": "5676ae26",
   "metadata": {},
   "source": [
    "#### code"
   ]
  },
  {
   "cell_type": "code",
   "execution_count": 59,
   "id": "e313589a",
   "metadata": {
    "ExecuteTime": {
     "end_time": "2022-11-12T05:45:57.652894Z",
     "start_time": "2022-11-12T05:45:57.630898Z"
    }
   },
   "outputs": [
    {
     "name": "stdout",
     "output_type": "stream",
     "text": [
      "Done\n"
     ]
    }
   ],
   "source": [
    "modify_element(tweet_id=778027034220126208, n= 11)"
   ]
  },
  {
   "cell_type": "markdown",
   "id": "3430cbbe",
   "metadata": {},
   "source": [
    "#### Text"
   ]
  },
  {
   "cell_type": "code",
   "execution_count": 60,
   "id": "1ef305f3",
   "metadata": {
    "ExecuteTime": {
     "end_time": "2022-11-12T05:46:26.474914Z",
     "start_time": "2022-11-12T05:46:26.434911Z"
    }
   },
   "outputs": [
    {
     "data": {
      "text/html": [
       "<div>\n",
       "<style scoped>\n",
       "    .dataframe tbody tr th:only-of-type {\n",
       "        vertical-align: middle;\n",
       "    }\n",
       "\n",
       "    .dataframe tbody tr th {\n",
       "        vertical-align: top;\n",
       "    }\n",
       "\n",
       "    .dataframe thead th {\n",
       "        text-align: right;\n",
       "    }\n",
       "</style>\n",
       "<table border=\"1\" class=\"dataframe\">\n",
       "  <thead>\n",
       "    <tr style=\"text-align: right;\">\n",
       "      <th></th>\n",
       "      <th>tweet_id</th>\n",
       "      <th>in_reply_to_status_id</th>\n",
       "      <th>in_reply_to_user_id</th>\n",
       "      <th>timestamp</th>\n",
       "      <th>source</th>\n",
       "      <th>text</th>\n",
       "      <th>retweeted_status_id</th>\n",
       "      <th>retweeted_status_user_id</th>\n",
       "      <th>retweeted_status_timestamp</th>\n",
       "      <th>expanded_urls</th>\n",
       "      <th>rating_numerator</th>\n",
       "      <th>rating_denominator</th>\n",
       "      <th>name</th>\n",
       "      <th>dog_stage</th>\n",
       "      <th>tweet_url</th>\n",
       "    </tr>\n",
       "  </thead>\n",
       "  <tbody>\n",
       "    <tr>\n",
       "      <th>763</th>\n",
       "      <td>778027034220126208</td>\n",
       "      <td>NaN</td>\n",
       "      <td>NaN</td>\n",
       "      <td>2016-09-20 00:24:34 +0000</td>\n",
       "      <td>&lt;a href=\"http://twitter.com/download/iphone\" rel=\"nofollow\"&gt;Twitter for iPhone&lt;/a&gt;</td>\n",
       "      <td>This is Sophie. She's a Jubilant Bush Pupper. Super h*ckin rare. Appears at random just to smile at the locals. 11.27/10 would smile back .</td>\n",
       "      <td>NaN</td>\n",
       "      <td>NaN</td>\n",
       "      <td>NaN</td>\n",
       "      <td>https://twitter.com/dog_rates/status/778027034220126208/photo/1</td>\n",
       "      <td>11</td>\n",
       "      <td>10</td>\n",
       "      <td>Sophie</td>\n",
       "      <td>pupper</td>\n",
       "      <td>https://t.co/QFaUiIHxHq</td>\n",
       "    </tr>\n",
       "  </tbody>\n",
       "</table>\n",
       "</div>"
      ],
      "text/plain": [
       "               tweet_id  in_reply_to_status_id  in_reply_to_user_id  \\\n",
       "763  778027034220126208                    NaN                  NaN   \n",
       "\n",
       "                     timestamp  \\\n",
       "763  2016-09-20 00:24:34 +0000   \n",
       "\n",
       "                                                                                 source  \\\n",
       "763  <a href=\"http://twitter.com/download/iphone\" rel=\"nofollow\">Twitter for iPhone</a>   \n",
       "\n",
       "                                                                                                                                            text  \\\n",
       "763  This is Sophie. She's a Jubilant Bush Pupper. Super h*ckin rare. Appears at random just to smile at the locals. 11.27/10 would smile back .   \n",
       "\n",
       "     retweeted_status_id  retweeted_status_user_id retweeted_status_timestamp  \\\n",
       "763                  NaN                       NaN                        NaN   \n",
       "\n",
       "                                                       expanded_urls  \\\n",
       "763  https://twitter.com/dog_rates/status/778027034220126208/photo/1   \n",
       "\n",
       "     rating_numerator  rating_denominator    name dog_stage  \\\n",
       "763                11                  10  Sophie    pupper   \n",
       "\n",
       "                   tweet_url  \n",
       "763  https://t.co/QFaUiIHxHq  "
      ]
     },
     "execution_count": 60,
     "metadata": {},
     "output_type": "execute_result"
    }
   ],
   "source": [
    "# After Cleaning\n",
    "df_twitter[df_twitter[\"tweet_id\"]==778027034220126208]"
   ]
  },
  {
   "cell_type": "markdown",
   "id": "7eeb6b29",
   "metadata": {},
   "source": [
    "#### 5. Replace ratings for tweet_id: 810984652412424192 with 0 using the `modify_element` function. "
   ]
  },
  {
   "cell_type": "code",
   "execution_count": 61,
   "id": "2e78099f",
   "metadata": {
    "ExecuteTime": {
     "end_time": "2022-11-12T05:47:05.616940Z",
     "start_time": "2022-11-12T05:47:05.581934Z"
    }
   },
   "outputs": [
    {
     "data": {
      "text/html": [
       "<div>\n",
       "<style scoped>\n",
       "    .dataframe tbody tr th:only-of-type {\n",
       "        vertical-align: middle;\n",
       "    }\n",
       "\n",
       "    .dataframe tbody tr th {\n",
       "        vertical-align: top;\n",
       "    }\n",
       "\n",
       "    .dataframe thead th {\n",
       "        text-align: right;\n",
       "    }\n",
       "</style>\n",
       "<table border=\"1\" class=\"dataframe\">\n",
       "  <thead>\n",
       "    <tr style=\"text-align: right;\">\n",
       "      <th></th>\n",
       "      <th>tweet_id</th>\n",
       "      <th>in_reply_to_status_id</th>\n",
       "      <th>in_reply_to_user_id</th>\n",
       "      <th>timestamp</th>\n",
       "      <th>source</th>\n",
       "      <th>text</th>\n",
       "      <th>retweeted_status_id</th>\n",
       "      <th>retweeted_status_user_id</th>\n",
       "      <th>retweeted_status_timestamp</th>\n",
       "      <th>expanded_urls</th>\n",
       "      <th>rating_numerator</th>\n",
       "      <th>rating_denominator</th>\n",
       "      <th>name</th>\n",
       "      <th>dog_stage</th>\n",
       "      <th>tweet_url</th>\n",
       "    </tr>\n",
       "  </thead>\n",
       "  <tbody>\n",
       "    <tr>\n",
       "      <th>516</th>\n",
       "      <td>810984652412424192</td>\n",
       "      <td>NaN</td>\n",
       "      <td>NaN</td>\n",
       "      <td>2016-12-19 23:06:23 +0000</td>\n",
       "      <td>&lt;a href=\"http://twitter.com/download/iphone\" rel=\"nofollow\"&gt;Twitter for iPhone&lt;/a&gt;</td>\n",
       "      <td>Meet Sam. She smiles 24/7 &amp;amp; secretly aspires to be a reindeer. \\nKeep Sam smiling by clicking and sharing this link:\\n. .</td>\n",
       "      <td>NaN</td>\n",
       "      <td>NaN</td>\n",
       "      <td>NaN</td>\n",
       "      <td>https://www.gofundme.com/sams-smile,https://twitter.com/dog_rates/status/810984652412424192/photo/1</td>\n",
       "      <td>24</td>\n",
       "      <td>7</td>\n",
       "      <td>Sam</td>\n",
       "      <td>None</td>\n",
       "      <td>https://t.co/98tB8y7y7t</td>\n",
       "    </tr>\n",
       "  </tbody>\n",
       "</table>\n",
       "</div>"
      ],
      "text/plain": [
       "               tweet_id  in_reply_to_status_id  in_reply_to_user_id  \\\n",
       "516  810984652412424192                    NaN                  NaN   \n",
       "\n",
       "                     timestamp  \\\n",
       "516  2016-12-19 23:06:23 +0000   \n",
       "\n",
       "                                                                                 source  \\\n",
       "516  <a href=\"http://twitter.com/download/iphone\" rel=\"nofollow\">Twitter for iPhone</a>   \n",
       "\n",
       "                                                                                                                              text  \\\n",
       "516  Meet Sam. She smiles 24/7 &amp; secretly aspires to be a reindeer. \\nKeep Sam smiling by clicking and sharing this link:\\n. .   \n",
       "\n",
       "     retweeted_status_id  retweeted_status_user_id retweeted_status_timestamp  \\\n",
       "516                  NaN                       NaN                        NaN   \n",
       "\n",
       "                                                                                           expanded_urls  \\\n",
       "516  https://www.gofundme.com/sams-smile,https://twitter.com/dog_rates/status/810984652412424192/photo/1   \n",
       "\n",
       "     rating_numerator  rating_denominator name dog_stage  \\\n",
       "516                24                   7  Sam      None   \n",
       "\n",
       "                   tweet_url  \n",
       "516  https://t.co/98tB8y7y7t  "
      ]
     },
     "execution_count": 61,
     "metadata": {},
     "output_type": "execute_result"
    }
   ],
   "source": [
    "# Before Cleaning\n",
    "df_twitter[df_twitter[\"tweet_id\"]==810984652412424192]"
   ]
  },
  {
   "cell_type": "markdown",
   "id": "bf0e780f",
   "metadata": {},
   "source": [
    "#### code"
   ]
  },
  {
   "cell_type": "code",
   "execution_count": 62,
   "id": "8316d00f",
   "metadata": {
    "ExecuteTime": {
     "end_time": "2022-11-12T05:47:41.413749Z",
     "start_time": "2022-11-12T05:47:41.402745Z"
    }
   },
   "outputs": [],
   "source": [
    "modify_element(tweet_id=810984652412424192, n=0, d=0)"
   ]
  },
  {
   "cell_type": "markdown",
   "id": "f673587a",
   "metadata": {},
   "source": [
    "#### Test"
   ]
  },
  {
   "cell_type": "code",
   "execution_count": 63,
   "id": "115e5fbd",
   "metadata": {
    "ExecuteTime": {
     "end_time": "2022-11-12T05:48:13.027829Z",
     "start_time": "2022-11-12T05:48:12.986826Z"
    }
   },
   "outputs": [
    {
     "data": {
      "text/html": [
       "<div>\n",
       "<style scoped>\n",
       "    .dataframe tbody tr th:only-of-type {\n",
       "        vertical-align: middle;\n",
       "    }\n",
       "\n",
       "    .dataframe tbody tr th {\n",
       "        vertical-align: top;\n",
       "    }\n",
       "\n",
       "    .dataframe thead th {\n",
       "        text-align: right;\n",
       "    }\n",
       "</style>\n",
       "<table border=\"1\" class=\"dataframe\">\n",
       "  <thead>\n",
       "    <tr style=\"text-align: right;\">\n",
       "      <th></th>\n",
       "      <th>tweet_id</th>\n",
       "      <th>in_reply_to_status_id</th>\n",
       "      <th>in_reply_to_user_id</th>\n",
       "      <th>timestamp</th>\n",
       "      <th>source</th>\n",
       "      <th>text</th>\n",
       "      <th>retweeted_status_id</th>\n",
       "      <th>retweeted_status_user_id</th>\n",
       "      <th>retweeted_status_timestamp</th>\n",
       "      <th>expanded_urls</th>\n",
       "      <th>rating_numerator</th>\n",
       "      <th>rating_denominator</th>\n",
       "      <th>name</th>\n",
       "      <th>dog_stage</th>\n",
       "      <th>tweet_url</th>\n",
       "    </tr>\n",
       "  </thead>\n",
       "  <tbody>\n",
       "    <tr>\n",
       "      <th>516</th>\n",
       "      <td>810984652412424192</td>\n",
       "      <td>NaN</td>\n",
       "      <td>NaN</td>\n",
       "      <td>2016-12-19 23:06:23 +0000</td>\n",
       "      <td>&lt;a href=\"http://twitter.com/download/iphone\" rel=\"nofollow\"&gt;Twitter for iPhone&lt;/a&gt;</td>\n",
       "      <td>Meet Sam. She smiles 24/7 &amp;amp; secretly aspires to be a reindeer. \\nKeep Sam smiling by clicking and sharing this link:\\n. .</td>\n",
       "      <td>NaN</td>\n",
       "      <td>NaN</td>\n",
       "      <td>NaN</td>\n",
       "      <td>https://www.gofundme.com/sams-smile,https://twitter.com/dog_rates/status/810984652412424192/photo/1</td>\n",
       "      <td>0</td>\n",
       "      <td>0</td>\n",
       "      <td>Sam</td>\n",
       "      <td>None</td>\n",
       "      <td>https://t.co/98tB8y7y7t</td>\n",
       "    </tr>\n",
       "  </tbody>\n",
       "</table>\n",
       "</div>"
      ],
      "text/plain": [
       "               tweet_id  in_reply_to_status_id  in_reply_to_user_id  \\\n",
       "516  810984652412424192                    NaN                  NaN   \n",
       "\n",
       "                     timestamp  \\\n",
       "516  2016-12-19 23:06:23 +0000   \n",
       "\n",
       "                                                                                 source  \\\n",
       "516  <a href=\"http://twitter.com/download/iphone\" rel=\"nofollow\">Twitter for iPhone</a>   \n",
       "\n",
       "                                                                                                                              text  \\\n",
       "516  Meet Sam. She smiles 24/7 &amp; secretly aspires to be a reindeer. \\nKeep Sam smiling by clicking and sharing this link:\\n. .   \n",
       "\n",
       "     retweeted_status_id  retweeted_status_user_id retweeted_status_timestamp  \\\n",
       "516                  NaN                       NaN                        NaN   \n",
       "\n",
       "                                                                                           expanded_urls  \\\n",
       "516  https://www.gofundme.com/sams-smile,https://twitter.com/dog_rates/status/810984652412424192/photo/1   \n",
       "\n",
       "     rating_numerator  rating_denominator name dog_stage  \\\n",
       "516                 0                   0  Sam      None   \n",
       "\n",
       "                   tweet_url  \n",
       "516  https://t.co/98tB8y7y7t  "
      ]
     },
     "execution_count": 63,
     "metadata": {},
     "output_type": "execute_result"
    }
   ],
   "source": [
    "# After Cleaning\n",
    "df_twitter[df_twitter[\"tweet_id\"]==810984652412424192]"
   ]
  },
  {
   "cell_type": "markdown",
   "id": "a8871f10",
   "metadata": {},
   "source": [
    "#### 6. Replace 165 and 150 in rating_numerator and rating_denominator columns with 11 and 10 respectively  for tweet_id: 758467244762497024 using the `modify_element` function."
   ]
  },
  {
   "cell_type": "code",
   "execution_count": 64,
   "id": "a3d58126",
   "metadata": {
    "ExecuteTime": {
     "end_time": "2022-11-12T05:48:52.032226Z",
     "start_time": "2022-11-12T05:48:51.995233Z"
    }
   },
   "outputs": [
    {
     "data": {
      "text/html": [
       "<div>\n",
       "<style scoped>\n",
       "    .dataframe tbody tr th:only-of-type {\n",
       "        vertical-align: middle;\n",
       "    }\n",
       "\n",
       "    .dataframe tbody tr th {\n",
       "        vertical-align: top;\n",
       "    }\n",
       "\n",
       "    .dataframe thead th {\n",
       "        text-align: right;\n",
       "    }\n",
       "</style>\n",
       "<table border=\"1\" class=\"dataframe\">\n",
       "  <thead>\n",
       "    <tr style=\"text-align: right;\">\n",
       "      <th></th>\n",
       "      <th>tweet_id</th>\n",
       "      <th>in_reply_to_status_id</th>\n",
       "      <th>in_reply_to_user_id</th>\n",
       "      <th>timestamp</th>\n",
       "      <th>source</th>\n",
       "      <th>text</th>\n",
       "      <th>retweeted_status_id</th>\n",
       "      <th>retweeted_status_user_id</th>\n",
       "      <th>retweeted_status_timestamp</th>\n",
       "      <th>expanded_urls</th>\n",
       "      <th>rating_numerator</th>\n",
       "      <th>rating_denominator</th>\n",
       "      <th>name</th>\n",
       "      <th>dog_stage</th>\n",
       "      <th>tweet_url</th>\n",
       "    </tr>\n",
       "  </thead>\n",
       "  <tbody>\n",
       "    <tr>\n",
       "      <th>902</th>\n",
       "      <td>758467244762497024</td>\n",
       "      <td>NaN</td>\n",
       "      <td>NaN</td>\n",
       "      <td>2016-07-28 01:00:57 +0000</td>\n",
       "      <td>&lt;a href=\"http://twitter.com/download/iphone\" rel=\"nofollow\"&gt;Twitter for iPhone&lt;/a&gt;</td>\n",
       "      <td>Why does this never happen at my front door... 165/150 .</td>\n",
       "      <td>NaN</td>\n",
       "      <td>NaN</td>\n",
       "      <td>NaN</td>\n",
       "      <td>https://twitter.com/dog_rates/status/758467244762497024/video/1</td>\n",
       "      <td>165</td>\n",
       "      <td>150</td>\n",
       "      <td>None</td>\n",
       "      <td>None</td>\n",
       "      <td>https://t.co/HmwrdfEfUE</td>\n",
       "    </tr>\n",
       "  </tbody>\n",
       "</table>\n",
       "</div>"
      ],
      "text/plain": [
       "               tweet_id  in_reply_to_status_id  in_reply_to_user_id  \\\n",
       "902  758467244762497024                    NaN                  NaN   \n",
       "\n",
       "                     timestamp  \\\n",
       "902  2016-07-28 01:00:57 +0000   \n",
       "\n",
       "                                                                                 source  \\\n",
       "902  <a href=\"http://twitter.com/download/iphone\" rel=\"nofollow\">Twitter for iPhone</a>   \n",
       "\n",
       "                                                         text  \\\n",
       "902  Why does this never happen at my front door... 165/150 .   \n",
       "\n",
       "     retweeted_status_id  retweeted_status_user_id retweeted_status_timestamp  \\\n",
       "902                  NaN                       NaN                        NaN   \n",
       "\n",
       "                                                       expanded_urls  \\\n",
       "902  https://twitter.com/dog_rates/status/758467244762497024/video/1   \n",
       "\n",
       "     rating_numerator  rating_denominator  name dog_stage  \\\n",
       "902               165                 150  None      None   \n",
       "\n",
       "                   tweet_url  \n",
       "902  https://t.co/HmwrdfEfUE  "
      ]
     },
     "execution_count": 64,
     "metadata": {},
     "output_type": "execute_result"
    }
   ],
   "source": [
    "# Before Cleaning\n",
    "df_twitter[df_twitter[\"tweet_id\"]==758467244762497024]"
   ]
  },
  {
   "cell_type": "markdown",
   "id": "c79741dc",
   "metadata": {},
   "source": [
    "#### 7. Replace 10 in rating_numerator column with 5  for tweet_id: 694352839993344000 using the `modify_element` function."
   ]
  },
  {
   "cell_type": "code",
   "execution_count": 65,
   "id": "4017ea45",
   "metadata": {
    "ExecuteTime": {
     "end_time": "2022-11-12T05:59:57.867310Z",
     "start_time": "2022-11-12T05:59:57.829309Z"
    }
   },
   "outputs": [
    {
     "data": {
      "text/html": [
       "<div>\n",
       "<style scoped>\n",
       "    .dataframe tbody tr th:only-of-type {\n",
       "        vertical-align: middle;\n",
       "    }\n",
       "\n",
       "    .dataframe tbody tr th {\n",
       "        vertical-align: top;\n",
       "    }\n",
       "\n",
       "    .dataframe thead th {\n",
       "        text-align: right;\n",
       "    }\n",
       "</style>\n",
       "<table border=\"1\" class=\"dataframe\">\n",
       "  <thead>\n",
       "    <tr style=\"text-align: right;\">\n",
       "      <th></th>\n",
       "      <th>tweet_id</th>\n",
       "      <th>in_reply_to_status_id</th>\n",
       "      <th>in_reply_to_user_id</th>\n",
       "      <th>timestamp</th>\n",
       "      <th>source</th>\n",
       "      <th>text</th>\n",
       "      <th>retweeted_status_id</th>\n",
       "      <th>retweeted_status_user_id</th>\n",
       "      <th>retweeted_status_timestamp</th>\n",
       "      <th>expanded_urls</th>\n",
       "      <th>rating_numerator</th>\n",
       "      <th>rating_denominator</th>\n",
       "      <th>name</th>\n",
       "      <th>dog_stage</th>\n",
       "      <th>tweet_url</th>\n",
       "    </tr>\n",
       "  </thead>\n",
       "  <tbody>\n",
       "    <tr>\n",
       "      <th>1465</th>\n",
       "      <td>694352839993344000</td>\n",
       "      <td>NaN</td>\n",
       "      <td>NaN</td>\n",
       "      <td>2016-02-02 02:53:12 +0000</td>\n",
       "      <td>&lt;a href=\"http://twitter.com/download/iphone\" rel=\"nofollow\"&gt;Twitter for iPhone&lt;/a&gt;</td>\n",
       "      <td>Meet Oliviér. He takes killer selfies. Has a dog of his own. It leaps at random &amp;amp; can't bark for shit. 10/10 &amp;amp; 5/10 .</td>\n",
       "      <td>NaN</td>\n",
       "      <td>NaN</td>\n",
       "      <td>NaN</td>\n",
       "      <td>https://twitter.com/dog_rates/status/694352839993344000/photo/1,https://twitter.com/dog_rates/status/694352839993344000/photo/1,https://twitter.com/dog_rates/status/694352839993344000/photo/1,https://twitter.com/dog_rates/status/694352839993344000/photo/1</td>\n",
       "      <td>10</td>\n",
       "      <td>10</td>\n",
       "      <td>Oliviér</td>\n",
       "      <td>None</td>\n",
       "      <td>https://t.co/6NgsQJuSBJ</td>\n",
       "    </tr>\n",
       "  </tbody>\n",
       "</table>\n",
       "</div>"
      ],
      "text/plain": [
       "                tweet_id  in_reply_to_status_id  in_reply_to_user_id  \\\n",
       "1465  694352839993344000                    NaN                  NaN   \n",
       "\n",
       "                      timestamp  \\\n",
       "1465  2016-02-02 02:53:12 +0000   \n",
       "\n",
       "                                                                                  source  \\\n",
       "1465  <a href=\"http://twitter.com/download/iphone\" rel=\"nofollow\">Twitter for iPhone</a>   \n",
       "\n",
       "                                                                                                                               text  \\\n",
       "1465  Meet Oliviér. He takes killer selfies. Has a dog of his own. It leaps at random &amp; can't bark for shit. 10/10 &amp; 5/10 .   \n",
       "\n",
       "      retweeted_status_id  retweeted_status_user_id  \\\n",
       "1465                  NaN                       NaN   \n",
       "\n",
       "     retweeted_status_timestamp  \\\n",
       "1465                        NaN   \n",
       "\n",
       "                                                                                                                                                                                                                                                        expanded_urls  \\\n",
       "1465  https://twitter.com/dog_rates/status/694352839993344000/photo/1,https://twitter.com/dog_rates/status/694352839993344000/photo/1,https://twitter.com/dog_rates/status/694352839993344000/photo/1,https://twitter.com/dog_rates/status/694352839993344000/photo/1   \n",
       "\n",
       "      rating_numerator  rating_denominator     name dog_stage  \\\n",
       "1465                10                  10  Oliviér      None   \n",
       "\n",
       "                    tweet_url  \n",
       "1465  https://t.co/6NgsQJuSBJ  "
      ]
     },
     "execution_count": 65,
     "metadata": {},
     "output_type": "execute_result"
    }
   ],
   "source": [
    "# Before Cleaning\n",
    "df_twitter[df_twitter[\"tweet_id\"]==694352839993344000]"
   ]
  },
  {
   "cell_type": "markdown",
   "id": "cc6e2a06",
   "metadata": {},
   "source": [
    "#### Code"
   ]
  },
  {
   "cell_type": "code",
   "execution_count": 66,
   "id": "b11c6160",
   "metadata": {
    "ExecuteTime": {
     "end_time": "2022-11-12T06:00:50.058052Z",
     "start_time": "2022-11-12T06:00:50.035053Z"
    }
   },
   "outputs": [
    {
     "name": "stdout",
     "output_type": "stream",
     "text": [
      "Done\n"
     ]
    }
   ],
   "source": [
    "modify_element(tweet_id=694352839993344000, n=5)"
   ]
  },
  {
   "cell_type": "markdown",
   "id": "6d32f4bb",
   "metadata": {},
   "source": [
    "#### Test"
   ]
  },
  {
   "cell_type": "code",
   "execution_count": 67,
   "id": "28970280",
   "metadata": {
    "ExecuteTime": {
     "end_time": "2022-11-12T06:02:02.957416Z",
     "start_time": "2022-11-12T06:02:02.919402Z"
    }
   },
   "outputs": [
    {
     "data": {
      "text/html": [
       "<div>\n",
       "<style scoped>\n",
       "    .dataframe tbody tr th:only-of-type {\n",
       "        vertical-align: middle;\n",
       "    }\n",
       "\n",
       "    .dataframe tbody tr th {\n",
       "        vertical-align: top;\n",
       "    }\n",
       "\n",
       "    .dataframe thead th {\n",
       "        text-align: right;\n",
       "    }\n",
       "</style>\n",
       "<table border=\"1\" class=\"dataframe\">\n",
       "  <thead>\n",
       "    <tr style=\"text-align: right;\">\n",
       "      <th></th>\n",
       "      <th>tweet_id</th>\n",
       "      <th>in_reply_to_status_id</th>\n",
       "      <th>in_reply_to_user_id</th>\n",
       "      <th>timestamp</th>\n",
       "      <th>source</th>\n",
       "      <th>text</th>\n",
       "      <th>retweeted_status_id</th>\n",
       "      <th>retweeted_status_user_id</th>\n",
       "      <th>retweeted_status_timestamp</th>\n",
       "      <th>expanded_urls</th>\n",
       "      <th>rating_numerator</th>\n",
       "      <th>rating_denominator</th>\n",
       "      <th>name</th>\n",
       "      <th>dog_stage</th>\n",
       "      <th>tweet_url</th>\n",
       "    </tr>\n",
       "  </thead>\n",
       "  <tbody>\n",
       "    <tr>\n",
       "      <th>1465</th>\n",
       "      <td>694352839993344000</td>\n",
       "      <td>NaN</td>\n",
       "      <td>NaN</td>\n",
       "      <td>2016-02-02 02:53:12 +0000</td>\n",
       "      <td>&lt;a href=\"http://twitter.com/download/iphone\" rel=\"nofollow\"&gt;Twitter for iPhone&lt;/a&gt;</td>\n",
       "      <td>Meet Oliviér. He takes killer selfies. Has a dog of his own. It leaps at random &amp;amp; can't bark for shit. 10/10 &amp;amp; 5/10 .</td>\n",
       "      <td>NaN</td>\n",
       "      <td>NaN</td>\n",
       "      <td>NaN</td>\n",
       "      <td>https://twitter.com/dog_rates/status/694352839993344000/photo/1,https://twitter.com/dog_rates/status/694352839993344000/photo/1,https://twitter.com/dog_rates/status/694352839993344000/photo/1,https://twitter.com/dog_rates/status/694352839993344000/photo/1</td>\n",
       "      <td>5</td>\n",
       "      <td>10</td>\n",
       "      <td>Oliviér</td>\n",
       "      <td>None</td>\n",
       "      <td>https://t.co/6NgsQJuSBJ</td>\n",
       "    </tr>\n",
       "  </tbody>\n",
       "</table>\n",
       "</div>"
      ],
      "text/plain": [
       "                tweet_id  in_reply_to_status_id  in_reply_to_user_id  \\\n",
       "1465  694352839993344000                    NaN                  NaN   \n",
       "\n",
       "                      timestamp  \\\n",
       "1465  2016-02-02 02:53:12 +0000   \n",
       "\n",
       "                                                                                  source  \\\n",
       "1465  <a href=\"http://twitter.com/download/iphone\" rel=\"nofollow\">Twitter for iPhone</a>   \n",
       "\n",
       "                                                                                                                               text  \\\n",
       "1465  Meet Oliviér. He takes killer selfies. Has a dog of his own. It leaps at random &amp; can't bark for shit. 10/10 &amp; 5/10 .   \n",
       "\n",
       "      retweeted_status_id  retweeted_status_user_id  \\\n",
       "1465                  NaN                       NaN   \n",
       "\n",
       "     retweeted_status_timestamp  \\\n",
       "1465                        NaN   \n",
       "\n",
       "                                                                                                                                                                                                                                                        expanded_urls  \\\n",
       "1465  https://twitter.com/dog_rates/status/694352839993344000/photo/1,https://twitter.com/dog_rates/status/694352839993344000/photo/1,https://twitter.com/dog_rates/status/694352839993344000/photo/1,https://twitter.com/dog_rates/status/694352839993344000/photo/1   \n",
       "\n",
       "      rating_numerator  rating_denominator     name dog_stage  \\\n",
       "1465                 5                  10  Oliviér      None   \n",
       "\n",
       "                    tweet_url  \n",
       "1465  https://t.co/6NgsQJuSBJ  "
      ]
     },
     "execution_count": 67,
     "metadata": {},
     "output_type": "execute_result"
    }
   ],
   "source": [
    "# After Cleaning\n",
    "df_twitter[df_twitter[\"tweet_id\"]==694352839993344000]"
   ]
  },
  {
   "cell_type": "markdown",
   "id": "ee40262f",
   "metadata": {},
   "source": [
    "#### 8. Replace ratings  144 and 120 in rating_numerator and rating_denominator columns with 12 and 10 respectively for tweet_id: 677716515794329600 using the `modify_element` function"
   ]
  },
  {
   "cell_type": "code",
   "execution_count": 68,
   "id": "a96cf8bd",
   "metadata": {
    "ExecuteTime": {
     "end_time": "2022-11-12T06:02:39.638824Z",
     "start_time": "2022-11-12T06:02:39.602818Z"
    }
   },
   "outputs": [
    {
     "data": {
      "text/html": [
       "<div>\n",
       "<style scoped>\n",
       "    .dataframe tbody tr th:only-of-type {\n",
       "        vertical-align: middle;\n",
       "    }\n",
       "\n",
       "    .dataframe tbody tr th {\n",
       "        vertical-align: top;\n",
       "    }\n",
       "\n",
       "    .dataframe thead th {\n",
       "        text-align: right;\n",
       "    }\n",
       "</style>\n",
       "<table border=\"1\" class=\"dataframe\">\n",
       "  <thead>\n",
       "    <tr style=\"text-align: right;\">\n",
       "      <th></th>\n",
       "      <th>tweet_id</th>\n",
       "      <th>in_reply_to_status_id</th>\n",
       "      <th>in_reply_to_user_id</th>\n",
       "      <th>timestamp</th>\n",
       "      <th>source</th>\n",
       "      <th>text</th>\n",
       "      <th>retweeted_status_id</th>\n",
       "      <th>retweeted_status_user_id</th>\n",
       "      <th>retweeted_status_timestamp</th>\n",
       "      <th>expanded_urls</th>\n",
       "      <th>rating_numerator</th>\n",
       "      <th>rating_denominator</th>\n",
       "      <th>name</th>\n",
       "      <th>dog_stage</th>\n",
       "      <th>tweet_url</th>\n",
       "    </tr>\n",
       "  </thead>\n",
       "  <tbody>\n",
       "    <tr>\n",
       "      <th>1779</th>\n",
       "      <td>677716515794329600</td>\n",
       "      <td>NaN</td>\n",
       "      <td>NaN</td>\n",
       "      <td>2015-12-18 05:06:23 +0000</td>\n",
       "      <td>&lt;a href=\"http://twitter.com/download/iphone\" rel=\"nofollow\"&gt;Twitter for iPhone&lt;/a&gt;</td>\n",
       "      <td>IT'S PUPPERGEDDON. Total of 144/120 ...I think .</td>\n",
       "      <td>NaN</td>\n",
       "      <td>NaN</td>\n",
       "      <td>NaN</td>\n",
       "      <td>https://twitter.com/dog_rates/status/677716515794329600/photo/1</td>\n",
       "      <td>144</td>\n",
       "      <td>120</td>\n",
       "      <td>None</td>\n",
       "      <td>pupper</td>\n",
       "      <td>https://t.co/ZanVtAtvIq</td>\n",
       "    </tr>\n",
       "  </tbody>\n",
       "</table>\n",
       "</div>"
      ],
      "text/plain": [
       "                tweet_id  in_reply_to_status_id  in_reply_to_user_id  \\\n",
       "1779  677716515794329600                    NaN                  NaN   \n",
       "\n",
       "                      timestamp  \\\n",
       "1779  2015-12-18 05:06:23 +0000   \n",
       "\n",
       "                                                                                  source  \\\n",
       "1779  <a href=\"http://twitter.com/download/iphone\" rel=\"nofollow\">Twitter for iPhone</a>   \n",
       "\n",
       "                                                  text  retweeted_status_id  \\\n",
       "1779  IT'S PUPPERGEDDON. Total of 144/120 ...I think .                  NaN   \n",
       "\n",
       "      retweeted_status_user_id retweeted_status_timestamp  \\\n",
       "1779                       NaN                        NaN   \n",
       "\n",
       "                                                        expanded_urls  \\\n",
       "1779  https://twitter.com/dog_rates/status/677716515794329600/photo/1   \n",
       "\n",
       "      rating_numerator  rating_denominator  name dog_stage  \\\n",
       "1779               144                 120  None    pupper   \n",
       "\n",
       "                    tweet_url  \n",
       "1779  https://t.co/ZanVtAtvIq  "
      ]
     },
     "execution_count": 68,
     "metadata": {},
     "output_type": "execute_result"
    }
   ],
   "source": [
    "# Before Cleaning\n",
    "df_twitter[df_twitter[\"tweet_id\"]==677716515794329600]"
   ]
  },
  {
   "cell_type": "markdown",
   "id": "7801e07b",
   "metadata": {},
   "source": [
    "#### Code"
   ]
  },
  {
   "cell_type": "code",
   "execution_count": 69,
   "id": "7872d870",
   "metadata": {
    "ExecuteTime": {
     "end_time": "2022-11-12T06:03:12.948242Z",
     "start_time": "2022-11-12T06:03:12.928245Z"
    }
   },
   "outputs": [
    {
     "name": "stdout",
     "output_type": "stream",
     "text": [
      "Done\n"
     ]
    }
   ],
   "source": [
    "modify_element(tweet_id=677716515794329600, n=12, d=10)"
   ]
  },
  {
   "cell_type": "markdown",
   "id": "2ef167a7",
   "metadata": {},
   "source": [
    "#### Test"
   ]
  },
  {
   "cell_type": "code",
   "execution_count": 70,
   "id": "d32227c2",
   "metadata": {
    "ExecuteTime": {
     "end_time": "2022-11-12T06:03:47.766888Z",
     "start_time": "2022-11-12T06:03:47.735893Z"
    }
   },
   "outputs": [
    {
     "data": {
      "text/html": [
       "<div>\n",
       "<style scoped>\n",
       "    .dataframe tbody tr th:only-of-type {\n",
       "        vertical-align: middle;\n",
       "    }\n",
       "\n",
       "    .dataframe tbody tr th {\n",
       "        vertical-align: top;\n",
       "    }\n",
       "\n",
       "    .dataframe thead th {\n",
       "        text-align: right;\n",
       "    }\n",
       "</style>\n",
       "<table border=\"1\" class=\"dataframe\">\n",
       "  <thead>\n",
       "    <tr style=\"text-align: right;\">\n",
       "      <th></th>\n",
       "      <th>tweet_id</th>\n",
       "      <th>in_reply_to_status_id</th>\n",
       "      <th>in_reply_to_user_id</th>\n",
       "      <th>timestamp</th>\n",
       "      <th>source</th>\n",
       "      <th>text</th>\n",
       "      <th>retweeted_status_id</th>\n",
       "      <th>retweeted_status_user_id</th>\n",
       "      <th>retweeted_status_timestamp</th>\n",
       "      <th>expanded_urls</th>\n",
       "      <th>rating_numerator</th>\n",
       "      <th>rating_denominator</th>\n",
       "      <th>name</th>\n",
       "      <th>dog_stage</th>\n",
       "      <th>tweet_url</th>\n",
       "    </tr>\n",
       "  </thead>\n",
       "  <tbody>\n",
       "    <tr>\n",
       "      <th>1779</th>\n",
       "      <td>677716515794329600</td>\n",
       "      <td>NaN</td>\n",
       "      <td>NaN</td>\n",
       "      <td>2015-12-18 05:06:23 +0000</td>\n",
       "      <td>&lt;a href=\"http://twitter.com/download/iphone\" rel=\"nofollow\"&gt;Twitter for iPhone&lt;/a&gt;</td>\n",
       "      <td>IT'S PUPPERGEDDON. Total of 144/120 ...I think .</td>\n",
       "      <td>NaN</td>\n",
       "      <td>NaN</td>\n",
       "      <td>NaN</td>\n",
       "      <td>https://twitter.com/dog_rates/status/677716515794329600/photo/1</td>\n",
       "      <td>12</td>\n",
       "      <td>10</td>\n",
       "      <td>None</td>\n",
       "      <td>pupper</td>\n",
       "      <td>https://t.co/ZanVtAtvIq</td>\n",
       "    </tr>\n",
       "  </tbody>\n",
       "</table>\n",
       "</div>"
      ],
      "text/plain": [
       "                tweet_id  in_reply_to_status_id  in_reply_to_user_id  \\\n",
       "1779  677716515794329600                    NaN                  NaN   \n",
       "\n",
       "                      timestamp  \\\n",
       "1779  2015-12-18 05:06:23 +0000   \n",
       "\n",
       "                                                                                  source  \\\n",
       "1779  <a href=\"http://twitter.com/download/iphone\" rel=\"nofollow\">Twitter for iPhone</a>   \n",
       "\n",
       "                                                  text  retweeted_status_id  \\\n",
       "1779  IT'S PUPPERGEDDON. Total of 144/120 ...I think .                  NaN   \n",
       "\n",
       "      retweeted_status_user_id retweeted_status_timestamp  \\\n",
       "1779                       NaN                        NaN   \n",
       "\n",
       "                                                        expanded_urls  \\\n",
       "1779  https://twitter.com/dog_rates/status/677716515794329600/photo/1   \n",
       "\n",
       "      rating_numerator  rating_denominator  name dog_stage  \\\n",
       "1779                12                  10  None    pupper   \n",
       "\n",
       "                    tweet_url  \n",
       "1779  https://t.co/ZanVtAtvIq  "
      ]
     },
     "execution_count": 70,
     "metadata": {},
     "output_type": "execute_result"
    }
   ],
   "source": [
    "# After Cleaning\n",
    "df_twitter[df_twitter[\"tweet_id\"]==677716515794329600]"
   ]
  },
  {
   "cell_type": "markdown",
   "id": "c4673677",
   "metadata": {},
   "source": [
    "##### 9. Replace ratings  7 and 11 in rating_numerator and rating_denominator columns respectively with 10  for tweet_id: 682962037429899265 using the `modify_element` function"
   ]
  },
  {
   "cell_type": "code",
   "execution_count": 71,
   "id": "053209a2",
   "metadata": {
    "ExecuteTime": {
     "end_time": "2022-11-12T06:04:42.132915Z",
     "start_time": "2022-11-12T06:04:42.095914Z"
    }
   },
   "outputs": [
    {
     "data": {
      "text/html": [
       "<div>\n",
       "<style scoped>\n",
       "    .dataframe tbody tr th:only-of-type {\n",
       "        vertical-align: middle;\n",
       "    }\n",
       "\n",
       "    .dataframe tbody tr th {\n",
       "        vertical-align: top;\n",
       "    }\n",
       "\n",
       "    .dataframe thead th {\n",
       "        text-align: right;\n",
       "    }\n",
       "</style>\n",
       "<table border=\"1\" class=\"dataframe\">\n",
       "  <thead>\n",
       "    <tr style=\"text-align: right;\">\n",
       "      <th></th>\n",
       "      <th>tweet_id</th>\n",
       "      <th>in_reply_to_status_id</th>\n",
       "      <th>in_reply_to_user_id</th>\n",
       "      <th>timestamp</th>\n",
       "      <th>source</th>\n",
       "      <th>text</th>\n",
       "      <th>retweeted_status_id</th>\n",
       "      <th>retweeted_status_user_id</th>\n",
       "      <th>retweeted_status_timestamp</th>\n",
       "      <th>expanded_urls</th>\n",
       "      <th>rating_numerator</th>\n",
       "      <th>rating_denominator</th>\n",
       "      <th>name</th>\n",
       "      <th>dog_stage</th>\n",
       "      <th>tweet_url</th>\n",
       "    </tr>\n",
       "  </thead>\n",
       "  <tbody>\n",
       "    <tr>\n",
       "      <th>1662</th>\n",
       "      <td>682962037429899265</td>\n",
       "      <td>NaN</td>\n",
       "      <td>NaN</td>\n",
       "      <td>2016-01-01 16:30:13 +0000</td>\n",
       "      <td>&lt;a href=\"http://twitter.com/download/iphone\" rel=\"nofollow\"&gt;Twitter for iPhone&lt;/a&gt;</td>\n",
       "      <td>This is Darrel. He just robbed a 7/11 and is in a high speed police chase. Was just spotted by the helicopter 10/10 .</td>\n",
       "      <td>NaN</td>\n",
       "      <td>NaN</td>\n",
       "      <td>NaN</td>\n",
       "      <td>https://twitter.com/dog_rates/status/682962037429899265/photo/1</td>\n",
       "      <td>7</td>\n",
       "      <td>11</td>\n",
       "      <td>Darrel</td>\n",
       "      <td>None</td>\n",
       "      <td>https://t.co/7EsP8LmSp5</td>\n",
       "    </tr>\n",
       "  </tbody>\n",
       "</table>\n",
       "</div>"
      ],
      "text/plain": [
       "                tweet_id  in_reply_to_status_id  in_reply_to_user_id  \\\n",
       "1662  682962037429899265                    NaN                  NaN   \n",
       "\n",
       "                      timestamp  \\\n",
       "1662  2016-01-01 16:30:13 +0000   \n",
       "\n",
       "                                                                                  source  \\\n",
       "1662  <a href=\"http://twitter.com/download/iphone\" rel=\"nofollow\">Twitter for iPhone</a>   \n",
       "\n",
       "                                                                                                                       text  \\\n",
       "1662  This is Darrel. He just robbed a 7/11 and is in a high speed police chase. Was just spotted by the helicopter 10/10 .   \n",
       "\n",
       "      retweeted_status_id  retweeted_status_user_id  \\\n",
       "1662                  NaN                       NaN   \n",
       "\n",
       "     retweeted_status_timestamp  \\\n",
       "1662                        NaN   \n",
       "\n",
       "                                                        expanded_urls  \\\n",
       "1662  https://twitter.com/dog_rates/status/682962037429899265/photo/1   \n",
       "\n",
       "      rating_numerator  rating_denominator    name dog_stage  \\\n",
       "1662                 7                  11  Darrel      None   \n",
       "\n",
       "                    tweet_url  \n",
       "1662  https://t.co/7EsP8LmSp5  "
      ]
     },
     "execution_count": 71,
     "metadata": {},
     "output_type": "execute_result"
    }
   ],
   "source": [
    "# Before Cleaning\n",
    "df_twitter[df_twitter[\"tweet_id\"]==682962037429899265]"
   ]
  },
  {
   "cell_type": "markdown",
   "id": "e5091533",
   "metadata": {},
   "source": [
    "#### Code"
   ]
  },
  {
   "cell_type": "code",
   "execution_count": 72,
   "id": "aba27212",
   "metadata": {
    "ExecuteTime": {
     "end_time": "2022-11-12T06:05:31.136341Z",
     "start_time": "2022-11-12T06:05:31.110343Z"
    }
   },
   "outputs": [
    {
     "name": "stdout",
     "output_type": "stream",
     "text": [
      "Done\n"
     ]
    }
   ],
   "source": [
    "modify_element(tweet_id=682962037429899265, n=10, d=10)"
   ]
  },
  {
   "cell_type": "markdown",
   "id": "50086445",
   "metadata": {},
   "source": [
    "#### Test"
   ]
  },
  {
   "cell_type": "code",
   "execution_count": 73,
   "id": "fd044ab2",
   "metadata": {
    "ExecuteTime": {
     "end_time": "2022-11-12T06:06:06.565381Z",
     "start_time": "2022-11-12T06:06:06.528381Z"
    }
   },
   "outputs": [
    {
     "data": {
      "text/html": [
       "<div>\n",
       "<style scoped>\n",
       "    .dataframe tbody tr th:only-of-type {\n",
       "        vertical-align: middle;\n",
       "    }\n",
       "\n",
       "    .dataframe tbody tr th {\n",
       "        vertical-align: top;\n",
       "    }\n",
       "\n",
       "    .dataframe thead th {\n",
       "        text-align: right;\n",
       "    }\n",
       "</style>\n",
       "<table border=\"1\" class=\"dataframe\">\n",
       "  <thead>\n",
       "    <tr style=\"text-align: right;\">\n",
       "      <th></th>\n",
       "      <th>tweet_id</th>\n",
       "      <th>in_reply_to_status_id</th>\n",
       "      <th>in_reply_to_user_id</th>\n",
       "      <th>timestamp</th>\n",
       "      <th>source</th>\n",
       "      <th>text</th>\n",
       "      <th>retweeted_status_id</th>\n",
       "      <th>retweeted_status_user_id</th>\n",
       "      <th>retweeted_status_timestamp</th>\n",
       "      <th>expanded_urls</th>\n",
       "      <th>rating_numerator</th>\n",
       "      <th>rating_denominator</th>\n",
       "      <th>name</th>\n",
       "      <th>dog_stage</th>\n",
       "      <th>tweet_url</th>\n",
       "    </tr>\n",
       "  </thead>\n",
       "  <tbody>\n",
       "    <tr>\n",
       "      <th>1662</th>\n",
       "      <td>682962037429899265</td>\n",
       "      <td>NaN</td>\n",
       "      <td>NaN</td>\n",
       "      <td>2016-01-01 16:30:13 +0000</td>\n",
       "      <td>&lt;a href=\"http://twitter.com/download/iphone\" rel=\"nofollow\"&gt;Twitter for iPhone&lt;/a&gt;</td>\n",
       "      <td>This is Darrel. He just robbed a 7/11 and is in a high speed police chase. Was just spotted by the helicopter 10/10 .</td>\n",
       "      <td>NaN</td>\n",
       "      <td>NaN</td>\n",
       "      <td>NaN</td>\n",
       "      <td>https://twitter.com/dog_rates/status/682962037429899265/photo/1</td>\n",
       "      <td>10</td>\n",
       "      <td>10</td>\n",
       "      <td>Darrel</td>\n",
       "      <td>None</td>\n",
       "      <td>https://t.co/7EsP8LmSp5</td>\n",
       "    </tr>\n",
       "  </tbody>\n",
       "</table>\n",
       "</div>"
      ],
      "text/plain": [
       "                tweet_id  in_reply_to_status_id  in_reply_to_user_id  \\\n",
       "1662  682962037429899265                    NaN                  NaN   \n",
       "\n",
       "                      timestamp  \\\n",
       "1662  2016-01-01 16:30:13 +0000   \n",
       "\n",
       "                                                                                  source  \\\n",
       "1662  <a href=\"http://twitter.com/download/iphone\" rel=\"nofollow\">Twitter for iPhone</a>   \n",
       "\n",
       "                                                                                                                       text  \\\n",
       "1662  This is Darrel. He just robbed a 7/11 and is in a high speed police chase. Was just spotted by the helicopter 10/10 .   \n",
       "\n",
       "      retweeted_status_id  retweeted_status_user_id  \\\n",
       "1662                  NaN                       NaN   \n",
       "\n",
       "     retweeted_status_timestamp  \\\n",
       "1662                        NaN   \n",
       "\n",
       "                                                        expanded_urls  \\\n",
       "1662  https://twitter.com/dog_rates/status/682962037429899265/photo/1   \n",
       "\n",
       "      rating_numerator  rating_denominator    name dog_stage  \\\n",
       "1662                10                  10  Darrel      None   \n",
       "\n",
       "                    tweet_url  \n",
       "1662  https://t.co/7EsP8LmSp5  "
      ]
     },
     "execution_count": 73,
     "metadata": {},
     "output_type": "execute_result"
    }
   ],
   "source": [
    "# After Before Cleaning\n",
    "df_twitter[df_twitter[\"tweet_id\"]==682962037429899265]"
   ]
  },
  {
   "cell_type": "markdown",
   "id": "b9f7a631",
   "metadata": {},
   "source": [
    "##### 10. Replace  4 and 20 in rating_numerator and rating_denominator columns with 13 and 10 respectively  for tweet_id: 682962037429899265 using the `modify_element` function"
   ]
  },
  {
   "cell_type": "code",
   "execution_count": 74,
   "id": "6c7d95cf",
   "metadata": {
    "ExecuteTime": {
     "end_time": "2022-11-12T06:06:48.669711Z",
     "start_time": "2022-11-12T06:06:48.626708Z"
    }
   },
   "outputs": [
    {
     "data": {
      "text/html": [
       "<div>\n",
       "<style scoped>\n",
       "    .dataframe tbody tr th:only-of-type {\n",
       "        vertical-align: middle;\n",
       "    }\n",
       "\n",
       "    .dataframe tbody tr th {\n",
       "        vertical-align: top;\n",
       "    }\n",
       "\n",
       "    .dataframe thead th {\n",
       "        text-align: right;\n",
       "    }\n",
       "</style>\n",
       "<table border=\"1\" class=\"dataframe\">\n",
       "  <thead>\n",
       "    <tr style=\"text-align: right;\">\n",
       "      <th></th>\n",
       "      <th>tweet_id</th>\n",
       "      <th>in_reply_to_status_id</th>\n",
       "      <th>in_reply_to_user_id</th>\n",
       "      <th>timestamp</th>\n",
       "      <th>source</th>\n",
       "      <th>text</th>\n",
       "      <th>retweeted_status_id</th>\n",
       "      <th>retweeted_status_user_id</th>\n",
       "      <th>retweeted_status_timestamp</th>\n",
       "      <th>expanded_urls</th>\n",
       "      <th>rating_numerator</th>\n",
       "      <th>rating_denominator</th>\n",
       "      <th>name</th>\n",
       "      <th>dog_stage</th>\n",
       "      <th>tweet_url</th>\n",
       "    </tr>\n",
       "  </thead>\n",
       "  <tbody>\n",
       "    <tr>\n",
       "      <th>1165</th>\n",
       "      <td>722974582966214656</td>\n",
       "      <td>NaN</td>\n",
       "      <td>NaN</td>\n",
       "      <td>2016-04-21 02:25:47 +0000</td>\n",
       "      <td>&lt;a href=\"http://twitter.com/download/iphone\" rel=\"nofollow\"&gt;Twitter for iPhone&lt;/a&gt;</td>\n",
       "      <td>Happy 4/20 from the squad! 13/10 for all .</td>\n",
       "      <td>NaN</td>\n",
       "      <td>NaN</td>\n",
       "      <td>NaN</td>\n",
       "      <td>https://twitter.com/dog_rates/status/722974582966214656/photo/1</td>\n",
       "      <td>4</td>\n",
       "      <td>20</td>\n",
       "      <td>None</td>\n",
       "      <td>None</td>\n",
       "      <td>https://t.co/eV1diwds8a</td>\n",
       "    </tr>\n",
       "  </tbody>\n",
       "</table>\n",
       "</div>"
      ],
      "text/plain": [
       "                tweet_id  in_reply_to_status_id  in_reply_to_user_id  \\\n",
       "1165  722974582966214656                    NaN                  NaN   \n",
       "\n",
       "                      timestamp  \\\n",
       "1165  2016-04-21 02:25:47 +0000   \n",
       "\n",
       "                                                                                  source  \\\n",
       "1165  <a href=\"http://twitter.com/download/iphone\" rel=\"nofollow\">Twitter for iPhone</a>   \n",
       "\n",
       "                                            text  retweeted_status_id  \\\n",
       "1165  Happy 4/20 from the squad! 13/10 for all .                  NaN   \n",
       "\n",
       "      retweeted_status_user_id retweeted_status_timestamp  \\\n",
       "1165                       NaN                        NaN   \n",
       "\n",
       "                                                        expanded_urls  \\\n",
       "1165  https://twitter.com/dog_rates/status/722974582966214656/photo/1   \n",
       "\n",
       "      rating_numerator  rating_denominator  name dog_stage  \\\n",
       "1165                 4                  20  None      None   \n",
       "\n",
       "                    tweet_url  \n",
       "1165  https://t.co/eV1diwds8a  "
      ]
     },
     "execution_count": 74,
     "metadata": {},
     "output_type": "execute_result"
    }
   ],
   "source": [
    "# Before Cleaning\n",
    "df_twitter[df_twitter[\"tweet_id\"]==722974582966214656]"
   ]
  },
  {
   "cell_type": "markdown",
   "id": "bc6e97ce",
   "metadata": {
    "ExecuteTime": {
     "end_time": "2022-11-12T06:07:10.638377Z",
     "start_time": "2022-11-12T06:07:10.633381Z"
    }
   },
   "source": [
    "#### Code"
   ]
  },
  {
   "cell_type": "code",
   "execution_count": 76,
   "id": "51328a4f",
   "metadata": {
    "ExecuteTime": {
     "end_time": "2022-11-12T06:07:36.973080Z",
     "start_time": "2022-11-12T06:07:36.960076Z"
    }
   },
   "outputs": [
    {
     "name": "stdout",
     "output_type": "stream",
     "text": [
      "Done\n"
     ]
    }
   ],
   "source": [
    "modify_element(tweet_id=722974582966214656, n=13, d=10)"
   ]
  },
  {
   "cell_type": "markdown",
   "id": "561ab1db",
   "metadata": {},
   "source": [
    "#### Test"
   ]
  },
  {
   "cell_type": "code",
   "execution_count": 77,
   "id": "68355e81",
   "metadata": {
    "ExecuteTime": {
     "end_time": "2022-11-12T06:08:07.599137Z",
     "start_time": "2022-11-12T06:08:07.556136Z"
    }
   },
   "outputs": [
    {
     "data": {
      "text/html": [
       "<div>\n",
       "<style scoped>\n",
       "    .dataframe tbody tr th:only-of-type {\n",
       "        vertical-align: middle;\n",
       "    }\n",
       "\n",
       "    .dataframe tbody tr th {\n",
       "        vertical-align: top;\n",
       "    }\n",
       "\n",
       "    .dataframe thead th {\n",
       "        text-align: right;\n",
       "    }\n",
       "</style>\n",
       "<table border=\"1\" class=\"dataframe\">\n",
       "  <thead>\n",
       "    <tr style=\"text-align: right;\">\n",
       "      <th></th>\n",
       "      <th>tweet_id</th>\n",
       "      <th>in_reply_to_status_id</th>\n",
       "      <th>in_reply_to_user_id</th>\n",
       "      <th>timestamp</th>\n",
       "      <th>source</th>\n",
       "      <th>text</th>\n",
       "      <th>retweeted_status_id</th>\n",
       "      <th>retweeted_status_user_id</th>\n",
       "      <th>retweeted_status_timestamp</th>\n",
       "      <th>expanded_urls</th>\n",
       "      <th>rating_numerator</th>\n",
       "      <th>rating_denominator</th>\n",
       "      <th>name</th>\n",
       "      <th>dog_stage</th>\n",
       "      <th>tweet_url</th>\n",
       "    </tr>\n",
       "  </thead>\n",
       "  <tbody>\n",
       "    <tr>\n",
       "      <th>1165</th>\n",
       "      <td>722974582966214656</td>\n",
       "      <td>NaN</td>\n",
       "      <td>NaN</td>\n",
       "      <td>2016-04-21 02:25:47 +0000</td>\n",
       "      <td>&lt;a href=\"http://twitter.com/download/iphone\" rel=\"nofollow\"&gt;Twitter for iPhone&lt;/a&gt;</td>\n",
       "      <td>Happy 4/20 from the squad! 13/10 for all .</td>\n",
       "      <td>NaN</td>\n",
       "      <td>NaN</td>\n",
       "      <td>NaN</td>\n",
       "      <td>https://twitter.com/dog_rates/status/722974582966214656/photo/1</td>\n",
       "      <td>13</td>\n",
       "      <td>10</td>\n",
       "      <td>None</td>\n",
       "      <td>None</td>\n",
       "      <td>https://t.co/eV1diwds8a</td>\n",
       "    </tr>\n",
       "  </tbody>\n",
       "</table>\n",
       "</div>"
      ],
      "text/plain": [
       "                tweet_id  in_reply_to_status_id  in_reply_to_user_id  \\\n",
       "1165  722974582966214656                    NaN                  NaN   \n",
       "\n",
       "                      timestamp  \\\n",
       "1165  2016-04-21 02:25:47 +0000   \n",
       "\n",
       "                                                                                  source  \\\n",
       "1165  <a href=\"http://twitter.com/download/iphone\" rel=\"nofollow\">Twitter for iPhone</a>   \n",
       "\n",
       "                                            text  retweeted_status_id  \\\n",
       "1165  Happy 4/20 from the squad! 13/10 for all .                  NaN   \n",
       "\n",
       "      retweeted_status_user_id retweeted_status_timestamp  \\\n",
       "1165                       NaN                        NaN   \n",
       "\n",
       "                                                        expanded_urls  \\\n",
       "1165  https://twitter.com/dog_rates/status/722974582966214656/photo/1   \n",
       "\n",
       "      rating_numerator  rating_denominator  name dog_stage  \\\n",
       "1165                13                  10  None      None   \n",
       "\n",
       "                    tweet_url  \n",
       "1165  https://t.co/eV1diwds8a  "
      ]
     },
     "execution_count": 77,
     "metadata": {},
     "output_type": "execute_result"
    }
   ],
   "source": [
    "# After Cleaning\n",
    "df_twitter[df_twitter[\"tweet_id\"]==722974582966214656]"
   ]
  },
  {
   "cell_type": "markdown",
   "id": "b67feba0",
   "metadata": {},
   "source": [
    "##### 11. Replace  50  in both rating_numerator and rating_denominator columns with 11 and 10 respectively  for tweet_id: 716439118184652801 using the `modify_element` function"
   ]
  },
  {
   "cell_type": "code",
   "execution_count": 78,
   "id": "6fe88c90",
   "metadata": {
    "ExecuteTime": {
     "end_time": "2022-11-12T06:09:08.811169Z",
     "start_time": "2022-11-12T06:09:08.754169Z"
    }
   },
   "outputs": [
    {
     "data": {
      "text/html": [
       "<div>\n",
       "<style scoped>\n",
       "    .dataframe tbody tr th:only-of-type {\n",
       "        vertical-align: middle;\n",
       "    }\n",
       "\n",
       "    .dataframe tbody tr th {\n",
       "        vertical-align: top;\n",
       "    }\n",
       "\n",
       "    .dataframe thead th {\n",
       "        text-align: right;\n",
       "    }\n",
       "</style>\n",
       "<table border=\"1\" class=\"dataframe\">\n",
       "  <thead>\n",
       "    <tr style=\"text-align: right;\">\n",
       "      <th></th>\n",
       "      <th>tweet_id</th>\n",
       "      <th>in_reply_to_status_id</th>\n",
       "      <th>in_reply_to_user_id</th>\n",
       "      <th>timestamp</th>\n",
       "      <th>source</th>\n",
       "      <th>text</th>\n",
       "      <th>retweeted_status_id</th>\n",
       "      <th>retweeted_status_user_id</th>\n",
       "      <th>retweeted_status_timestamp</th>\n",
       "      <th>expanded_urls</th>\n",
       "      <th>rating_numerator</th>\n",
       "      <th>rating_denominator</th>\n",
       "      <th>name</th>\n",
       "      <th>dog_stage</th>\n",
       "      <th>tweet_url</th>\n",
       "    </tr>\n",
       "  </thead>\n",
       "  <tbody>\n",
       "    <tr>\n",
       "      <th>1202</th>\n",
       "      <td>716439118184652801</td>\n",
       "      <td>NaN</td>\n",
       "      <td>NaN</td>\n",
       "      <td>2016-04-03 01:36:11 +0000</td>\n",
       "      <td>&lt;a href=\"http://twitter.com/download/iphone\" rel=\"nofollow\"&gt;Twitter for iPhone&lt;/a&gt;</td>\n",
       "      <td>This is Bluebert. He just saw that both #FinalFur match ups are split 50/50. Amazed af. 11/10 .</td>\n",
       "      <td>NaN</td>\n",
       "      <td>NaN</td>\n",
       "      <td>NaN</td>\n",
       "      <td>https://twitter.com/dog_rates/status/716439118184652801/photo/1</td>\n",
       "      <td>50</td>\n",
       "      <td>50</td>\n",
       "      <td>Bluebert</td>\n",
       "      <td>None</td>\n",
       "      <td>https://t.co/Kky1DPG4iq</td>\n",
       "    </tr>\n",
       "  </tbody>\n",
       "</table>\n",
       "</div>"
      ],
      "text/plain": [
       "                tweet_id  in_reply_to_status_id  in_reply_to_user_id  \\\n",
       "1202  716439118184652801                    NaN                  NaN   \n",
       "\n",
       "                      timestamp  \\\n",
       "1202  2016-04-03 01:36:11 +0000   \n",
       "\n",
       "                                                                                  source  \\\n",
       "1202  <a href=\"http://twitter.com/download/iphone\" rel=\"nofollow\">Twitter for iPhone</a>   \n",
       "\n",
       "                                                                                                 text  \\\n",
       "1202  This is Bluebert. He just saw that both #FinalFur match ups are split 50/50. Amazed af. 11/10 .   \n",
       "\n",
       "      retweeted_status_id  retweeted_status_user_id  \\\n",
       "1202                  NaN                       NaN   \n",
       "\n",
       "     retweeted_status_timestamp  \\\n",
       "1202                        NaN   \n",
       "\n",
       "                                                        expanded_urls  \\\n",
       "1202  https://twitter.com/dog_rates/status/716439118184652801/photo/1   \n",
       "\n",
       "      rating_numerator  rating_denominator      name dog_stage  \\\n",
       "1202                50                  50  Bluebert      None   \n",
       "\n",
       "                    tweet_url  \n",
       "1202  https://t.co/Kky1DPG4iq  "
      ]
     },
     "execution_count": 78,
     "metadata": {},
     "output_type": "execute_result"
    }
   ],
   "source": [
    "# Before Cleaning\n",
    "df_twitter[df_twitter[\"tweet_id\"]==716439118184652801]"
   ]
  },
  {
   "cell_type": "markdown",
   "id": "25c07898",
   "metadata": {},
   "source": [
    "#### Code"
   ]
  },
  {
   "cell_type": "code",
   "execution_count": 79,
   "id": "e2a816c8",
   "metadata": {
    "ExecuteTime": {
     "end_time": "2022-11-12T06:09:53.811196Z",
     "start_time": "2022-11-12T06:09:53.797197Z"
    }
   },
   "outputs": [
    {
     "name": "stdout",
     "output_type": "stream",
     "text": [
      "Done\n"
     ]
    }
   ],
   "source": [
    "modify_element(tweet_id=716439118184652801, n=11, d=10)"
   ]
  },
  {
   "cell_type": "markdown",
   "id": "deda450c",
   "metadata": {},
   "source": [
    "#### Test"
   ]
  },
  {
   "cell_type": "code",
   "execution_count": 80,
   "id": "0fe36472",
   "metadata": {
    "ExecuteTime": {
     "end_time": "2022-11-12T06:10:22.172115Z",
     "start_time": "2022-11-12T06:10:22.134117Z"
    }
   },
   "outputs": [
    {
     "data": {
      "text/html": [
       "<div>\n",
       "<style scoped>\n",
       "    .dataframe tbody tr th:only-of-type {\n",
       "        vertical-align: middle;\n",
       "    }\n",
       "\n",
       "    .dataframe tbody tr th {\n",
       "        vertical-align: top;\n",
       "    }\n",
       "\n",
       "    .dataframe thead th {\n",
       "        text-align: right;\n",
       "    }\n",
       "</style>\n",
       "<table border=\"1\" class=\"dataframe\">\n",
       "  <thead>\n",
       "    <tr style=\"text-align: right;\">\n",
       "      <th></th>\n",
       "      <th>tweet_id</th>\n",
       "      <th>in_reply_to_status_id</th>\n",
       "      <th>in_reply_to_user_id</th>\n",
       "      <th>timestamp</th>\n",
       "      <th>source</th>\n",
       "      <th>text</th>\n",
       "      <th>retweeted_status_id</th>\n",
       "      <th>retweeted_status_user_id</th>\n",
       "      <th>retweeted_status_timestamp</th>\n",
       "      <th>expanded_urls</th>\n",
       "      <th>rating_numerator</th>\n",
       "      <th>rating_denominator</th>\n",
       "      <th>name</th>\n",
       "      <th>dog_stage</th>\n",
       "      <th>tweet_url</th>\n",
       "    </tr>\n",
       "  </thead>\n",
       "  <tbody>\n",
       "    <tr>\n",
       "      <th>1202</th>\n",
       "      <td>716439118184652801</td>\n",
       "      <td>NaN</td>\n",
       "      <td>NaN</td>\n",
       "      <td>2016-04-03 01:36:11 +0000</td>\n",
       "      <td>&lt;a href=\"http://twitter.com/download/iphone\" rel=\"nofollow\"&gt;Twitter for iPhone&lt;/a&gt;</td>\n",
       "      <td>This is Bluebert. He just saw that both #FinalFur match ups are split 50/50. Amazed af. 11/10 .</td>\n",
       "      <td>NaN</td>\n",
       "      <td>NaN</td>\n",
       "      <td>NaN</td>\n",
       "      <td>https://twitter.com/dog_rates/status/716439118184652801/photo/1</td>\n",
       "      <td>11</td>\n",
       "      <td>10</td>\n",
       "      <td>Bluebert</td>\n",
       "      <td>None</td>\n",
       "      <td>https://t.co/Kky1DPG4iq</td>\n",
       "    </tr>\n",
       "  </tbody>\n",
       "</table>\n",
       "</div>"
      ],
      "text/plain": [
       "                tweet_id  in_reply_to_status_id  in_reply_to_user_id  \\\n",
       "1202  716439118184652801                    NaN                  NaN   \n",
       "\n",
       "                      timestamp  \\\n",
       "1202  2016-04-03 01:36:11 +0000   \n",
       "\n",
       "                                                                                  source  \\\n",
       "1202  <a href=\"http://twitter.com/download/iphone\" rel=\"nofollow\">Twitter for iPhone</a>   \n",
       "\n",
       "                                                                                                 text  \\\n",
       "1202  This is Bluebert. He just saw that both #FinalFur match ups are split 50/50. Amazed af. 11/10 .   \n",
       "\n",
       "      retweeted_status_id  retweeted_status_user_id  \\\n",
       "1202                  NaN                       NaN   \n",
       "\n",
       "     retweeted_status_timestamp  \\\n",
       "1202                        NaN   \n",
       "\n",
       "                                                        expanded_urls  \\\n",
       "1202  https://twitter.com/dog_rates/status/716439118184652801/photo/1   \n",
       "\n",
       "      rating_numerator  rating_denominator      name dog_stage  \\\n",
       "1202                11                  10  Bluebert      None   \n",
       "\n",
       "                    tweet_url  \n",
       "1202  https://t.co/Kky1DPG4iq  "
      ]
     },
     "execution_count": 80,
     "metadata": {},
     "output_type": "execute_result"
    }
   ],
   "source": [
    "# After Cleaning\n",
    "df_twitter[df_twitter[\"tweet_id\"]==716439118184652801]"
   ]
  },
  {
   "cell_type": "markdown",
   "id": "e743aba4",
   "metadata": {},
   "source": [
    "##### 12. Replace  1 and 2  in both rating_numerator and rating_denominator columns with 9 and 10 respectively  for tweet_id: 666287406224695296 using the `modify_element` function"
   ]
  },
  {
   "cell_type": "code",
   "execution_count": 81,
   "id": "26ed0fe3",
   "metadata": {
    "ExecuteTime": {
     "end_time": "2022-11-12T06:11:28.503404Z",
     "start_time": "2022-11-12T06:11:28.468398Z"
    }
   },
   "outputs": [
    {
     "data": {
      "text/html": [
       "<div>\n",
       "<style scoped>\n",
       "    .dataframe tbody tr th:only-of-type {\n",
       "        vertical-align: middle;\n",
       "    }\n",
       "\n",
       "    .dataframe tbody tr th {\n",
       "        vertical-align: top;\n",
       "    }\n",
       "\n",
       "    .dataframe thead th {\n",
       "        text-align: right;\n",
       "    }\n",
       "</style>\n",
       "<table border=\"1\" class=\"dataframe\">\n",
       "  <thead>\n",
       "    <tr style=\"text-align: right;\">\n",
       "      <th></th>\n",
       "      <th>tweet_id</th>\n",
       "      <th>in_reply_to_status_id</th>\n",
       "      <th>in_reply_to_user_id</th>\n",
       "      <th>timestamp</th>\n",
       "      <th>source</th>\n",
       "      <th>text</th>\n",
       "      <th>retweeted_status_id</th>\n",
       "      <th>retweeted_status_user_id</th>\n",
       "      <th>retweeted_status_timestamp</th>\n",
       "      <th>expanded_urls</th>\n",
       "      <th>rating_numerator</th>\n",
       "      <th>rating_denominator</th>\n",
       "      <th>name</th>\n",
       "      <th>dog_stage</th>\n",
       "      <th>tweet_url</th>\n",
       "    </tr>\n",
       "  </thead>\n",
       "  <tbody>\n",
       "    <tr>\n",
       "      <th>2335</th>\n",
       "      <td>666287406224695296</td>\n",
       "      <td>NaN</td>\n",
       "      <td>NaN</td>\n",
       "      <td>2015-11-16 16:11:11 +0000</td>\n",
       "      <td>&lt;a href=\"http://twitter.com/download/iphone\" rel=\"nofollow\"&gt;Twitter for iPhone&lt;/a&gt;</td>\n",
       "      <td>This is an Albanian 3 1/2 legged  Episcopalian. Loves well-polished hardwood flooring. Penis on the collar. 9/10 .</td>\n",
       "      <td>NaN</td>\n",
       "      <td>NaN</td>\n",
       "      <td>NaN</td>\n",
       "      <td>https://twitter.com/dog_rates/status/666287406224695296/photo/1</td>\n",
       "      <td>1</td>\n",
       "      <td>2</td>\n",
       "      <td>an</td>\n",
       "      <td>None</td>\n",
       "      <td>https://t.co/d9NcXFKwLv</td>\n",
       "    </tr>\n",
       "  </tbody>\n",
       "</table>\n",
       "</div>"
      ],
      "text/plain": [
       "                tweet_id  in_reply_to_status_id  in_reply_to_user_id  \\\n",
       "2335  666287406224695296                    NaN                  NaN   \n",
       "\n",
       "                      timestamp  \\\n",
       "2335  2015-11-16 16:11:11 +0000   \n",
       "\n",
       "                                                                                  source  \\\n",
       "2335  <a href=\"http://twitter.com/download/iphone\" rel=\"nofollow\">Twitter for iPhone</a>   \n",
       "\n",
       "                                                                                                                    text  \\\n",
       "2335  This is an Albanian 3 1/2 legged  Episcopalian. Loves well-polished hardwood flooring. Penis on the collar. 9/10 .   \n",
       "\n",
       "      retweeted_status_id  retweeted_status_user_id  \\\n",
       "2335                  NaN                       NaN   \n",
       "\n",
       "     retweeted_status_timestamp  \\\n",
       "2335                        NaN   \n",
       "\n",
       "                                                        expanded_urls  \\\n",
       "2335  https://twitter.com/dog_rates/status/666287406224695296/photo/1   \n",
       "\n",
       "      rating_numerator  rating_denominator name dog_stage  \\\n",
       "2335                 1                   2   an      None   \n",
       "\n",
       "                    tweet_url  \n",
       "2335  https://t.co/d9NcXFKwLv  "
      ]
     },
     "execution_count": 81,
     "metadata": {},
     "output_type": "execute_result"
    }
   ],
   "source": [
    "# Before Cleaning\n",
    "df_twitter[df_twitter[\"tweet_id\"]==666287406224695296]"
   ]
  },
  {
   "cell_type": "markdown",
   "id": "8f72476c",
   "metadata": {},
   "source": [
    "#### Code"
   ]
  },
  {
   "cell_type": "code",
   "execution_count": 82,
   "id": "2646b801",
   "metadata": {
    "ExecuteTime": {
     "end_time": "2022-11-12T06:12:06.114217Z",
     "start_time": "2022-11-12T06:12:06.103211Z"
    }
   },
   "outputs": [
    {
     "name": "stdout",
     "output_type": "stream",
     "text": [
      "Done\n"
     ]
    }
   ],
   "source": [
    "modify_element(tweet_id=666287406224695296, n=9, d=10)"
   ]
  },
  {
   "cell_type": "code",
   "execution_count": 83,
   "id": "40567cb7",
   "metadata": {
    "ExecuteTime": {
     "end_time": "2022-11-12T06:12:22.971614Z",
     "start_time": "2022-11-12T06:12:22.929609Z"
    }
   },
   "outputs": [
    {
     "data": {
      "text/html": [
       "<div>\n",
       "<style scoped>\n",
       "    .dataframe tbody tr th:only-of-type {\n",
       "        vertical-align: middle;\n",
       "    }\n",
       "\n",
       "    .dataframe tbody tr th {\n",
       "        vertical-align: top;\n",
       "    }\n",
       "\n",
       "    .dataframe thead th {\n",
       "        text-align: right;\n",
       "    }\n",
       "</style>\n",
       "<table border=\"1\" class=\"dataframe\">\n",
       "  <thead>\n",
       "    <tr style=\"text-align: right;\">\n",
       "      <th></th>\n",
       "      <th>tweet_id</th>\n",
       "      <th>in_reply_to_status_id</th>\n",
       "      <th>in_reply_to_user_id</th>\n",
       "      <th>timestamp</th>\n",
       "      <th>source</th>\n",
       "      <th>text</th>\n",
       "      <th>retweeted_status_id</th>\n",
       "      <th>retweeted_status_user_id</th>\n",
       "      <th>retweeted_status_timestamp</th>\n",
       "      <th>expanded_urls</th>\n",
       "      <th>rating_numerator</th>\n",
       "      <th>rating_denominator</th>\n",
       "      <th>name</th>\n",
       "      <th>dog_stage</th>\n",
       "      <th>tweet_url</th>\n",
       "    </tr>\n",
       "  </thead>\n",
       "  <tbody>\n",
       "    <tr>\n",
       "      <th>2335</th>\n",
       "      <td>666287406224695296</td>\n",
       "      <td>NaN</td>\n",
       "      <td>NaN</td>\n",
       "      <td>2015-11-16 16:11:11 +0000</td>\n",
       "      <td>&lt;a href=\"http://twitter.com/download/iphone\" rel=\"nofollow\"&gt;Twitter for iPhone&lt;/a&gt;</td>\n",
       "      <td>This is an Albanian 3 1/2 legged  Episcopalian. Loves well-polished hardwood flooring. Penis on the collar. 9/10 .</td>\n",
       "      <td>NaN</td>\n",
       "      <td>NaN</td>\n",
       "      <td>NaN</td>\n",
       "      <td>https://twitter.com/dog_rates/status/666287406224695296/photo/1</td>\n",
       "      <td>9</td>\n",
       "      <td>10</td>\n",
       "      <td>an</td>\n",
       "      <td>None</td>\n",
       "      <td>https://t.co/d9NcXFKwLv</td>\n",
       "    </tr>\n",
       "  </tbody>\n",
       "</table>\n",
       "</div>"
      ],
      "text/plain": [
       "                tweet_id  in_reply_to_status_id  in_reply_to_user_id  \\\n",
       "2335  666287406224695296                    NaN                  NaN   \n",
       "\n",
       "                      timestamp  \\\n",
       "2335  2015-11-16 16:11:11 +0000   \n",
       "\n",
       "                                                                                  source  \\\n",
       "2335  <a href=\"http://twitter.com/download/iphone\" rel=\"nofollow\">Twitter for iPhone</a>   \n",
       "\n",
       "                                                                                                                    text  \\\n",
       "2335  This is an Albanian 3 1/2 legged  Episcopalian. Loves well-polished hardwood flooring. Penis on the collar. 9/10 .   \n",
       "\n",
       "      retweeted_status_id  retweeted_status_user_id  \\\n",
       "2335                  NaN                       NaN   \n",
       "\n",
       "     retweeted_status_timestamp  \\\n",
       "2335                        NaN   \n",
       "\n",
       "                                                        expanded_urls  \\\n",
       "2335  https://twitter.com/dog_rates/status/666287406224695296/photo/1   \n",
       "\n",
       "      rating_numerator  rating_denominator name dog_stage  \\\n",
       "2335                 9                  10   an      None   \n",
       "\n",
       "                    tweet_url  \n",
       "2335  https://t.co/d9NcXFKwLv  "
      ]
     },
     "execution_count": 83,
     "metadata": {},
     "output_type": "execute_result"
    }
   ],
   "source": [
    "# After Cleaning\n",
    "df_twitter[df_twitter[\"tweet_id\"]==666287406224695296]"
   ]
  },
  {
   "cell_type": "markdown",
   "id": "bf0d40db",
   "metadata": {},
   "source": [
    "##### 13. Replace 5  in rating_numerator columns with 8  for tweet_id: 674646392044941312 using the `modify_element` function"
   ]
  },
  {
   "cell_type": "code",
   "execution_count": 84,
   "id": "ae0a2257",
   "metadata": {
    "ExecuteTime": {
     "end_time": "2022-11-12T06:13:03.942368Z",
     "start_time": "2022-11-12T06:13:03.899364Z"
    }
   },
   "outputs": [
    {
     "data": {
      "text/html": [
       "<div>\n",
       "<style scoped>\n",
       "    .dataframe tbody tr th:only-of-type {\n",
       "        vertical-align: middle;\n",
       "    }\n",
       "\n",
       "    .dataframe tbody tr th {\n",
       "        vertical-align: top;\n",
       "    }\n",
       "\n",
       "    .dataframe thead th {\n",
       "        text-align: right;\n",
       "    }\n",
       "</style>\n",
       "<table border=\"1\" class=\"dataframe\">\n",
       "  <thead>\n",
       "    <tr style=\"text-align: right;\">\n",
       "      <th></th>\n",
       "      <th>tweet_id</th>\n",
       "      <th>in_reply_to_status_id</th>\n",
       "      <th>in_reply_to_user_id</th>\n",
       "      <th>timestamp</th>\n",
       "      <th>source</th>\n",
       "      <th>text</th>\n",
       "      <th>retweeted_status_id</th>\n",
       "      <th>retweeted_status_user_id</th>\n",
       "      <th>retweeted_status_timestamp</th>\n",
       "      <th>expanded_urls</th>\n",
       "      <th>rating_numerator</th>\n",
       "      <th>rating_denominator</th>\n",
       "      <th>name</th>\n",
       "      <th>dog_stage</th>\n",
       "      <th>tweet_url</th>\n",
       "    </tr>\n",
       "  </thead>\n",
       "  <tbody>\n",
       "    <tr>\n",
       "      <th>1901</th>\n",
       "      <td>674646392044941312</td>\n",
       "      <td>NaN</td>\n",
       "      <td>NaN</td>\n",
       "      <td>2015-12-09 17:46:48 +0000</td>\n",
       "      <td>&lt;a href=\"http://twitter.com/download/iphone\" rel=\"nofollow\"&gt;Twitter for iPhone&lt;/a&gt;</td>\n",
       "      <td>Two gorgeous dogs here. Little waddling dog is a rebel. Refuses to look at camera. Must be a preteen. 5/10 &amp;amp; 8/10 .</td>\n",
       "      <td>NaN</td>\n",
       "      <td>NaN</td>\n",
       "      <td>NaN</td>\n",
       "      <td>https://twitter.com/dog_rates/status/674646392044941312/photo/1</td>\n",
       "      <td>5</td>\n",
       "      <td>10</td>\n",
       "      <td>None</td>\n",
       "      <td>None</td>\n",
       "      <td>https://t.co/YPfw7oahbD</td>\n",
       "    </tr>\n",
       "  </tbody>\n",
       "</table>\n",
       "</div>"
      ],
      "text/plain": [
       "                tweet_id  in_reply_to_status_id  in_reply_to_user_id  \\\n",
       "1901  674646392044941312                    NaN                  NaN   \n",
       "\n",
       "                      timestamp  \\\n",
       "1901  2015-12-09 17:46:48 +0000   \n",
       "\n",
       "                                                                                  source  \\\n",
       "1901  <a href=\"http://twitter.com/download/iphone\" rel=\"nofollow\">Twitter for iPhone</a>   \n",
       "\n",
       "                                                                                                                         text  \\\n",
       "1901  Two gorgeous dogs here. Little waddling dog is a rebel. Refuses to look at camera. Must be a preteen. 5/10 &amp; 8/10 .   \n",
       "\n",
       "      retweeted_status_id  retweeted_status_user_id  \\\n",
       "1901                  NaN                       NaN   \n",
       "\n",
       "     retweeted_status_timestamp  \\\n",
       "1901                        NaN   \n",
       "\n",
       "                                                        expanded_urls  \\\n",
       "1901  https://twitter.com/dog_rates/status/674646392044941312/photo/1   \n",
       "\n",
       "      rating_numerator  rating_denominator  name dog_stage  \\\n",
       "1901                 5                  10  None      None   \n",
       "\n",
       "                    tweet_url  \n",
       "1901  https://t.co/YPfw7oahbD  "
      ]
     },
     "execution_count": 84,
     "metadata": {},
     "output_type": "execute_result"
    }
   ],
   "source": [
    "# Before Cleaning\n",
    "df_twitter[df_twitter[\"tweet_id\"]==674646392044941312]"
   ]
  },
  {
   "cell_type": "markdown",
   "id": "69d5d3c5",
   "metadata": {},
   "source": [
    "#### Code"
   ]
  },
  {
   "cell_type": "code",
   "execution_count": 85,
   "id": "8de1a7ca",
   "metadata": {
    "ExecuteTime": {
     "end_time": "2022-11-12T06:13:35.153587Z",
     "start_time": "2022-11-12T06:13:35.132591Z"
    }
   },
   "outputs": [
    {
     "name": "stdout",
     "output_type": "stream",
     "text": [
      "Done\n"
     ]
    }
   ],
   "source": [
    "modify_element(tweet_id=674646392044941312, n=8)"
   ]
  },
  {
   "cell_type": "markdown",
   "id": "d627ea99",
   "metadata": {},
   "source": [
    "#### Test"
   ]
  },
  {
   "cell_type": "code",
   "execution_count": 86,
   "id": "680e17b9",
   "metadata": {
    "ExecuteTime": {
     "end_time": "2022-11-12T06:14:11.220936Z",
     "start_time": "2022-11-12T06:14:11.177933Z"
    }
   },
   "outputs": [
    {
     "data": {
      "text/html": [
       "<div>\n",
       "<style scoped>\n",
       "    .dataframe tbody tr th:only-of-type {\n",
       "        vertical-align: middle;\n",
       "    }\n",
       "\n",
       "    .dataframe tbody tr th {\n",
       "        vertical-align: top;\n",
       "    }\n",
       "\n",
       "    .dataframe thead th {\n",
       "        text-align: right;\n",
       "    }\n",
       "</style>\n",
       "<table border=\"1\" class=\"dataframe\">\n",
       "  <thead>\n",
       "    <tr style=\"text-align: right;\">\n",
       "      <th></th>\n",
       "      <th>tweet_id</th>\n",
       "      <th>in_reply_to_status_id</th>\n",
       "      <th>in_reply_to_user_id</th>\n",
       "      <th>timestamp</th>\n",
       "      <th>source</th>\n",
       "      <th>text</th>\n",
       "      <th>retweeted_status_id</th>\n",
       "      <th>retweeted_status_user_id</th>\n",
       "      <th>retweeted_status_timestamp</th>\n",
       "      <th>expanded_urls</th>\n",
       "      <th>rating_numerator</th>\n",
       "      <th>rating_denominator</th>\n",
       "      <th>name</th>\n",
       "      <th>dog_stage</th>\n",
       "      <th>tweet_url</th>\n",
       "    </tr>\n",
       "  </thead>\n",
       "  <tbody>\n",
       "    <tr>\n",
       "      <th>1901</th>\n",
       "      <td>674646392044941312</td>\n",
       "      <td>NaN</td>\n",
       "      <td>NaN</td>\n",
       "      <td>2015-12-09 17:46:48 +0000</td>\n",
       "      <td>&lt;a href=\"http://twitter.com/download/iphone\" rel=\"nofollow\"&gt;Twitter for iPhone&lt;/a&gt;</td>\n",
       "      <td>Two gorgeous dogs here. Little waddling dog is a rebel. Refuses to look at camera. Must be a preteen. 5/10 &amp;amp; 8/10 .</td>\n",
       "      <td>NaN</td>\n",
       "      <td>NaN</td>\n",
       "      <td>NaN</td>\n",
       "      <td>https://twitter.com/dog_rates/status/674646392044941312/photo/1</td>\n",
       "      <td>8</td>\n",
       "      <td>10</td>\n",
       "      <td>None</td>\n",
       "      <td>None</td>\n",
       "      <td>https://t.co/YPfw7oahbD</td>\n",
       "    </tr>\n",
       "  </tbody>\n",
       "</table>\n",
       "</div>"
      ],
      "text/plain": [
       "                tweet_id  in_reply_to_status_id  in_reply_to_user_id  \\\n",
       "1901  674646392044941312                    NaN                  NaN   \n",
       "\n",
       "                      timestamp  \\\n",
       "1901  2015-12-09 17:46:48 +0000   \n",
       "\n",
       "                                                                                  source  \\\n",
       "1901  <a href=\"http://twitter.com/download/iphone\" rel=\"nofollow\">Twitter for iPhone</a>   \n",
       "\n",
       "                                                                                                                         text  \\\n",
       "1901  Two gorgeous dogs here. Little waddling dog is a rebel. Refuses to look at camera. Must be a preteen. 5/10 &amp; 8/10 .   \n",
       "\n",
       "      retweeted_status_id  retweeted_status_user_id  \\\n",
       "1901                  NaN                       NaN   \n",
       "\n",
       "     retweeted_status_timestamp  \\\n",
       "1901                        NaN   \n",
       "\n",
       "                                                        expanded_urls  \\\n",
       "1901  https://twitter.com/dog_rates/status/674646392044941312/photo/1   \n",
       "\n",
       "      rating_numerator  rating_denominator  name dog_stage  \\\n",
       "1901                 8                  10  None      None   \n",
       "\n",
       "                    tweet_url  \n",
       "1901  https://t.co/YPfw7oahbD  "
      ]
     },
     "execution_count": 86,
     "metadata": {},
     "output_type": "execute_result"
    }
   ],
   "source": [
    "# After Cleaning\n",
    "df_twitter[df_twitter[\"tweet_id\"]==674646392044941312]"
   ]
  },
  {
   "cell_type": "markdown",
   "id": "bcc60349",
   "metadata": {},
   "source": [
    "#### 14 Create a new dataframe where `in_reply_to_status_id` and `retweeted_status_id` columns in the `df_twitter` table is null using the pandas `isnull` function and vectorized operation. "
   ]
  },
  {
   "cell_type": "code",
   "execution_count": 87,
   "id": "32585a04",
   "metadata": {
    "ExecuteTime": {
     "end_time": "2022-11-12T06:17:01.706063Z",
     "start_time": "2022-11-12T06:17:01.694062Z"
    }
   },
   "outputs": [
    {
     "data": {
      "text/plain": [
       "(2356, 15)"
      ]
     },
     "execution_count": 87,
     "metadata": {},
     "output_type": "execute_result"
    }
   ],
   "source": [
    "#Before cleaning\n",
    "df_twitter.shape"
   ]
  },
  {
   "cell_type": "markdown",
   "id": "cf551167",
   "metadata": {},
   "source": [
    "#### Code"
   ]
  },
  {
   "cell_type": "code",
   "execution_count": 88,
   "id": "06c668dc",
   "metadata": {
    "ExecuteTime": {
     "end_time": "2022-11-12T06:17:14.632754Z",
     "start_time": "2022-11-12T06:17:14.605744Z"
    }
   },
   "outputs": [],
   "source": [
    "df_twitter = df_twitter[df_twitter[\"in_reply_to_status_id\"].isnull()]\n",
    "df_twitter = df_twitter[df_twitter[\"retweeted_status_id\"].isnull()]"
   ]
  },
  {
   "cell_type": "markdown",
   "id": "efb7b61e",
   "metadata": {},
   "source": [
    "#### Test"
   ]
  },
  {
   "cell_type": "code",
   "execution_count": 89,
   "id": "7c6f9602",
   "metadata": {
    "ExecuteTime": {
     "end_time": "2022-11-12T06:18:03.190831Z",
     "start_time": "2022-11-12T06:18:03.176838Z"
    }
   },
   "outputs": [
    {
     "data": {
      "text/plain": [
       "(2097, 15)"
      ]
     },
     "execution_count": 89,
     "metadata": {},
     "output_type": "execute_result"
    }
   ],
   "source": [
    "# After cleaning\n",
    "df_twitter.shape"
   ]
  },
  {
   "cell_type": "markdown",
   "id": "747cec4e",
   "metadata": {
    "ExecuteTime": {
     "end_time": "2022-11-12T06:19:10.303211Z",
     "start_time": "2022-11-12T06:19:10.295214Z"
    }
   },
   "source": [
    "#### Other Quality issues"
   ]
  },
  {
   "cell_type": "code",
   "execution_count": 90,
   "id": "fcdb6be8",
   "metadata": {
    "ExecuteTime": {
     "end_time": "2022-11-12T06:18:37.857428Z",
     "start_time": "2022-11-12T06:18:37.815434Z"
    }
   },
   "outputs": [
    {
     "name": "stdout",
     "output_type": "stream",
     "text": [
      "Done\n",
      "Done\n",
      "Done\n",
      "Done\n",
      "Done\n",
      "Done\n",
      "Done\n",
      "Done\n",
      "Done\n"
     ]
    }
   ],
   "source": [
    "# Other quality issues in the rating columns for the numerator and denominator \n",
    "# are also cleaned as shown below using the modify_element function\n",
    "modify_element(tweet_id=697463031882764288, n=11, d=10)\n",
    "modify_element(tweet_id=675853064436391936, n=11, d=10)\n",
    "modify_element(tweet_id=820690176645140481, n=12, d=10)\n",
    "modify_element(tweet_id=704054845121142784, n=12, d=10)\n",
    "modify_element(tweet_id=709198395643068416, n=9, d=10)\n",
    "modify_element(tweet_id=697463031882764288, n=11, d=10)\n",
    "modify_element(tweet_id=680494726643068929, n=11, d=10)\n",
    "modify_element(tweet_id=713900603437621249, n=9, d=10)\n",
    "modify_element(tweet_id=684222868335505415, n=11, d= 10)"
   ]
  },
  {
   "cell_type": "code",
   "execution_count": 92,
   "id": "3692b609",
   "metadata": {
    "ExecuteTime": {
     "end_time": "2022-11-12T06:20:11.007655Z",
     "start_time": "2022-11-12T06:20:10.917654Z"
    }
   },
   "outputs": [],
   "source": [
    "# Replace 0 rating in the rating_numerator and rating_denominator colunms with NaN Values.\n",
    "# The 0 rating was not actually for the dog but the sender on the basis of plagiarism\n",
    "df_twitter[\"rating_numerator\"].replace(0, np.nan, inplace=True)\n",
    "df_twitter[\"rating_denominator\"].replace(0, np.nan, inplace=True)"
   ]
  },
  {
   "cell_type": "markdown",
   "id": "89c7ffe8",
   "metadata": {},
   "source": [
    "## Storing Data\n",
    "Save gathered, assessed, and cleaned master dataset to a CSV file named \"twitter_archive_master.csv\"."
   ]
  },
  {
   "cell_type": "code",
   "execution_count": 93,
   "id": "459e31cc",
   "metadata": {
    "ExecuteTime": {
     "end_time": "2022-11-12T06:21:02.080953Z",
     "start_time": "2022-11-12T06:21:01.625311Z"
    }
   },
   "outputs": [],
   "source": [
    "# Merge all three dataset using pandas merge method\n",
    "\n",
    "merged_1 = pd.merge(df_predictions,df_twitter)\n",
    "twitter_archive_master = pd.merge(merged_1, df_counts, on=\"tweet_id\", how=\"left\")\n",
    "twitter_archive_master.to_csv(\"twitter_archive_master.csv\", index=False)"
   ]
  },
  {
   "cell_type": "code",
   "execution_count": null,
   "id": "9db27eb8",
   "metadata": {},
   "outputs": [],
   "source": []
  }
 ],
 "metadata": {
  "kernelspec": {
   "display_name": "Python 3 (ipykernel)",
   "language": "python",
   "name": "python3"
  },
  "language_info": {
   "codemirror_mode": {
    "name": "ipython",
    "version": 3
   },
   "file_extension": ".py",
   "mimetype": "text/x-python",
   "name": "python",
   "nbconvert_exporter": "python",
   "pygments_lexer": "ipython3",
   "version": "3.7.13"
  }
 },
 "nbformat": 4,
 "nbformat_minor": 5
}
