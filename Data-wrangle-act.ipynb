{
 "cells": [
  {
   "cell_type": "markdown",
   "id": "6a30943c",
   "metadata": {},
   "source": [
    "# Project: Wrangling and Analyze Data"
   ]
  },
  {
   "cell_type": "code",
   "execution_count": 1,
   "id": "3d8ee37c",
   "metadata": {
    "ExecuteTime": {
     "end_time": "2022-11-12T01:41:50.662058Z",
     "start_time": "2022-11-12T01:41:10.659580Z"
    }
   },
   "outputs": [],
   "source": [
    "import pandas as pd\n",
    "import numpy as np\n",
    "import matplotlib.pyplot as plt\n",
    "import seaborn\n",
    "import requests\n",
    "import json\n",
    "from tweepy import OAuthHandler\n",
    "from timeit import default_timer as timer\n",
    "import tweepy\n",
    "import re\n",
    "import seaborn as sns\n",
    "%matplotlib inline "
   ]
  },
  {
   "cell_type": "markdown",
   "id": "32e18ef3",
   "metadata": {},
   "source": [
    "## Data Gathering\n",
    "In the cell below, gather **all** three pieces of data for this project and load them in the notebook. **Note:** the methods required to gather each data are different.\n",
    "1. Directly download the WeRateDogs Twitter archive data (twitter_archive_enhanced.csv)"
   ]
  },
  {
   "cell_type": "code",
   "execution_count": 2,
   "id": "27a35324",
   "metadata": {
    "ExecuteTime": {
     "end_time": "2022-11-12T01:52:18.991612Z",
     "start_time": "2022-11-12T01:52:18.647881Z"
    }
   },
   "outputs": [],
   "source": [
    "twitter_enhanced = pd.read_csv(\"twitter-archive-enhanced.csv\")\n",
    "pd.set_option(\"display.max_colwidth\", None)"
   ]
  },
  {
   "cell_type": "markdown",
   "id": "8a69fc4e",
   "metadata": {
    "ExecuteTime": {
     "end_time": "2022-11-12T02:03:08.110609Z",
     "start_time": "2022-11-12T02:03:08.093612Z"
    }
   },
   "source": [
    "2. Use the Requests library to download the tweet image prediction (image_predictions.tsv)"
   ]
  },
  {
   "cell_type": "code",
   "execution_count": 4,
   "id": "3048b54f",
   "metadata": {
    "ExecuteTime": {
     "end_time": "2022-11-12T02:03:36.929574Z",
     "start_time": "2022-11-12T02:03:35.056761Z"
    }
   },
   "outputs": [],
   "source": [
    "url = \"https://d17h27t6h515a5.cloudfront.net/topher/2017/August/599fd2ad_image-predictions/image-predictions.tsv\"\n",
    "response = requests.get(url)\n",
    "\n",
    "with open(\"image_prediction.tsv\", mode= \"wb\") as file:\n",
    "    file.write(response.content)"
   ]
  },
  {
   "cell_type": "code",
   "execution_count": 5,
   "id": "c5751df7",
   "metadata": {
    "ExecuteTime": {
     "end_time": "2022-11-12T02:04:46.860344Z",
     "start_time": "2022-11-12T02:04:46.694875Z"
    }
   },
   "outputs": [
    {
     "name": "stderr",
     "output_type": "stream",
     "text": [
      "C:\\Users\\user\\anaconda3\\envs\\udacity_data_analyst_nanodegree\\lib\\site-packages\\IPython\\core\\interactiveshell.py:3457: FutureWarning: In a future version of pandas all arguments of read_csv except for the argument 'filepath_or_buffer' will be keyword-only\n",
      "  exec(code_obj, self.user_global_ns, self.user_ns)\n"
     ]
    }
   ],
   "source": [
    "image_prediction = pd.read_csv(\"image_prediction.tsv\", \"\\t\")"
   ]
  },
  {
   "cell_type": "markdown",
   "id": "afb31836",
   "metadata": {},
   "source": [
    "3. Use the Tweepy library to query additional data via the Twitter API (tweet_json.txt)"
   ]
  },
  {
   "cell_type": "code",
   "execution_count": null,
   "id": "1500a0af",
   "metadata": {},
   "outputs": [],
   "source": [
    "with open (\"twitter_verification.txt\",\"r\") as token:\n",
    "    consumer_key = token.readline().split(\":\")[1].strip()\n",
    "    consumer_secret = token.readline().split(\":\")[1].strip()\n",
    "    access_token = token.readline().split(\":\")[1].strip()\n",
    "    access_token_secret = token.readline().split(\":\")[1].strip()\n",
    "    \n",
    "auth = tweepy.OAuthHandler(consumer_key, consumer_secret)\n",
    "auth.set_access_token(access_token, access_token_secret)\n",
    "\n",
    "api = tweepy.API(auth)"
   ]
  }
 ],
 "metadata": {
  "kernelspec": {
   "display_name": "Python 3 (ipykernel)",
   "language": "python",
   "name": "python3"
  },
  "language_info": {
   "codemirror_mode": {
    "name": "ipython",
    "version": 3
   },
   "file_extension": ".py",
   "mimetype": "text/x-python",
   "name": "python",
   "nbconvert_exporter": "python",
   "pygments_lexer": "ipython3",
   "version": "3.7.13"
  }
 },
 "nbformat": 4,
 "nbformat_minor": 5
}
